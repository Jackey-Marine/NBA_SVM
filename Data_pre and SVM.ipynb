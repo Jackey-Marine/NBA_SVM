{
 "cells": [
  {
   "cell_type": "markdown",
   "metadata": {},
   "source": [
    "# 本代码使用SVM的方法去预测NBA总冠军\n",
    "\n",
    "## 1 package import"
   ]
  },
  {
   "cell_type": "code",
   "execution_count": null,
   "metadata": {},
   "outputs": [],
   "source": [
    "import numpy as np\n",
    "import pandas as pd\n",
    "\n",
    "# for classification\n",
    "from sklearn import svm\n",
    "from sklearn.model_selection import train_test_split\n",
    "from sklearn.preprocessing import StandardScaler\n",
    "from sklearn.model_selection import GridSearchCV\n",
    "from sklearn.metrics import make_scorer, balanced_accuracy_score\n",
    "from sklearn.pipeline import make_pipeline\n",
    "\n",
    "# for Generator\n",
    "from scipy import stats\n",
    "from fitter import Fitter\n",
    "import copy\n",
    "\n",
    "# for Figure\n",
    "import matplotlib.pyplot as plt  # for visualization \n",
    "import seaborn as sns  # for coloring \n",
    "# set style of graphs\n",
    "plt.style.use('dark_background')\n",
    "from pylab import rcParams\n",
    "rcParams['figure.figsize'] = 10, 5"
   ]
  },
  {
   "cell_type": "markdown",
   "metadata": {},
   "source": [
    "## 2 Data preprocessing"
   ]
  },
  {
   "cell_type": "code",
   "execution_count": null,
   "metadata": {},
   "outputs": [],
   "source": [
    "df = pd.read_csv(\"NBA_SVM/data/teams.csv\")\n",
    "df.head()"
   ]
  }
 ],
 "metadata": {
  "kernelspec": {
   "display_name": "Python 3.7.13 ('SVMenv')",
   "language": "python",
   "name": "python3"
  },
  "language_info": {
   "name": "python",
   "version": "3.7.13"
  },
  "orig_nbformat": 4,
  "vscode": {
   "interpreter": {
    "hash": "839b2627ce7e102e9ca969ecf3bd7d668dd226554b4f63181f9213b8f7057d8d"
   }
  }
 },
 "nbformat": 4,
 "nbformat_minor": 2
}
