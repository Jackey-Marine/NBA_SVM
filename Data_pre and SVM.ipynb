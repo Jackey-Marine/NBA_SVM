{
 "cells": [
  {
   "cell_type": "markdown",
   "metadata": {},
   "source": [
    "# predict NBA Champion by SVM\n",
    "\n",
    "## 0 pip list"
   ]
  },
  {
   "cell_type": "code",
   "execution_count": null,
   "metadata": {},
   "outputs": [],
   "source": [
    "# env\n",
    "import sys\n",
    "print(sys.version)\n",
    "!pip list"
   ]
  },
  {
   "cell_type": "markdown",
   "metadata": {},
   "source": [
    "## 1 package import"
   ]
  },
  {
   "cell_type": "code",
   "execution_count": null,
   "metadata": {},
   "outputs": [],
   "source": [
    "import numpy as np\n",
    "import pandas as pd\n",
    "\n",
    "# for classification\n",
    "from sklearn import svm\n",
    "from sklearn.model_selection import train_test_split\n",
    "from sklearn.preprocessing import StandardScaler\n",
    "from sklearn.model_selection import GridSearchCV\n",
    "from sklearn.metrics import make_scorer, balanced_accuracy_score\n",
    "from sklearn.pipeline import make_pipeline\n",
    "\n",
    "# for Generator\n",
    "from scipy import stats\n",
    "from fitter import Fitter\n",
    "import copy\n",
    "\n",
    "# for visualization \n",
    "import matplotlib.pyplot as plt\n",
    "# for coloring \n",
    "import seaborn as sns\n",
    "# set style of graphs\n",
    "plt.style.use('seaborn-paper')\n",
    "from pylab import rcParams\n",
    "rcParams['figure.figsize'] = 10, 5"
   ]
  },
  {
   "cell_type": "markdown",
   "metadata": {},
   "source": [
    "## 2 Data cleaning and preprocessing"
   ]
  },
  {
   "cell_type": "code",
   "execution_count": null,
   "metadata": {},
   "outputs": [],
   "source": [
    "# load data\n",
    "df = pd.read_csv(\"./data/games.csv\")\n",
    "df.head()"
   ]
  },
  {
   "cell_type": "code",
   "execution_count": null,
   "metadata": {},
   "outputs": [],
   "source": [
    "# Total number of games played in each season\n",
    "fig, ax = plt.subplots()\n",
    "v_c = df['SEASON'].value_counts().sort_index()\n",
    "v_c.index = v_c.index.astype(str)\n",
    "ax.bar(v_c.index, v_c.values)\n",
    "plt.title(\"Total number of games played in each season\")\n",
    "plt.show()"
   ]
  },
  {
   "cell_type": "code",
   "execution_count": null,
   "metadata": {},
   "outputs": [],
   "source": [
    "# Home team win probability\n",
    "fig, ax = plt.subplots(figsize=(2,4))\n",
    "v_c = df['HOME_TEAM_WINS'].value_counts(normalize=True)\n",
    "v_c.index = v_c.index.astype(str)\n",
    "ax.bar(v_c.index, v_c.values, 0.8)\n",
    "for i in ax.patches:\n",
    "    x, y = i.get_x(), i.get_y()\n",
    "    w, h = i.get_width(), i.get_height()\n",
    "\n",
    "    val = str(round(h*100,1)) + '%' \n",
    "\n",
    "    ax.text(x + w/2, y + h/2, val,\n",
    "            horizontalalignment='center', verticalalignment='center',\n",
    "            fontsize=13, color='white')\n",
    "plt.title(\"Home team win probability\")\n",
    "plt.show()"
   ]
  },
  {
   "cell_type": "code",
   "execution_count": null,
   "metadata": {},
   "outputs": [],
   "source": [
    "# # sort data by GAME_DATA_EST\n",
    "df = df.sort_values(by='GAME_DATE_EST').reset_index(drop = True)\n",
    "# drop NaN data and check\n",
    "df = df.loc[df['GAME_DATE_EST'] >= \"2004-01-01\"].reset_index(drop=True)\n",
    "df.head()"
   ]
  },
  {
   "cell_type": "code",
   "execution_count": null,
   "metadata": {},
   "outputs": [],
   "source": [
    "# replace Team ID with Names\n",
    "df_names = pd.read_csv('./data/teams.csv')\n",
    "df_names.head()"
   ]
  },
  {
   "cell_type": "code",
   "execution_count": null,
   "metadata": {},
   "outputs": [],
   "source": [
    "# replace 'HOME_TEAM_ID' and 'VISITOR_TEAM_ID' with names in df_names\n",
    "df_names = df_names[['TEAM_ID', 'NICKNAME']]\n",
    "# replace 'HOME_TEAM_ID'\n",
    "home_names = df_names.copy()\n",
    "home_names.columns = ['HOME_TEAM_ID', 'NICKNAME']\n",
    "result_1 = pd.merge(df['HOME_TEAM_ID'], home_names, how =\"left\", on=\"HOME_TEAM_ID\")  \n",
    "df['HOME_TEAM_ID'] = result_1['NICKNAME']\n",
    "# replace 'VISITOR_TEAM_ID'\n",
    "visitor_names = df_names.copy()\n",
    "visitor_names.columns = ['VISITOR_TEAM_ID', 'NICKNAME']\n",
    "result_2 = pd.merge(df['VISITOR_TEAM_ID'], visitor_names, how = \"left\", on=\"VISITOR_TEAM_ID\")\n",
    "df['VISITOR_TEAM_ID'] = result_2['NICKNAME']\n",
    "print(df)"
   ]
  },
  {
   "cell_type": "markdown",
   "metadata": {},
   "source": [
    "## 3 Segmentation of Data Set\n",
    "\n",
    "We want to try and predict the 2020-2021 NBA play off results starting 2021-08 hence, this portion of the data is the test data set and others are the train data set."
   ]
  },
  {
   "cell_type": "code",
   "execution_count": null,
   "metadata": {},
   "outputs": [],
   "source": [
    "df = df.loc[df['GAME_DATE_EST'] < '2021-08-01'].reset_index(drop=True)"
   ]
  },
  {
   "cell_type": "markdown",
   "metadata": {},
   "source": [
    "## 4 Features selection"
   ]
  },
  {
   "cell_type": "code",
   "execution_count": null,
   "metadata": {},
   "outputs": [],
   "source": [
    "# list all features\n",
    "feature_list = list(df.columns)\n",
    "feature_list"
   ]
  },
  {
   "cell_type": "code",
   "execution_count": null,
   "metadata": {},
   "outputs": [],
   "source": [
    "# The correlation coefficient of the features\n",
    "corr = df[feature_list].corr()\n",
    "\n",
    "fig, ax = plt.subplots(figsize=(10, 10))\n",
    "\n",
    "# Generate a custom diverging colormap\n",
    "cmap = sns.diverging_palette(230, 20, as_cmap=True)\n",
    "\n",
    "# Draw the heatmap with the mask and correct aspect ratio\n",
    "sns.heatmap(corr, vmax=1, center=0, vmin=-1, cmap=cmap,\n",
    "            square=True, linewidths=.5, cbar_kws={\"shrink\": .5})\n",
    "\n",
    "plt.show()"
   ]
  },
  {
   "cell_type": "code",
   "execution_count": null,
   "metadata": {},
   "outputs": [],
   "source": [
    "# selecte features\n",
    "selected_features = [\n",
    "    'FG_PCT_home', 'FT_PCT_home', 'FG3_PCT_home', 'AST_home', 'REB_home',\n",
    "    'FG_PCT_away', 'FT_PCT_away', 'FG3_PCT_away', 'AST_away', 'REB_away',\n",
    "    ]\n",
    "X = df[selected_features]\n",
    "X.head()"
   ]
  },
  {
   "cell_type": "code",
   "execution_count": null,
   "metadata": {},
   "outputs": [],
   "source": [
    "# check the targets\n",
    "y = df['HOME_TEAM_WINS']\n",
    "y.head()"
   ]
  },
  {
   "cell_type": "code",
   "execution_count": null,
   "metadata": {},
   "outputs": [],
   "source": [
    "# turn data into numpy arrays for training\n",
    "X = X.to_numpy()\n",
    "y = y.to_numpy()"
   ]
  },
  {
   "cell_type": "markdown",
   "metadata": {},
   "source": [
    "## 5 Fitting SVM"
   ]
  },
  {
   "cell_type": "code",
   "execution_count": null,
   "metadata": {},
   "outputs": [],
   "source": [
    "# train test split\n",
    "X_train, X_test, y_train, y_test = train_test_split(\n",
    "    X, \n",
    "    y, \n",
    "    test_size = 0.3, random_state = 42)\n",
    "\n",
    "print(\"X shape\", X_train.shape, \"y shape\", y_train.shape)"
   ]
  },
  {
   "cell_type": "code",
   "execution_count": null,
   "metadata": {},
   "outputs": [],
   "source": [
    "# feature scaling\n",
    "scaler = StandardScaler()\n",
    "X_train = scaler.fit_transform(X_train)"
   ]
  },
  {
   "cell_type": "code",
   "execution_count": null,
   "metadata": {},
   "outputs": [],
   "source": [
    "# train SVM\n",
    "clf = svm.SVC(kernel='linear') # initialize a model\n",
    "clf.fit(X_train, y_train) # fit(train) it with the training data and targets\n",
    "\n",
    "# check test score \n",
    "y_pred = clf.predict(X_test) \n",
    "print('balanced accuracy score:', balanced_accuracy_score(y_test, y_pred)) "
   ]
  },
  {
   "cell_type": "code",
   "execution_count": null,
   "metadata": {},
   "outputs": [],
   "source": [
    "# fine-tuning hyperparameters\n",
    "scoring = make_scorer(balanced_accuracy_score)\n",
    "param_grid = {'C': [0.1, 1, 10],  \n",
    "              'gamma': [1,0.1,0.01]}\n",
    "\n",
    "grid = GridSearchCV(svm.SVC(kernel='linear'), param_grid, scoring = scoring, refit=True, verbose=2) \n",
    "grid.fit(X_train, y_train)"
   ]
  },
  {
   "cell_type": "code",
   "execution_count": null,
   "metadata": {},
   "outputs": [],
   "source": [
    "# print the best model's hyperparameters\n",
    "Dis = grid.best_estimator_\n",
    "print(Dis)"
   ]
  },
  {
   "cell_type": "markdown",
   "metadata": {},
   "source": [
    "## 6 Fitting a Generator"
   ]
  },
  {
   "cell_type": "code",
   "execution_count": null,
   "metadata": {},
   "outputs": [],
   "source": [
    "df_ = df.loc[df['GAME_DATE_EST'] > '2020-10-01'].reset_index(drop=True)\n",
    "df_.head()"
   ]
  },
  {
   "cell_type": "code",
   "execution_count": null,
   "metadata": {},
   "outputs": [],
   "source": [
    "# define the list of common distributions for fitting\n",
    "selected_distributions = [\n",
    "    'norm','t', 'f', 'chi', 'cosine', 'alpha', \n",
    "    'beta', 'gamma', 'dgamma', 'dweibull',\n",
    "    'maxwell', 'pareto', 'fisk']\n",
    "\n",
    "# extract all the unique teams\n",
    "unique_teams = df['HOME_TEAM_ID'].unique()\n",
    "\n",
    "# Get all the data for teams\n",
    "all_team_sim_data = {}\n",
    "\n",
    "for team_name in unique_teams:\n",
    "    \n",
    "    # find games where the team is either the host or guest\n",
    "    df_team = df_.loc[(df_['HOME_TEAM_ID'] == team_name) | (df_['VISITOR_TEAM_ID'] == team_name)]\n",
    "    df_1 = df_team.loc[df_team['HOME_TEAM_ID'] == team_name][selected_features[:5]]\n",
    "    df_0 = df_team.loc[df_team['VISITOR_TEAM_ID'] == team_name][selected_features[5:]]\n",
    "\n",
    "    # combine df_0 and df_1\n",
    "    df_0.columns = df_1.columns\n",
    "    df_s = pd.concat([df_1, df_0], axis = 0)\n",
    "    \n",
    "    # convert the pandas.DataFrame to numpy array\n",
    "    all_team_sim_data[team_name] = df_s.to_numpy()"
   ]
  },
  {
   "cell_type": "code",
   "execution_count": null,
   "metadata": {},
   "outputs": [],
   "source": [
    "megadata = {} # store the data that our Generator will rely on\n",
    "\n",
    "for team_name in unique_teams:\n",
    "    \n",
    "    feature_dis_paras = []\n",
    "    data = all_team_sim_data[team_name]\n",
    "    \n",
    "    # 5 features for each team\n",
    "    for i in range(5): \n",
    "        f = Fitter(data[:, i])\n",
    "        f.distributions = selected_distributions\n",
    "        f.fit()\n",
    "        best_paras = f.get_best(method='sumsquare_error')\n",
    "        feature_dis_paras.append(best_paras)\n",
    "        \n",
    "    megadata[team_name] = feature_dis_paras\n",
    "    \n",
    "print('Features for all teams have been fitted!')"
   ]
  },
  {
   "cell_type": "markdown",
   "metadata": {},
   "source": [
    "## 7 Simulation"
   ]
  },
  {
   "cell_type": "code",
   "execution_count": null,
   "metadata": {},
   "outputs": [],
   "source": [
    "DATA = megadata.copy() # data that Generator must rely on\n",
    "\n",
    "GEN = {\n",
    " 'alpha': stats.alpha.rvs,\n",
    " 'beta': stats.beta.rvs,\n",
    " 'chi': stats.chi.rvs,\n",
    " 'cosine': stats.cosine.rvs,\n",
    " 'dgamma': stats.dgamma.rvs,\n",
    " 'dweibull':stats.dweibull.rvs,\n",
    " 'f':stats.f.rvs,\n",
    " 'fisk':stats.fisk.rvs,\n",
    " 'gamma': stats.gamma.rvs,\n",
    " 'maxwell':stats.maxwell.rvs,\n",
    " 'norm':stats.norm.rvs,\n",
    " 'pareto':stats.pareto.rvs,\n",
    " 't':stats.t.rvs,\n",
    "}\n",
    "\n",
    "# feature scaler + fine-turned SVM \n",
    "DIS = make_pipeline(scaler, Dis)"
   ]
  },
  {
   "cell_type": "code",
   "execution_count": null,
   "metadata": {},
   "outputs": [],
   "source": [
    "class Game:\n",
    "    \n",
    "    '''\n",
    "    \n",
    "    A game between two teams:\n",
    "    \n",
    "    - feature values sampled from Generator\n",
    "    - win/loss predicted by Discriminator\n",
    "    \n",
    "    '''\n",
    "    \n",
    "    def __init__ (self, random_state = None):\n",
    "        \n",
    "        self.random_state = random_state # keep this to None for making simulations \n",
    "    \n",
    "    def predict(self, team1, team2, num_games = 1):\n",
    "        \n",
    "        ''' predict the win or loss of  n game(s) played by two tems'''\n",
    "        \n",
    "        assert num_games >= 1, \"at least one game must be played\"\n",
    "        # output numpy array\n",
    "        team_1_feature_data = DATA[team1]\n",
    "        team_2_feature_data = DATA[team2]\n",
    "        features = []\n",
    "        for feature_paras_1 in team_1_feature_data:\n",
    "            sample_1 = self.sampling(feature_paras_1, size = num_games) # gives a list if num_games> 1\n",
    "            features.append(sample_1) \n",
    "            \n",
    "        for feature_paras_2 in team_2_feature_data:\n",
    "            sample_2 = self.sampling(feature_paras_2, size = num_games) # gives a list if num_games> 1\n",
    "            features.append(sample_2)\n",
    "            \n",
    "        features = np.array(features).T \n",
    "        win_loss = DIS.predict(features)\n",
    "        \n",
    "        return list(win_loss) # a list of win/loss from num_games\n",
    "    \n",
    "    \n",
    "    def sampling(self, dic, size = 1, random_state = None):\n",
    "        \n",
    "        '''generate feature values used for making win/loss prediction'''\n",
    "                        \n",
    "        dis_name = list(dic.keys())[0] # get the type\n",
    "        paras = list(dic.values())[0] # get the paras\n",
    "    \n",
    "        # get sample\n",
    "        sample = GEN[dis_name](*paras, size = size,  random_state =  random_state)\n",
    "            \n",
    "        return sample "
   ]
  },
  {
   "cell_type": "code",
   "execution_count": null,
   "metadata": {},
   "outputs": [],
   "source": [
    "class FinalTournament(Game):\n",
    "    \n",
    "    ''' Best-of-7 elimination, 16 teams, 4 rounds in total to win championship '''\n",
    "    \n",
    "    def __init__(self, n_games_per_group = 7, winning_threshold = 4, random_state = None):\n",
    "\n",
    "        self.n_games_per_group  = n_games_per_group\n",
    "        self.winning_threshold = winning_threshold\n",
    "        self.team_list = None\n",
    "        self.rounds = {} # keep track the number of times a team wins at each round \n",
    "        super().__init__(random_state)\n",
    "        \n",
    "    \n",
    "    def simulate(self, group_list, n_simulation = 1, probs = True):\n",
    "        \n",
    "        ''' simulate the entire playoff n times and also record the accumulated wins'''\n",
    "             \n",
    "        # update the list of teams\n",
    "        self.rounds = {}\n",
    "        self.team_list = [i[0] for i in group_list] + [i[1] for i in group_list]\n",
    "        \n",
    "        for i in range(n_simulation):\n",
    "            cham = self.one_time_simu(group_list)\n",
    "        if probs:\n",
    "            self.rounds_probs =  self._compute_probs()\n",
    "            \n",
    "    \n",
    "    def one_time_simu(self, group_list, verbose = False, probs = False):\n",
    "        \n",
    "        ''' simulate the entire playoff once and also record the accumulated wins'''\n",
    "        \n",
    "        # update the list of teams if haven't done so\n",
    "        if self.team_list == None: \n",
    "            self.team_list = [i[0] for i in group_list] + [i[1] for i in group_list]\n",
    "        round_number, done = 0, 0\n",
    "        while not done: \n",
    "            all_group_winners, group_list = self.play_round(group_list)\n",
    "            # retrive round stats\n",
    "            try:\n",
    "                updated_round_stats = self.rounds[round_number]\n",
    "            except KeyError:\n",
    "                updated_round_stats = {}\n",
    "                for team in self.team_list:\n",
    "                    updated_round_stats[team] = 0\n",
    "            # if a team wins, record + 1 \n",
    "            for winner in all_group_winners:\n",
    "                try: \n",
    "                    updated_round_stats[winner] += 1\n",
    "                except KeyError:\n",
    "                    pass     \n",
    "            self.rounds[round_number] = updated_round_stats\n",
    "            if verbose:\n",
    "                print('{} round played'.format(round_number))\n",
    "            if probs:\n",
    "                self.rounds_probs = self._compute_probs()\n",
    "            if type(group_list) != list: # if it becomes the final\n",
    "                done = 1\n",
    "            round_number += 1\n",
    "            \n",
    "        return group_list\n",
    "\n",
    "        \n",
    "    def play_round(self, group_list):\n",
    "        \n",
    "        '''play a round of games based of a list of paired teams'''\n",
    "        \n",
    "        all_group_winners = [] \n",
    "        # play each group and get the group winner\n",
    "        for group in group_list:\n",
    "            winner = self.play_n_games(group[0], group[1])\n",
    "            all_group_winners.append(winner)\n",
    "        \n",
    "        if len(all_group_winners) > 1:\n",
    "            new_group_list = []         \n",
    "            for index in range(0, len(all_group_winners), 2):\n",
    "                # first winner, second winner\n",
    "                new_group = [all_group_winners[index], all_group_winners[index + 1]]\n",
    "                new_group_list.append(new_group)\n",
    "                \n",
    "            return all_group_winners, new_group_list\n",
    "        else:  \n",
    "            return all_group_winners, winner\n",
    "        \n",
    "        \n",
    "    def play_n_games(self, team1, team2):\n",
    "        \n",
    "        '''simulate data, and then use our classifier to predict win/loss'''\n",
    "        \n",
    "        result = Game().predict(team1, team2, self.n_games_per_group)\n",
    "        if sum(result[:4]) == self.winning_threshold or sum(result) >= self.winning_threshold:\n",
    "            winner = team1 # home team wins\n",
    "        else:\n",
    "            winner = team2 # visitor team wins\n",
    "            \n",
    "        return winner\n",
    "    \n",
    "    \n",
    "    def _compute_probs(self):\n",
    "        \n",
    "        '''prob = wins for a team / sum of wins for all teams at a particular round'''\n",
    "        \n",
    "        rounds_probs = copy.deepcopy(self.rounds)\n",
    "        for round_number, round_stats in rounds_probs.items():\n",
    "            m = np.sum(list(round_stats.values()))\n",
    "            for k, v in rounds_probs[round_number].items():\n",
    "                rounds_probs[round_number][k] = v / m\n",
    "                \n",
    "        return rounds_probs"
   ]
  },
  {
   "cell_type": "code",
   "execution_count": null,
   "metadata": {},
   "outputs": [],
   "source": [
    "# the below roster is based on 2020-2021 NBA playoffs\n",
    "# https://en.wikipedia.org/wiki/2020%E2%80%9321_NBA_season\n",
    "\n",
    "group_list = [\n",
    "     # Eastern Conference\n",
    "     ('76ers', 'Wizards'),          # group A \n",
    "     ('Knicks', 'Hawks'),           # group B\n",
    "    \n",
    "     ('Bucks', 'Heat'),             # group C\n",
    "     ('Nets', 'Celtics'),           # group D\n",
    "    \n",
    "     # Western Conference\n",
    "     ('Jazz', 'Grizzlies'),         # group E\n",
    "     ('Clippers', 'Mavericks'),     # group F\n",
    "    \n",
    "     ('Nuggets', 'Trail Blazers'),  # group G\n",
    "     ('Suns', 'Lakers')]            # group H"
   ]
  },
  {
   "cell_type": "code",
   "execution_count": null,
   "metadata": {},
   "outputs": [],
   "source": [
    "# initiate a playoff\n",
    "playoff = FinalTournament()\n",
    "# simulate the playoff 5,000 times\n",
    "playoff.simulate(group_list, n_simulation = 5000)"
   ]
  },
  {
   "cell_type": "code",
   "execution_count": null,
   "metadata": {},
   "outputs": [],
   "source": [
    "# see the winning probabilities from 5,000 playoffs\n",
    "round_df = pd.DataFrame(playoff.rounds_probs)\n",
    "round_df"
   ]
  },
  {
   "cell_type": "markdown",
   "metadata": {},
   "source": [
    "## 8 Visualization"
   ]
  },
  {
   "cell_type": "code",
   "execution_count": null,
   "metadata": {},
   "outputs": [],
   "source": [
    "def plotting1(rounds_data):\n",
    "    \n",
    "    rounds_stats = list(rounds_data.values())\n",
    "    team_names = list(rounds_stats[0].keys())\n",
    "    \n",
    "    # x is number of rounds used for labels, y is a 2-D array of (n_teams, n_rounds) used for data\n",
    "    x = list(rounds_data.keys())\n",
    "    y = np.array([list(r.values()) for r in rounds_stats]).T \n",
    "    \n",
    "    # we need at least 16 different colors, one for each team\n",
    "    c_1 =  sns.color_palette('tab10', n_colors = 10)\n",
    "    c_2 =  sns.color_palette(\"pastel\", n_colors = 10)\n",
    "    color_map = c_1 + c_2 \n",
    "    \n",
    "    fig = plt.figure()\n",
    "    plt.stackplot(x, y, labels = team_names, colors = color_map) \n",
    "    plt.legend(bbox_to_anchor=(1.1, 1.1), loc = 'upper left', fontsize=13)\n",
    "    plt.xticks(x, fontsize=14)\n",
    "    plt.yticks(fontsize=14)\n",
    "    plt.xlabel('Round Number', fontsize = 15)\n",
    "    plt.title('Winning probabilities by all Teams & Rounds', pad = 20, fontsize = 24)\n",
    "    plt.tight_layout()\n",
    "    plt.show()\n",
    "    \n",
    "    return fig"
   ]
  },
  {
   "cell_type": "code",
   "execution_count": null,
   "metadata": {},
   "outputs": [],
   "source": [
    "def plotting2(rounds_data):\n",
    "    \n",
    "    rounds_stats = list(rounds_data.values())\n",
    "    team_names = list(rounds_stats[0].keys())\n",
    "    rounds_number = list(rounds_data.keys())\n",
    "    states = np.array([list(r.values()) for r in rounds_stats]).T\n",
    "    title_name = ['1 round' ,'2 round' ,'3 round' ,'4 round']\n",
    "    \n",
    "    fig = plt.figure(figsize=(16, 20))    \n",
    "    for i in rounds_number :\n",
    "        plt.subplot(4,1,i+1)\n",
    "        x = team_names\n",
    "        y = states[:,i]\n",
    "        plt.bar(x, y)\n",
    "        plt.xticks(x, fontsize=10)\n",
    "        plt.yticks(fontsize=10)\n",
    "        plt.ylabel('Winning probabilities', fontsize = 10)\n",
    "        plt.title(title_name[i], pad = 20, fontsize = 16) \n",
    "        for a,b,j in zip(x,y,range(len(x))):\n",
    "            plt.text(a,b+0.001,\"%.3f\"%y[j],ha='center',fontsize=10)\n",
    "\n",
    "    plt.show() \n",
    "    return fig"
   ]
  },
  {
   "cell_type": "code",
   "execution_count": null,
   "metadata": {},
   "outputs": [],
   "source": [
    "# check that a team's wins should get less and less in later rounds\n",
    "fig = plotting1(playoff.rounds)"
   ]
  },
  {
   "cell_type": "code",
   "execution_count": null,
   "metadata": {},
   "outputs": [],
   "source": [
    "# plot the results: probabilities of winning for all teams at each round\n",
    "fig = plotting1(playoff.rounds_probs)"
   ]
  },
  {
   "cell_type": "code",
   "execution_count": null,
   "metadata": {},
   "outputs": [],
   "source": [
    "# plot the results: probabilities of winning for all teams at each round\n",
    "fig = plotting2(playoff.rounds_probs)"
   ]
  },
  {
   "cell_type": "code",
   "execution_count": null,
   "metadata": {},
   "outputs": [],
   "source": [
    "# over all rounds winning probabilities\n",
    "overall_rounds_df = round_df\n",
    "overall_rounds_df[4] = (round_df[0] + round_df[1] + round_df[2] + round_df[3])/4\n",
    "overall_rounds_res = overall_rounds_df.sort_values(by=4,ascending=False)\n",
    "print('Over all rounds winning probabilities:')\n",
    "print(overall_rounds_res[4].head(5))\n",
    "\n",
    "# the final round winning probabilities\n",
    "final_round_res = round_df.sort_values(by=3,ascending=False)\n",
    "print('The final round winning probabilities:')\n",
    "print(final_round_res[3].head(5))"
   ]
  },
  {
   "cell_type": "markdown",
   "metadata": {},
   "source": [
    "## 9 Result\n",
    "\n",
    "| type | winner |  \n",
    "| :-: | :-:|\n",
    "| 模型预测结果 | Nets > Nuggets > Bucks |  \n",
    "| 实际比赛结果 | Bucks |"
   ]
  }
 ],
 "metadata": {
  "kernelspec": {
   "display_name": "Python 3.7.9 ('PYenv')",
   "language": "python",
   "name": "python3"
  },
  "language_info": {
   "codemirror_mode": {
    "name": "ipython",
    "version": 3
   },
   "file_extension": ".py",
   "mimetype": "text/x-python",
   "name": "python",
   "nbconvert_exporter": "python",
   "pygments_lexer": "ipython3",
   "version": "3.7.9"
  },
  "orig_nbformat": 4,
  "vscode": {
   "interpreter": {
    "hash": "284f23ca95f1c91dddf7ca4e850839d061806cc55f3144a2338c62c5a7ad7bbf"
   }
  }
 },
 "nbformat": 4,
 "nbformat_minor": 2
}
