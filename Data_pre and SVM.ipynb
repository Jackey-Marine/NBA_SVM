{
 "cells": [
  {
   "cell_type": "markdown",
   "metadata": {},
   "source": [
    "# predict NBA 🏆 by SVM\n",
    "\n",
    "## 1 package import"
   ]
  },
  {
   "cell_type": "code",
   "execution_count": 68,
   "metadata": {},
   "outputs": [
    {
     "name": "stdout",
     "output_type": "stream",
     "text": [
      "3.7.9 (default, Aug 31 2020, 17:10:11) [MSC v.1916 64 bit (AMD64)]\n",
      "Package              Version\n",
      "-------------------- -----------\n",
      "anyio                3.6.2\n",
      "argon2-cffi          21.3.0\n",
      "argon2-cffi-bindings 21.2.0\n",
      "attrs                22.1.0\n",
      "backcall             0.2.0\n",
      "beautifulsoup4       4.11.1\n",
      "bleach               5.0.1\n",
      "certifi              2022.9.24\n",
      "cffi                 1.15.1\n",
      "click                8.1.3\n",
      "colorama             0.4.6\n",
      "colorlog             6.7.0\n",
      "cycler               0.11.0\n",
      "debugpy              1.6.3\n",
      "decorator            5.1.1\n",
      "defusedxml           0.7.1\n",
      "easydev              0.12.0\n",
      "entrypoints          0.4\n",
      "fastjsonschema       2.16.2\n",
      "fitter               1.3.0\n",
      "fonttools            4.38.0\n",
      "idna                 3.4\n",
      "importlib-metadata   5.0.0\n",
      "importlib-resources  5.10.0\n",
      "ipykernel            6.16.2\n",
      "ipython              7.34.0\n",
      "ipython-genutils     0.2.0\n",
      "ipywidgets           8.0.2\n",
      "jedi                 0.18.1\n",
      "Jinja2               3.1.2\n",
      "joblib               1.2.0\n",
      "jsonschema           4.16.0\n",
      "jupyter              1.0.0\n",
      "jupyter_client       7.4.4\n",
      "jupyter-console      6.4.4\n",
      "jupyter_core         4.11.2\n",
      "jupyter-server       1.21.0\n",
      "jupyterlab-pygments  0.2.2\n",
      "jupyterlab-widgets   3.0.3\n",
      "kiwisolver           1.4.4\n",
      "MarkupSafe           2.1.1\n",
      "matplotlib           3.5.3\n",
      "matplotlib-inline    0.1.6\n",
      "mistune              2.0.4\n",
      "nbclassic            0.4.5\n",
      "nbclient             0.7.0\n",
      "nbconvert            7.2.3\n",
      "nbformat             5.7.0\n",
      "nest-asyncio         1.5.6\n",
      "notebook             6.5.1\n",
      "notebook_shim        0.2.0\n",
      "numpy                1.19.5\n",
      "packaging            21.3\n",
      "pandas               1.2.0\n",
      "pandocfilters        1.5.0\n",
      "parso                0.8.3\n",
      "pexpect              4.8.0\n",
      "pickleshare          0.7.5\n",
      "Pillow               9.2.0\n",
      "pip                  22.2.2\n",
      "pkgutil_resolve_name 1.3.10\n",
      "prometheus-client    0.15.0\n",
      "prompt-toolkit       3.0.31\n",
      "psutil               5.9.3\n",
      "ptyprocess           0.7.0\n",
      "pycparser            2.21\n",
      "Pygments             2.13.0\n",
      "pyparsing            3.0.9\n",
      "pyrsistent           0.18.1\n",
      "python-dateutil      2.8.2\n",
      "pytz                 2022.5\n",
      "pywin32              304\n",
      "pywinpty             2.0.9\n",
      "pyzmq                24.0.1\n",
      "qtconsole            5.3.2\n",
      "QtPy                 2.2.1\n",
      "scikit-learn         0.24.1\n",
      "scipy                1.5.4\n",
      "seaborn              0.11.1\n",
      "Send2Trash           1.8.0\n",
      "setuptools           63.4.1\n",
      "six                  1.16.0\n",
      "sniffio              1.3.0\n",
      "soupsieve            2.3.2.post1\n",
      "terminado            0.17.0\n",
      "threadpoolctl        3.1.0\n",
      "tinycss2             1.2.1\n",
      "tornado              6.2\n",
      "traitlets            5.5.0\n",
      "typing_extensions    4.4.0\n",
      "wcwidth              0.2.5\n",
      "webencodings         0.5.1\n",
      "websocket-client     1.4.1\n",
      "wheel                0.37.1\n",
      "widgetsnbextension   4.0.3\n",
      "wincertstore         0.2\n",
      "zipp                 3.10.0\n"
     ]
    }
   ],
   "source": [
    "# env\n",
    "import sys\n",
    "print(sys.version)\n",
    "!pip list"
   ]
  },
  {
   "cell_type": "code",
   "execution_count": 69,
   "metadata": {},
   "outputs": [],
   "source": [
    "import numpy as np\n",
    "import pandas as pd\n",
    "\n",
    "# for classification\n",
    "from sklearn import svm\n",
    "from sklearn.model_selection import train_test_split\n",
    "from sklearn.preprocessing import StandardScaler\n",
    "from sklearn.model_selection import GridSearchCV\n",
    "from sklearn.metrics import make_scorer, balanced_accuracy_score\n",
    "from sklearn.pipeline import make_pipeline\n",
    "\n",
    "# for Generator\n",
    "from scipy import stats\n",
    "from fitter import Fitter\n",
    "import copy\n",
    "\n",
    "# for visualization \n",
    "import matplotlib.pyplot as plt\n",
    "# for coloring \n",
    "import seaborn as sns\n",
    "# set style of graphs\n",
    "plt.style.use('classic')\n",
    "from pylab import rcParams\n",
    "rcParams['figure.figsize'] = 10, 5"
   ]
  },
  {
   "cell_type": "markdown",
   "metadata": {},
   "source": [
    "## 2 Data cleaning and preprocessing\n",
    "\n",
    "We would like to sort the dataset in chronological order, remove the NaN values, and pre-process the data to distinguish between hosts and visitors."
   ]
  },
  {
   "cell_type": "code",
   "execution_count": 70,
   "metadata": {},
   "outputs": [
    {
     "data": {
      "text/html": [
       "<div>\n",
       "<style scoped>\n",
       "    .dataframe tbody tr th:only-of-type {\n",
       "        vertical-align: middle;\n",
       "    }\n",
       "\n",
       "    .dataframe tbody tr th {\n",
       "        vertical-align: top;\n",
       "    }\n",
       "\n",
       "    .dataframe thead th {\n",
       "        text-align: right;\n",
       "    }\n",
       "</style>\n",
       "<table border=\"1\" class=\"dataframe\">\n",
       "  <thead>\n",
       "    <tr style=\"text-align: right;\">\n",
       "      <th></th>\n",
       "      <th>GAME_DATE_EST</th>\n",
       "      <th>GAME_ID</th>\n",
       "      <th>GAME_STATUS_TEXT</th>\n",
       "      <th>HOME_TEAM_ID</th>\n",
       "      <th>VISITOR_TEAM_ID</th>\n",
       "      <th>SEASON</th>\n",
       "      <th>TEAM_ID_home</th>\n",
       "      <th>PTS_home</th>\n",
       "      <th>FG_PCT_home</th>\n",
       "      <th>FT_PCT_home</th>\n",
       "      <th>...</th>\n",
       "      <th>AST_home</th>\n",
       "      <th>REB_home</th>\n",
       "      <th>TEAM_ID_away</th>\n",
       "      <th>PTS_away</th>\n",
       "      <th>FG_PCT_away</th>\n",
       "      <th>FT_PCT_away</th>\n",
       "      <th>FG3_PCT_away</th>\n",
       "      <th>AST_away</th>\n",
       "      <th>REB_away</th>\n",
       "      <th>HOME_TEAM_WINS</th>\n",
       "    </tr>\n",
       "  </thead>\n",
       "  <tbody>\n",
       "    <tr>\n",
       "      <th>0</th>\n",
       "      <td>2022-03-12</td>\n",
       "      <td>22101005</td>\n",
       "      <td>Final</td>\n",
       "      <td>1610612748</td>\n",
       "      <td>1610612750</td>\n",
       "      <td>2021</td>\n",
       "      <td>1610612748</td>\n",
       "      <td>104.0</td>\n",
       "      <td>0.398</td>\n",
       "      <td>0.760</td>\n",
       "      <td>...</td>\n",
       "      <td>23.0</td>\n",
       "      <td>53.0</td>\n",
       "      <td>1610612750</td>\n",
       "      <td>113.0</td>\n",
       "      <td>0.422</td>\n",
       "      <td>0.875</td>\n",
       "      <td>0.357</td>\n",
       "      <td>21.0</td>\n",
       "      <td>46.0</td>\n",
       "      <td>0</td>\n",
       "    </tr>\n",
       "    <tr>\n",
       "      <th>1</th>\n",
       "      <td>2022-03-12</td>\n",
       "      <td>22101006</td>\n",
       "      <td>Final</td>\n",
       "      <td>1610612741</td>\n",
       "      <td>1610612739</td>\n",
       "      <td>2021</td>\n",
       "      <td>1610612741</td>\n",
       "      <td>101.0</td>\n",
       "      <td>0.443</td>\n",
       "      <td>0.933</td>\n",
       "      <td>...</td>\n",
       "      <td>20.0</td>\n",
       "      <td>46.0</td>\n",
       "      <td>1610612739</td>\n",
       "      <td>91.0</td>\n",
       "      <td>0.419</td>\n",
       "      <td>0.824</td>\n",
       "      <td>0.208</td>\n",
       "      <td>19.0</td>\n",
       "      <td>40.0</td>\n",
       "      <td>1</td>\n",
       "    </tr>\n",
       "    <tr>\n",
       "      <th>2</th>\n",
       "      <td>2022-03-12</td>\n",
       "      <td>22101007</td>\n",
       "      <td>Final</td>\n",
       "      <td>1610612759</td>\n",
       "      <td>1610612754</td>\n",
       "      <td>2021</td>\n",
       "      <td>1610612759</td>\n",
       "      <td>108.0</td>\n",
       "      <td>0.412</td>\n",
       "      <td>0.813</td>\n",
       "      <td>...</td>\n",
       "      <td>28.0</td>\n",
       "      <td>52.0</td>\n",
       "      <td>1610612754</td>\n",
       "      <td>119.0</td>\n",
       "      <td>0.489</td>\n",
       "      <td>1.000</td>\n",
       "      <td>0.389</td>\n",
       "      <td>23.0</td>\n",
       "      <td>47.0</td>\n",
       "      <td>0</td>\n",
       "    </tr>\n",
       "    <tr>\n",
       "      <th>3</th>\n",
       "      <td>2022-03-12</td>\n",
       "      <td>22101008</td>\n",
       "      <td>Final</td>\n",
       "      <td>1610612744</td>\n",
       "      <td>1610612749</td>\n",
       "      <td>2021</td>\n",
       "      <td>1610612744</td>\n",
       "      <td>122.0</td>\n",
       "      <td>0.484</td>\n",
       "      <td>0.933</td>\n",
       "      <td>...</td>\n",
       "      <td>33.0</td>\n",
       "      <td>55.0</td>\n",
       "      <td>1610612749</td>\n",
       "      <td>109.0</td>\n",
       "      <td>0.413</td>\n",
       "      <td>0.696</td>\n",
       "      <td>0.386</td>\n",
       "      <td>27.0</td>\n",
       "      <td>39.0</td>\n",
       "      <td>1</td>\n",
       "    </tr>\n",
       "    <tr>\n",
       "      <th>4</th>\n",
       "      <td>2022-03-12</td>\n",
       "      <td>22101009</td>\n",
       "      <td>Final</td>\n",
       "      <td>1610612743</td>\n",
       "      <td>1610612761</td>\n",
       "      <td>2021</td>\n",
       "      <td>1610612743</td>\n",
       "      <td>115.0</td>\n",
       "      <td>0.551</td>\n",
       "      <td>0.750</td>\n",
       "      <td>...</td>\n",
       "      <td>32.0</td>\n",
       "      <td>39.0</td>\n",
       "      <td>1610612761</td>\n",
       "      <td>127.0</td>\n",
       "      <td>0.471</td>\n",
       "      <td>0.760</td>\n",
       "      <td>0.387</td>\n",
       "      <td>28.0</td>\n",
       "      <td>50.0</td>\n",
       "      <td>0</td>\n",
       "    </tr>\n",
       "  </tbody>\n",
       "</table>\n",
       "<p>5 rows × 21 columns</p>\n",
       "</div>"
      ],
      "text/plain": [
       "  GAME_DATE_EST   GAME_ID GAME_STATUS_TEXT  HOME_TEAM_ID  VISITOR_TEAM_ID  \\\n",
       "0    2022-03-12  22101005            Final    1610612748       1610612750   \n",
       "1    2022-03-12  22101006            Final    1610612741       1610612739   \n",
       "2    2022-03-12  22101007            Final    1610612759       1610612754   \n",
       "3    2022-03-12  22101008            Final    1610612744       1610612749   \n",
       "4    2022-03-12  22101009            Final    1610612743       1610612761   \n",
       "\n",
       "   SEASON  TEAM_ID_home  PTS_home  FG_PCT_home  FT_PCT_home  ...  AST_home  \\\n",
       "0    2021    1610612748     104.0        0.398        0.760  ...      23.0   \n",
       "1    2021    1610612741     101.0        0.443        0.933  ...      20.0   \n",
       "2    2021    1610612759     108.0        0.412        0.813  ...      28.0   \n",
       "3    2021    1610612744     122.0        0.484        0.933  ...      33.0   \n",
       "4    2021    1610612743     115.0        0.551        0.750  ...      32.0   \n",
       "\n",
       "   REB_home  TEAM_ID_away  PTS_away  FG_PCT_away  FT_PCT_away  FG3_PCT_away  \\\n",
       "0      53.0    1610612750     113.0        0.422        0.875         0.357   \n",
       "1      46.0    1610612739      91.0        0.419        0.824         0.208   \n",
       "2      52.0    1610612754     119.0        0.489        1.000         0.389   \n",
       "3      55.0    1610612749     109.0        0.413        0.696         0.386   \n",
       "4      39.0    1610612761     127.0        0.471        0.760         0.387   \n",
       "\n",
       "   AST_away  REB_away  HOME_TEAM_WINS  \n",
       "0      21.0      46.0               0  \n",
       "1      19.0      40.0               1  \n",
       "2      23.0      47.0               0  \n",
       "3      27.0      39.0               1  \n",
       "4      28.0      50.0               0  \n",
       "\n",
       "[5 rows x 21 columns]"
      ]
     },
     "execution_count": 70,
     "metadata": {},
     "output_type": "execute_result"
    }
   ],
   "source": [
    "# load data\n",
    "df = pd.read_csv(\"./data/games.csv\")\n",
    "df.head()"
   ]
  },
  {
   "cell_type": "code",
   "execution_count": 71,
   "metadata": {},
   "outputs": [
    {
     "data": {
      "text/html": [
       "<div>\n",
       "<style scoped>\n",
       "    .dataframe tbody tr th:only-of-type {\n",
       "        vertical-align: middle;\n",
       "    }\n",
       "\n",
       "    .dataframe tbody tr th {\n",
       "        vertical-align: top;\n",
       "    }\n",
       "\n",
       "    .dataframe thead th {\n",
       "        text-align: right;\n",
       "    }\n",
       "</style>\n",
       "<table border=\"1\" class=\"dataframe\">\n",
       "  <thead>\n",
       "    <tr style=\"text-align: right;\">\n",
       "      <th></th>\n",
       "      <th>GAME_DATE_EST</th>\n",
       "      <th>GAME_ID</th>\n",
       "      <th>GAME_STATUS_TEXT</th>\n",
       "      <th>HOME_TEAM_ID</th>\n",
       "      <th>VISITOR_TEAM_ID</th>\n",
       "      <th>SEASON</th>\n",
       "      <th>TEAM_ID_home</th>\n",
       "      <th>PTS_home</th>\n",
       "      <th>FG_PCT_home</th>\n",
       "      <th>FT_PCT_home</th>\n",
       "      <th>...</th>\n",
       "      <th>AST_home</th>\n",
       "      <th>REB_home</th>\n",
       "      <th>TEAM_ID_away</th>\n",
       "      <th>PTS_away</th>\n",
       "      <th>FG_PCT_away</th>\n",
       "      <th>FT_PCT_away</th>\n",
       "      <th>FG3_PCT_away</th>\n",
       "      <th>AST_away</th>\n",
       "      <th>REB_away</th>\n",
       "      <th>HOME_TEAM_WINS</th>\n",
       "    </tr>\n",
       "  </thead>\n",
       "  <tbody>\n",
       "    <tr>\n",
       "      <th>0</th>\n",
       "      <td>2004-01-02</td>\n",
       "      <td>20300458</td>\n",
       "      <td>Final</td>\n",
       "      <td>1610612750</td>\n",
       "      <td>1610612737</td>\n",
       "      <td>2003</td>\n",
       "      <td>1610612750</td>\n",
       "      <td>93.0</td>\n",
       "      <td>0.409</td>\n",
       "      <td>0.929</td>\n",
       "      <td>...</td>\n",
       "      <td>32.0</td>\n",
       "      <td>56.0</td>\n",
       "      <td>1610612737</td>\n",
       "      <td>75.0</td>\n",
       "      <td>0.372</td>\n",
       "      <td>0.737</td>\n",
       "      <td>0.375</td>\n",
       "      <td>22.0</td>\n",
       "      <td>31.0</td>\n",
       "      <td>1</td>\n",
       "    </tr>\n",
       "    <tr>\n",
       "      <th>1</th>\n",
       "      <td>2004-01-02</td>\n",
       "      <td>20300451</td>\n",
       "      <td>Final</td>\n",
       "      <td>1610612764</td>\n",
       "      <td>1610612744</td>\n",
       "      <td>2003</td>\n",
       "      <td>1610612764</td>\n",
       "      <td>97.0</td>\n",
       "      <td>0.446</td>\n",
       "      <td>0.611</td>\n",
       "      <td>...</td>\n",
       "      <td>30.0</td>\n",
       "      <td>58.0</td>\n",
       "      <td>1610612744</td>\n",
       "      <td>79.0</td>\n",
       "      <td>0.403</td>\n",
       "      <td>0.818</td>\n",
       "      <td>0.381</td>\n",
       "      <td>20.0</td>\n",
       "      <td>36.0</td>\n",
       "      <td>1</td>\n",
       "    </tr>\n",
       "    <tr>\n",
       "      <th>2</th>\n",
       "      <td>2004-01-02</td>\n",
       "      <td>20300454</td>\n",
       "      <td>Final</td>\n",
       "      <td>1610612752</td>\n",
       "      <td>1610612741</td>\n",
       "      <td>2003</td>\n",
       "      <td>1610612752</td>\n",
       "      <td>99.0</td>\n",
       "      <td>0.470</td>\n",
       "      <td>0.800</td>\n",
       "      <td>...</td>\n",
       "      <td>25.0</td>\n",
       "      <td>38.0</td>\n",
       "      <td>1610612741</td>\n",
       "      <td>104.0</td>\n",
       "      <td>0.488</td>\n",
       "      <td>0.724</td>\n",
       "      <td>0.385</td>\n",
       "      <td>20.0</td>\n",
       "      <td>44.0</td>\n",
       "      <td>0</td>\n",
       "    </tr>\n",
       "    <tr>\n",
       "      <th>3</th>\n",
       "      <td>2004-01-02</td>\n",
       "      <td>20300457</td>\n",
       "      <td>Final</td>\n",
       "      <td>1610612765</td>\n",
       "      <td>1610612756</td>\n",
       "      <td>2003</td>\n",
       "      <td>1610612765</td>\n",
       "      <td>93.0</td>\n",
       "      <td>0.389</td>\n",
       "      <td>0.947</td>\n",
       "      <td>...</td>\n",
       "      <td>26.0</td>\n",
       "      <td>54.0</td>\n",
       "      <td>1610612756</td>\n",
       "      <td>81.0</td>\n",
       "      <td>0.395</td>\n",
       "      <td>0.895</td>\n",
       "      <td>0.364</td>\n",
       "      <td>20.0</td>\n",
       "      <td>34.0</td>\n",
       "      <td>1</td>\n",
       "    </tr>\n",
       "    <tr>\n",
       "      <th>4</th>\n",
       "      <td>2004-01-02</td>\n",
       "      <td>20300456</td>\n",
       "      <td>Final</td>\n",
       "      <td>1610612748</td>\n",
       "      <td>1610612753</td>\n",
       "      <td>2003</td>\n",
       "      <td>1610612748</td>\n",
       "      <td>112.0</td>\n",
       "      <td>0.466</td>\n",
       "      <td>0.792</td>\n",
       "      <td>...</td>\n",
       "      <td>29.0</td>\n",
       "      <td>42.0</td>\n",
       "      <td>1610612753</td>\n",
       "      <td>101.0</td>\n",
       "      <td>0.430</td>\n",
       "      <td>0.750</td>\n",
       "      <td>0.450</td>\n",
       "      <td>15.0</td>\n",
       "      <td>37.0</td>\n",
       "      <td>1</td>\n",
       "    </tr>\n",
       "  </tbody>\n",
       "</table>\n",
       "<p>5 rows × 21 columns</p>\n",
       "</div>"
      ],
      "text/plain": [
       "  GAME_DATE_EST   GAME_ID GAME_STATUS_TEXT  HOME_TEAM_ID  VISITOR_TEAM_ID  \\\n",
       "0    2004-01-02  20300458            Final    1610612750       1610612737   \n",
       "1    2004-01-02  20300451            Final    1610612764       1610612744   \n",
       "2    2004-01-02  20300454            Final    1610612752       1610612741   \n",
       "3    2004-01-02  20300457            Final    1610612765       1610612756   \n",
       "4    2004-01-02  20300456            Final    1610612748       1610612753   \n",
       "\n",
       "   SEASON  TEAM_ID_home  PTS_home  FG_PCT_home  FT_PCT_home  ...  AST_home  \\\n",
       "0    2003    1610612750      93.0        0.409        0.929  ...      32.0   \n",
       "1    2003    1610612764      97.0        0.446        0.611  ...      30.0   \n",
       "2    2003    1610612752      99.0        0.470        0.800  ...      25.0   \n",
       "3    2003    1610612765      93.0        0.389        0.947  ...      26.0   \n",
       "4    2003    1610612748     112.0        0.466        0.792  ...      29.0   \n",
       "\n",
       "   REB_home  TEAM_ID_away  PTS_away  FG_PCT_away  FT_PCT_away  FG3_PCT_away  \\\n",
       "0      56.0    1610612737      75.0        0.372        0.737         0.375   \n",
       "1      58.0    1610612744      79.0        0.403        0.818         0.381   \n",
       "2      38.0    1610612741     104.0        0.488        0.724         0.385   \n",
       "3      54.0    1610612756      81.0        0.395        0.895         0.364   \n",
       "4      42.0    1610612753     101.0        0.430        0.750         0.450   \n",
       "\n",
       "   AST_away  REB_away  HOME_TEAM_WINS  \n",
       "0      22.0      31.0               1  \n",
       "1      20.0      36.0               1  \n",
       "2      20.0      44.0               0  \n",
       "3      20.0      34.0               1  \n",
       "4      15.0      37.0               1  \n",
       "\n",
       "[5 rows x 21 columns]"
      ]
     },
     "execution_count": 71,
     "metadata": {},
     "output_type": "execute_result"
    }
   ],
   "source": [
    "# # sort data by GAME_DATA_EST\n",
    "df = df.sort_values(by='GAME_DATE_EST').reset_index(drop = True)\n",
    "# drop NaN data and check\n",
    "df = df.loc[df['GAME_DATE_EST'] >= \"2004-01-01\"].reset_index(drop=True)\n",
    "df.head()"
   ]
  },
  {
   "cell_type": "code",
   "execution_count": 72,
   "metadata": {},
   "outputs": [
    {
     "data": {
      "text/html": [
       "<div>\n",
       "<style scoped>\n",
       "    .dataframe tbody tr th:only-of-type {\n",
       "        vertical-align: middle;\n",
       "    }\n",
       "\n",
       "    .dataframe tbody tr th {\n",
       "        vertical-align: top;\n",
       "    }\n",
       "\n",
       "    .dataframe thead th {\n",
       "        text-align: right;\n",
       "    }\n",
       "</style>\n",
       "<table border=\"1\" class=\"dataframe\">\n",
       "  <thead>\n",
       "    <tr style=\"text-align: right;\">\n",
       "      <th></th>\n",
       "      <th>LEAGUE_ID</th>\n",
       "      <th>TEAM_ID</th>\n",
       "      <th>MIN_YEAR</th>\n",
       "      <th>MAX_YEAR</th>\n",
       "      <th>ABBREVIATION</th>\n",
       "      <th>NICKNAME</th>\n",
       "      <th>YEARFOUNDED</th>\n",
       "      <th>CITY</th>\n",
       "      <th>ARENA</th>\n",
       "      <th>ARENACAPACITY</th>\n",
       "      <th>OWNER</th>\n",
       "      <th>GENERALMANAGER</th>\n",
       "      <th>HEADCOACH</th>\n",
       "      <th>DLEAGUEAFFILIATION</th>\n",
       "    </tr>\n",
       "  </thead>\n",
       "  <tbody>\n",
       "    <tr>\n",
       "      <th>0</th>\n",
       "      <td>0</td>\n",
       "      <td>1610612737</td>\n",
       "      <td>1949</td>\n",
       "      <td>2019</td>\n",
       "      <td>ATL</td>\n",
       "      <td>Hawks</td>\n",
       "      <td>1949</td>\n",
       "      <td>Atlanta</td>\n",
       "      <td>State Farm Arena</td>\n",
       "      <td>18729.0</td>\n",
       "      <td>Tony Ressler</td>\n",
       "      <td>Travis Schlenk</td>\n",
       "      <td>Lloyd Pierce</td>\n",
       "      <td>Erie Bayhawks</td>\n",
       "    </tr>\n",
       "    <tr>\n",
       "      <th>1</th>\n",
       "      <td>0</td>\n",
       "      <td>1610612738</td>\n",
       "      <td>1946</td>\n",
       "      <td>2019</td>\n",
       "      <td>BOS</td>\n",
       "      <td>Celtics</td>\n",
       "      <td>1946</td>\n",
       "      <td>Boston</td>\n",
       "      <td>TD Garden</td>\n",
       "      <td>18624.0</td>\n",
       "      <td>Wyc Grousbeck</td>\n",
       "      <td>Danny Ainge</td>\n",
       "      <td>Brad Stevens</td>\n",
       "      <td>Maine Red Claws</td>\n",
       "    </tr>\n",
       "    <tr>\n",
       "      <th>2</th>\n",
       "      <td>0</td>\n",
       "      <td>1610612740</td>\n",
       "      <td>2002</td>\n",
       "      <td>2019</td>\n",
       "      <td>NOP</td>\n",
       "      <td>Pelicans</td>\n",
       "      <td>2002</td>\n",
       "      <td>New Orleans</td>\n",
       "      <td>Smoothie King Center</td>\n",
       "      <td>NaN</td>\n",
       "      <td>Tom Benson</td>\n",
       "      <td>Trajan Langdon</td>\n",
       "      <td>Alvin Gentry</td>\n",
       "      <td>No Affiliate</td>\n",
       "    </tr>\n",
       "    <tr>\n",
       "      <th>3</th>\n",
       "      <td>0</td>\n",
       "      <td>1610612741</td>\n",
       "      <td>1966</td>\n",
       "      <td>2019</td>\n",
       "      <td>CHI</td>\n",
       "      <td>Bulls</td>\n",
       "      <td>1966</td>\n",
       "      <td>Chicago</td>\n",
       "      <td>United Center</td>\n",
       "      <td>21711.0</td>\n",
       "      <td>Jerry Reinsdorf</td>\n",
       "      <td>Gar Forman</td>\n",
       "      <td>Jim Boylen</td>\n",
       "      <td>Windy City Bulls</td>\n",
       "    </tr>\n",
       "    <tr>\n",
       "      <th>4</th>\n",
       "      <td>0</td>\n",
       "      <td>1610612742</td>\n",
       "      <td>1980</td>\n",
       "      <td>2019</td>\n",
       "      <td>DAL</td>\n",
       "      <td>Mavericks</td>\n",
       "      <td>1980</td>\n",
       "      <td>Dallas</td>\n",
       "      <td>American Airlines Center</td>\n",
       "      <td>19200.0</td>\n",
       "      <td>Mark Cuban</td>\n",
       "      <td>Donnie Nelson</td>\n",
       "      <td>Rick Carlisle</td>\n",
       "      <td>Texas Legends</td>\n",
       "    </tr>\n",
       "  </tbody>\n",
       "</table>\n",
       "</div>"
      ],
      "text/plain": [
       "   LEAGUE_ID     TEAM_ID  MIN_YEAR  MAX_YEAR ABBREVIATION   NICKNAME  \\\n",
       "0          0  1610612737      1949      2019          ATL      Hawks   \n",
       "1          0  1610612738      1946      2019          BOS    Celtics   \n",
       "2          0  1610612740      2002      2019          NOP   Pelicans   \n",
       "3          0  1610612741      1966      2019          CHI      Bulls   \n",
       "4          0  1610612742      1980      2019          DAL  Mavericks   \n",
       "\n",
       "   YEARFOUNDED         CITY                     ARENA  ARENACAPACITY  \\\n",
       "0         1949      Atlanta          State Farm Arena        18729.0   \n",
       "1         1946       Boston                 TD Garden        18624.0   \n",
       "2         2002  New Orleans      Smoothie King Center            NaN   \n",
       "3         1966      Chicago             United Center        21711.0   \n",
       "4         1980       Dallas  American Airlines Center        19200.0   \n",
       "\n",
       "             OWNER  GENERALMANAGER      HEADCOACH DLEAGUEAFFILIATION  \n",
       "0     Tony Ressler  Travis Schlenk   Lloyd Pierce      Erie Bayhawks  \n",
       "1    Wyc Grousbeck     Danny Ainge   Brad Stevens    Maine Red Claws  \n",
       "2       Tom Benson  Trajan Langdon   Alvin Gentry       No Affiliate  \n",
       "3  Jerry Reinsdorf      Gar Forman     Jim Boylen   Windy City Bulls  \n",
       "4       Mark Cuban   Donnie Nelson  Rick Carlisle      Texas Legends  "
      ]
     },
     "execution_count": 72,
     "metadata": {},
     "output_type": "execute_result"
    }
   ],
   "source": [
    "# replace Team ID with Names\n",
    "df_names = pd.read_csv('./data/teams.csv')\n",
    "df_names.head()"
   ]
  },
  {
   "cell_type": "code",
   "execution_count": 73,
   "metadata": {},
   "outputs": [
    {
     "name": "stdout",
     "output_type": "stream",
     "text": [
      "      GAME_DATE_EST   GAME_ID GAME_STATUS_TEXT  HOME_TEAM_ID VISITOR_TEAM_ID  \\\n",
      "0        2004-01-02  20300458            Final  Timberwolves           Hawks   \n",
      "1        2004-01-02  20300451            Final       Wizards        Warriors   \n",
      "2        2004-01-02  20300454            Final        Knicks           Bulls   \n",
      "3        2004-01-02  20300457            Final       Pistons            Suns   \n",
      "4        2004-01-02  20300456            Final          Heat           Magic   \n",
      "...             ...       ...              ...           ...             ...   \n",
      "25227    2022-03-12  22101010            Final          Jazz           Kings   \n",
      "25228    2022-03-12  22101009            Final       Nuggets         Raptors   \n",
      "25229    2022-03-12  22101008            Final      Warriors           Bucks   \n",
      "25230    2022-03-12  22101006            Final         Bulls       Cavaliers   \n",
      "25231    2022-03-12  22101005            Final          Heat    Timberwolves   \n",
      "\n",
      "       SEASON  TEAM_ID_home  PTS_home  FG_PCT_home  FT_PCT_home  ...  \\\n",
      "0        2003    1610612750      93.0        0.409        0.929  ...   \n",
      "1        2003    1610612764      97.0        0.446        0.611  ...   \n",
      "2        2003    1610612752      99.0        0.470        0.800  ...   \n",
      "3        2003    1610612765      93.0        0.389        0.947  ...   \n",
      "4        2003    1610612748     112.0        0.466        0.792  ...   \n",
      "...       ...           ...       ...          ...          ...  ...   \n",
      "25227    2021    1610612762     134.0        0.558        0.710  ...   \n",
      "25228    2021    1610612743     115.0        0.551        0.750  ...   \n",
      "25229    2021    1610612744     122.0        0.484        0.933  ...   \n",
      "25230    2021    1610612741     101.0        0.443        0.933  ...   \n",
      "25231    2021    1610612748     104.0        0.398        0.760  ...   \n",
      "\n",
      "       AST_home  REB_home  TEAM_ID_away  PTS_away  FG_PCT_away  FT_PCT_away  \\\n",
      "0          32.0      56.0    1610612737      75.0        0.372        0.737   \n",
      "1          30.0      58.0    1610612744      79.0        0.403        0.818   \n",
      "2          25.0      38.0    1610612741     104.0        0.488        0.724   \n",
      "3          26.0      54.0    1610612756      81.0        0.395        0.895   \n",
      "4          29.0      42.0    1610612753     101.0        0.430        0.750   \n",
      "...         ...       ...           ...       ...          ...          ...   \n",
      "25227      21.0      44.0    1610612758     125.0        0.500        0.857   \n",
      "25228      32.0      39.0    1610612761     127.0        0.471        0.760   \n",
      "25229      33.0      55.0    1610612749     109.0        0.413        0.696   \n",
      "25230      20.0      46.0    1610612739      91.0        0.419        0.824   \n",
      "25231      23.0      53.0    1610612750     113.0        0.422        0.875   \n",
      "\n",
      "       FG3_PCT_away  AST_away  REB_away  HOME_TEAM_WINS  \n",
      "0             0.375      22.0      31.0               1  \n",
      "1             0.381      20.0      36.0               1  \n",
      "2             0.385      20.0      44.0               0  \n",
      "3             0.364      20.0      34.0               1  \n",
      "4             0.450      15.0      37.0               1  \n",
      "...             ...       ...       ...             ...  \n",
      "25227         0.394      27.0      33.0               1  \n",
      "25228         0.387      28.0      50.0               0  \n",
      "25229         0.386      27.0      39.0               1  \n",
      "25230         0.208      19.0      40.0               1  \n",
      "25231         0.357      21.0      46.0               0  \n",
      "\n",
      "[25232 rows x 21 columns]\n"
     ]
    }
   ],
   "source": [
    "# replace 'HOME_TEAM_ID' and 'VISITOR_TEAM_ID' with names in df_names\n",
    "df_names = df_names[['TEAM_ID', 'NICKNAME']]\n",
    "# replace 'HOME_TEAM_ID'\n",
    "home_names = df_names.copy()\n",
    "home_names.columns = ['HOME_TEAM_ID', 'NICKNAME']\n",
    "result_1 = pd.merge(df['HOME_TEAM_ID'], home_names, how =\"left\", on=\"HOME_TEAM_ID\")  \n",
    "df['HOME_TEAM_ID'] = result_1['NICKNAME']\n",
    "# replace 'VISITOR_TEAM_ID'\n",
    "visitor_names = df_names.copy()\n",
    "visitor_names.columns = ['VISITOR_TEAM_ID', 'NICKNAME']\n",
    "result_2 = pd.merge(df['VISITOR_TEAM_ID'], visitor_names, how = \"left\", on=\"VISITOR_TEAM_ID\")\n",
    "df['VISITOR_TEAM_ID'] = result_2['NICKNAME']\n",
    "print(df)"
   ]
  },
  {
   "cell_type": "markdown",
   "metadata": {},
   "source": [
    "## 3 Segmentation of Data Set\n",
    "\n",
    "We want to try and predict the 2020-2021 NBA play off results starting 2021-08 hence, this portion of the data is the test data set and others are the train data set."
   ]
  },
  {
   "cell_type": "code",
   "execution_count": 74,
   "metadata": {},
   "outputs": [],
   "source": [
    "df = df.loc[df['GAME_DATE_EST'] < '2021-08-01'].reset_index(drop=True)"
   ]
  },
  {
   "cell_type": "markdown",
   "metadata": {},
   "source": [
    "## 4 Features selection\n",
    "\n",
    "There are two ways to select the features.\n",
    "1. Select only one feature (points), the prediction is just based on which team has the higher point.\n",
    "2. Select features other than points, the resoult is based on the prediction of a classifier which takes those features as inputs.\n",
    "\n",
    "Now we choose the ***second selection***."
   ]
  },
  {
   "cell_type": "code",
   "execution_count": 75,
   "metadata": {},
   "outputs": [
    {
     "data": {
      "text/plain": [
       "['GAME_DATE_EST',\n",
       " 'GAME_ID',\n",
       " 'GAME_STATUS_TEXT',\n",
       " 'HOME_TEAM_ID',\n",
       " 'VISITOR_TEAM_ID',\n",
       " 'SEASON',\n",
       " 'TEAM_ID_home',\n",
       " 'PTS_home',\n",
       " 'FG_PCT_home',\n",
       " 'FT_PCT_home',\n",
       " 'FG3_PCT_home',\n",
       " 'AST_home',\n",
       " 'REB_home',\n",
       " 'TEAM_ID_away',\n",
       " 'PTS_away',\n",
       " 'FG_PCT_away',\n",
       " 'FT_PCT_away',\n",
       " 'FG3_PCT_away',\n",
       " 'AST_away',\n",
       " 'REB_away',\n",
       " 'HOME_TEAM_WINS']"
      ]
     },
     "execution_count": 75,
     "metadata": {},
     "output_type": "execute_result"
    }
   ],
   "source": [
    "# list all features\n",
    "feature_list = list(df.columns)\n",
    "feature_list"
   ]
  },
  {
   "cell_type": "code",
   "execution_count": 76,
   "metadata": {},
   "outputs": [
    {
     "data": {
      "text/html": [
       "<div>\n",
       "<style scoped>\n",
       "    .dataframe tbody tr th:only-of-type {\n",
       "        vertical-align: middle;\n",
       "    }\n",
       "\n",
       "    .dataframe tbody tr th {\n",
       "        vertical-align: top;\n",
       "    }\n",
       "\n",
       "    .dataframe thead th {\n",
       "        text-align: right;\n",
       "    }\n",
       "</style>\n",
       "<table border=\"1\" class=\"dataframe\">\n",
       "  <thead>\n",
       "    <tr style=\"text-align: right;\">\n",
       "      <th></th>\n",
       "      <th>FG_PCT_home</th>\n",
       "      <th>FT_PCT_home</th>\n",
       "      <th>FG3_PCT_home</th>\n",
       "      <th>AST_home</th>\n",
       "      <th>REB_home</th>\n",
       "      <th>FG_PCT_away</th>\n",
       "      <th>FT_PCT_away</th>\n",
       "      <th>FG3_PCT_away</th>\n",
       "      <th>AST_away</th>\n",
       "      <th>REB_away</th>\n",
       "    </tr>\n",
       "  </thead>\n",
       "  <tbody>\n",
       "    <tr>\n",
       "      <th>0</th>\n",
       "      <td>0.409</td>\n",
       "      <td>0.929</td>\n",
       "      <td>0.308</td>\n",
       "      <td>32.0</td>\n",
       "      <td>56.0</td>\n",
       "      <td>0.372</td>\n",
       "      <td>0.737</td>\n",
       "      <td>0.375</td>\n",
       "      <td>22.0</td>\n",
       "      <td>31.0</td>\n",
       "    </tr>\n",
       "    <tr>\n",
       "      <th>1</th>\n",
       "      <td>0.446</td>\n",
       "      <td>0.611</td>\n",
       "      <td>0.400</td>\n",
       "      <td>30.0</td>\n",
       "      <td>58.0</td>\n",
       "      <td>0.403</td>\n",
       "      <td>0.818</td>\n",
       "      <td>0.381</td>\n",
       "      <td>20.0</td>\n",
       "      <td>36.0</td>\n",
       "    </tr>\n",
       "    <tr>\n",
       "      <th>2</th>\n",
       "      <td>0.470</td>\n",
       "      <td>0.800</td>\n",
       "      <td>0.333</td>\n",
       "      <td>25.0</td>\n",
       "      <td>38.0</td>\n",
       "      <td>0.488</td>\n",
       "      <td>0.724</td>\n",
       "      <td>0.385</td>\n",
       "      <td>20.0</td>\n",
       "      <td>44.0</td>\n",
       "    </tr>\n",
       "    <tr>\n",
       "      <th>3</th>\n",
       "      <td>0.389</td>\n",
       "      <td>0.947</td>\n",
       "      <td>0.238</td>\n",
       "      <td>26.0</td>\n",
       "      <td>54.0</td>\n",
       "      <td>0.395</td>\n",
       "      <td>0.895</td>\n",
       "      <td>0.364</td>\n",
       "      <td>20.0</td>\n",
       "      <td>34.0</td>\n",
       "    </tr>\n",
       "    <tr>\n",
       "      <th>4</th>\n",
       "      <td>0.466</td>\n",
       "      <td>0.792</td>\n",
       "      <td>0.500</td>\n",
       "      <td>29.0</td>\n",
       "      <td>42.0</td>\n",
       "      <td>0.430</td>\n",
       "      <td>0.750</td>\n",
       "      <td>0.450</td>\n",
       "      <td>15.0</td>\n",
       "      <td>37.0</td>\n",
       "    </tr>\n",
       "  </tbody>\n",
       "</table>\n",
       "</div>"
      ],
      "text/plain": [
       "   FG_PCT_home  FT_PCT_home  FG3_PCT_home  AST_home  REB_home  FG_PCT_away  \\\n",
       "0        0.409        0.929         0.308      32.0      56.0        0.372   \n",
       "1        0.446        0.611         0.400      30.0      58.0        0.403   \n",
       "2        0.470        0.800         0.333      25.0      38.0        0.488   \n",
       "3        0.389        0.947         0.238      26.0      54.0        0.395   \n",
       "4        0.466        0.792         0.500      29.0      42.0        0.430   \n",
       "\n",
       "   FT_PCT_away  FG3_PCT_away  AST_away  REB_away  \n",
       "0        0.737         0.375      22.0      31.0  \n",
       "1        0.818         0.381      20.0      36.0  \n",
       "2        0.724         0.385      20.0      44.0  \n",
       "3        0.895         0.364      20.0      34.0  \n",
       "4        0.750         0.450      15.0      37.0  "
      ]
     },
     "execution_count": 76,
     "metadata": {},
     "output_type": "execute_result"
    }
   ],
   "source": [
    "# selecte features\n",
    "selected_features = [\n",
    "    'FG_PCT_home', 'FT_PCT_home', 'FG3_PCT_home', 'AST_home', 'REB_home',\n",
    "    'FG_PCT_away', 'FT_PCT_away', 'FG3_PCT_away', 'AST_away', 'REB_away',\n",
    "    ]\n",
    "X = df[selected_features]\n",
    "X.head()"
   ]
  },
  {
   "cell_type": "code",
   "execution_count": 77,
   "metadata": {},
   "outputs": [
    {
     "data": {
      "text/plain": [
       "0    1\n",
       "1    1\n",
       "2    0\n",
       "3    1\n",
       "4    1\n",
       "Name: HOME_TEAM_WINS, dtype: int64"
      ]
     },
     "execution_count": 77,
     "metadata": {},
     "output_type": "execute_result"
    }
   ],
   "source": [
    "# check the targets\n",
    "y = df['HOME_TEAM_WINS']\n",
    "y.head()"
   ]
  },
  {
   "cell_type": "code",
   "execution_count": 78,
   "metadata": {},
   "outputs": [],
   "source": [
    "# turn data into numpy arrays for training\n",
    "X = X.to_numpy()\n",
    "y = y.to_numpy()"
   ]
  },
  {
   "cell_type": "markdown",
   "metadata": {},
   "source": [
    "## 5 Fitting SVM"
   ]
  },
  {
   "cell_type": "code",
   "execution_count": 79,
   "metadata": {},
   "outputs": [
    {
     "name": "stdout",
     "output_type": "stream",
     "text": [
      "X shape (16909, 10) y shape (16909,)\n"
     ]
    }
   ],
   "source": [
    "# train test split\n",
    "X_train, X_test, y_train, y_test = train_test_split(\n",
    "    X, \n",
    "    y, \n",
    "    test_size = 0.3, random_state = 42)\n",
    "\n",
    "print(\"X shape\", X_train.shape, \"y shape\", y_train.shape)"
   ]
  },
  {
   "cell_type": "code",
   "execution_count": 80,
   "metadata": {},
   "outputs": [],
   "source": [
    "# feature scaling\n",
    "scaler = StandardScaler()\n",
    "X_train = scaler.fit_transform(X_train)"
   ]
  },
  {
   "cell_type": "code",
   "execution_count": 81,
   "metadata": {},
   "outputs": [
    {
     "name": "stdout",
     "output_type": "stream",
     "text": [
      "balanced accuracy score: 0.6959311555145645\n"
     ]
    }
   ],
   "source": [
    "# train SVM\n",
    "clf = svm.SVC(kernel='linear') # initialize a model\n",
    "clf.fit(X_train, y_train) # fit(train) it with the training data and targets\n",
    "\n",
    "# check test score \n",
    "y_pred = clf.predict(X_test) \n",
    "print('balanced accuracy score:', balanced_accuracy_score(y_test, y_pred)) "
   ]
  },
  {
   "cell_type": "code",
   "execution_count": 82,
   "metadata": {},
   "outputs": [
    {
     "name": "stdout",
     "output_type": "stream",
     "text": [
      "Fitting 5 folds for each of 9 candidates, totalling 45 fits\n",
      "[CV] END .....................................C=0.1, gamma=1; total time=   1.5s\n",
      "[CV] END .....................................C=0.1, gamma=1; total time=   1.5s\n",
      "[CV] END .....................................C=0.1, gamma=1; total time=   1.5s\n",
      "[CV] END .....................................C=0.1, gamma=1; total time=   1.4s\n",
      "[CV] END .....................................C=0.1, gamma=1; total time=   1.4s\n",
      "[CV] END ...................................C=0.1, gamma=0.1; total time=   1.5s\n",
      "[CV] END ...................................C=0.1, gamma=0.1; total time=   1.5s\n",
      "[CV] END ...................................C=0.1, gamma=0.1; total time=   1.4s\n",
      "[CV] END ...................................C=0.1, gamma=0.1; total time=   1.5s\n",
      "[CV] END ...................................C=0.1, gamma=0.1; total time=   1.4s\n",
      "[CV] END ..................................C=0.1, gamma=0.01; total time=   1.4s\n",
      "[CV] END ..................................C=0.1, gamma=0.01; total time=   1.5s\n",
      "[CV] END ..................................C=0.1, gamma=0.01; total time=   1.4s\n",
      "[CV] END ..................................C=0.1, gamma=0.01; total time=   1.4s\n",
      "[CV] END ..................................C=0.1, gamma=0.01; total time=   1.5s\n",
      "[CV] END .......................................C=1, gamma=1; total time=   2.2s\n",
      "[CV] END .......................................C=1, gamma=1; total time=   2.2s\n",
      "[CV] END .......................................C=1, gamma=1; total time=   2.3s\n",
      "[CV] END .......................................C=1, gamma=1; total time=   2.3s\n",
      "[CV] END .......................................C=1, gamma=1; total time=   2.2s\n",
      "[CV] END .....................................C=1, gamma=0.1; total time=   2.1s\n",
      "[CV] END .....................................C=1, gamma=0.1; total time=   2.2s\n",
      "[CV] END .....................................C=1, gamma=0.1; total time=   2.3s\n",
      "[CV] END .....................................C=1, gamma=0.1; total time=   2.3s\n",
      "[CV] END .....................................C=1, gamma=0.1; total time=   2.2s\n",
      "[CV] END ....................................C=1, gamma=0.01; total time=   2.2s\n",
      "[CV] END ....................................C=1, gamma=0.01; total time=   2.2s\n",
      "[CV] END ....................................C=1, gamma=0.01; total time=   2.3s\n",
      "[CV] END ....................................C=1, gamma=0.01; total time=   2.3s\n",
      "[CV] END ....................................C=1, gamma=0.01; total time=   2.2s\n",
      "[CV] END ......................................C=10, gamma=1; total time=   5.6s\n",
      "[CV] END ......................................C=10, gamma=1; total time=   5.6s\n",
      "[CV] END ......................................C=10, gamma=1; total time=   5.9s\n",
      "[CV] END ......................................C=10, gamma=1; total time=   5.6s\n",
      "[CV] END ......................................C=10, gamma=1; total time=   5.7s\n",
      "[CV] END ....................................C=10, gamma=0.1; total time=   5.6s\n",
      "[CV] END ....................................C=10, gamma=0.1; total time=   5.6s\n",
      "[CV] END ....................................C=10, gamma=0.1; total time=   5.9s\n",
      "[CV] END ....................................C=10, gamma=0.1; total time=   5.5s\n",
      "[CV] END ....................................C=10, gamma=0.1; total time=   5.7s\n",
      "[CV] END ...................................C=10, gamma=0.01; total time=   5.6s\n",
      "[CV] END ...................................C=10, gamma=0.01; total time=   5.5s\n",
      "[CV] END ...................................C=10, gamma=0.01; total time=   5.9s\n",
      "[CV] END ...................................C=10, gamma=0.01; total time=   5.5s\n",
      "[CV] END ...................................C=10, gamma=0.01; total time=   5.7s\n"
     ]
    },
    {
     "data": {
      "text/plain": [
       "GridSearchCV(estimator=SVC(kernel='linear'),\n",
       "             param_grid={'C': [0.1, 1, 10], 'gamma': [1, 0.1, 0.01]},\n",
       "             scoring=make_scorer(balanced_accuracy_score), verbose=2)"
      ]
     },
     "execution_count": 82,
     "metadata": {},
     "output_type": "execute_result"
    }
   ],
   "source": [
    "# fine-tuning hyperparameters\n",
    "scoring = make_scorer(balanced_accuracy_score)\n",
    "param_grid = {'C': [0.1, 1, 10],  \n",
    "              'gamma': [1,0.1,0.01]}\n",
    "\n",
    "grid = GridSearchCV(svm.SVC(kernel='linear'), param_grid, scoring = scoring, refit=True, verbose=2) \n",
    "grid.fit(X_train, y_train)"
   ]
  },
  {
   "cell_type": "code",
   "execution_count": 83,
   "metadata": {},
   "outputs": [
    {
     "name": "stdout",
     "output_type": "stream",
     "text": [
      "SVC(C=0.1, gamma=1, kernel='linear')\n"
     ]
    }
   ],
   "source": [
    "# print the best model's hyperparameters\n",
    "Dis = grid.best_estimator_\n",
    "print(Dis)"
   ]
  },
  {
   "cell_type": "markdown",
   "metadata": {},
   "source": [
    "## 6 Fitting a Generator\n",
    "\n",
    "Since we aim to predict 2020-2021 playoff, here we will just fit the data from that regular session which starts in Oct, 2020.   \n",
    "For time-series problems, we give priority to the recent data most reflective of team's recent ability."
   ]
  },
  {
   "cell_type": "code",
   "execution_count": 84,
   "metadata": {},
   "outputs": [
    {
     "data": {
      "text/html": [
       "<div>\n",
       "<style scoped>\n",
       "    .dataframe tbody tr th:only-of-type {\n",
       "        vertical-align: middle;\n",
       "    }\n",
       "\n",
       "    .dataframe tbody tr th {\n",
       "        vertical-align: top;\n",
       "    }\n",
       "\n",
       "    .dataframe thead th {\n",
       "        text-align: right;\n",
       "    }\n",
       "</style>\n",
       "<table border=\"1\" class=\"dataframe\">\n",
       "  <thead>\n",
       "    <tr style=\"text-align: right;\">\n",
       "      <th></th>\n",
       "      <th>GAME_DATE_EST</th>\n",
       "      <th>GAME_ID</th>\n",
       "      <th>GAME_STATUS_TEXT</th>\n",
       "      <th>HOME_TEAM_ID</th>\n",
       "      <th>VISITOR_TEAM_ID</th>\n",
       "      <th>SEASON</th>\n",
       "      <th>TEAM_ID_home</th>\n",
       "      <th>PTS_home</th>\n",
       "      <th>FG_PCT_home</th>\n",
       "      <th>FT_PCT_home</th>\n",
       "      <th>...</th>\n",
       "      <th>AST_home</th>\n",
       "      <th>REB_home</th>\n",
       "      <th>TEAM_ID_away</th>\n",
       "      <th>PTS_away</th>\n",
       "      <th>FG_PCT_away</th>\n",
       "      <th>FT_PCT_away</th>\n",
       "      <th>FG3_PCT_away</th>\n",
       "      <th>AST_away</th>\n",
       "      <th>REB_away</th>\n",
       "      <th>HOME_TEAM_WINS</th>\n",
       "    </tr>\n",
       "  </thead>\n",
       "  <tbody>\n",
       "    <tr>\n",
       "      <th>0</th>\n",
       "      <td>2020-10-02</td>\n",
       "      <td>41900402</td>\n",
       "      <td>Final</td>\n",
       "      <td>Lakers</td>\n",
       "      <td>Heat</td>\n",
       "      <td>2019</td>\n",
       "      <td>1610612747</td>\n",
       "      <td>124.0</td>\n",
       "      <td>0.505</td>\n",
       "      <td>0.588</td>\n",
       "      <td>...</td>\n",
       "      <td>32.0</td>\n",
       "      <td>44.0</td>\n",
       "      <td>1610612748</td>\n",
       "      <td>114.0</td>\n",
       "      <td>0.507</td>\n",
       "      <td>0.912</td>\n",
       "      <td>0.407</td>\n",
       "      <td>29.0</td>\n",
       "      <td>37.0</td>\n",
       "      <td>1</td>\n",
       "    </tr>\n",
       "    <tr>\n",
       "      <th>1</th>\n",
       "      <td>2020-10-04</td>\n",
       "      <td>41900403</td>\n",
       "      <td>Final</td>\n",
       "      <td>Heat</td>\n",
       "      <td>Lakers</td>\n",
       "      <td>2019</td>\n",
       "      <td>1610612748</td>\n",
       "      <td>115.0</td>\n",
       "      <td>0.513</td>\n",
       "      <td>0.913</td>\n",
       "      <td>...</td>\n",
       "      <td>25.0</td>\n",
       "      <td>37.0</td>\n",
       "      <td>1610612747</td>\n",
       "      <td>104.0</td>\n",
       "      <td>0.430</td>\n",
       "      <td>0.759</td>\n",
       "      <td>0.333</td>\n",
       "      <td>23.0</td>\n",
       "      <td>43.0</td>\n",
       "      <td>1</td>\n",
       "    </tr>\n",
       "    <tr>\n",
       "      <th>2</th>\n",
       "      <td>2020-10-06</td>\n",
       "      <td>41900404</td>\n",
       "      <td>Final</td>\n",
       "      <td>Heat</td>\n",
       "      <td>Lakers</td>\n",
       "      <td>2019</td>\n",
       "      <td>1610612748</td>\n",
       "      <td>96.0</td>\n",
       "      <td>0.427</td>\n",
       "      <td>0.808</td>\n",
       "      <td>...</td>\n",
       "      <td>18.0</td>\n",
       "      <td>39.0</td>\n",
       "      <td>1610612747</td>\n",
       "      <td>102.0</td>\n",
       "      <td>0.443</td>\n",
       "      <td>0.857</td>\n",
       "      <td>0.359</td>\n",
       "      <td>25.0</td>\n",
       "      <td>42.0</td>\n",
       "      <td>0</td>\n",
       "    </tr>\n",
       "    <tr>\n",
       "      <th>3</th>\n",
       "      <td>2020-10-09</td>\n",
       "      <td>41900405</td>\n",
       "      <td>Final</td>\n",
       "      <td>Lakers</td>\n",
       "      <td>Heat</td>\n",
       "      <td>2019</td>\n",
       "      <td>1610612747</td>\n",
       "      <td>108.0</td>\n",
       "      <td>0.463</td>\n",
       "      <td>0.857</td>\n",
       "      <td>...</td>\n",
       "      <td>21.0</td>\n",
       "      <td>41.0</td>\n",
       "      <td>1610612748</td>\n",
       "      <td>111.0</td>\n",
       "      <td>0.458</td>\n",
       "      <td>0.955</td>\n",
       "      <td>0.424</td>\n",
       "      <td>26.0</td>\n",
       "      <td>35.0</td>\n",
       "      <td>0</td>\n",
       "    </tr>\n",
       "    <tr>\n",
       "      <th>4</th>\n",
       "      <td>2020-10-11</td>\n",
       "      <td>41900406</td>\n",
       "      <td>Final</td>\n",
       "      <td>Heat</td>\n",
       "      <td>Lakers</td>\n",
       "      <td>2019</td>\n",
       "      <td>1610612748</td>\n",
       "      <td>93.0</td>\n",
       "      <td>0.443</td>\n",
       "      <td>0.591</td>\n",
       "      <td>...</td>\n",
       "      <td>25.0</td>\n",
       "      <td>41.0</td>\n",
       "      <td>1610612747</td>\n",
       "      <td>106.0</td>\n",
       "      <td>0.483</td>\n",
       "      <td>0.643</td>\n",
       "      <td>0.314</td>\n",
       "      <td>23.0</td>\n",
       "      <td>46.0</td>\n",
       "      <td>0</td>\n",
       "    </tr>\n",
       "  </tbody>\n",
       "</table>\n",
       "<p>5 rows × 21 columns</p>\n",
       "</div>"
      ],
      "text/plain": [
       "  GAME_DATE_EST   GAME_ID GAME_STATUS_TEXT HOME_TEAM_ID VISITOR_TEAM_ID  \\\n",
       "0    2020-10-02  41900402            Final       Lakers            Heat   \n",
       "1    2020-10-04  41900403            Final         Heat          Lakers   \n",
       "2    2020-10-06  41900404            Final         Heat          Lakers   \n",
       "3    2020-10-09  41900405            Final       Lakers            Heat   \n",
       "4    2020-10-11  41900406            Final         Heat          Lakers   \n",
       "\n",
       "   SEASON  TEAM_ID_home  PTS_home  FG_PCT_home  FT_PCT_home  ...  AST_home  \\\n",
       "0    2019    1610612747     124.0        0.505        0.588  ...      32.0   \n",
       "1    2019    1610612748     115.0        0.513        0.913  ...      25.0   \n",
       "2    2019    1610612748      96.0        0.427        0.808  ...      18.0   \n",
       "3    2019    1610612747     108.0        0.463        0.857  ...      21.0   \n",
       "4    2019    1610612748      93.0        0.443        0.591  ...      25.0   \n",
       "\n",
       "   REB_home  TEAM_ID_away  PTS_away  FG_PCT_away  FT_PCT_away  FG3_PCT_away  \\\n",
       "0      44.0    1610612748     114.0        0.507        0.912         0.407   \n",
       "1      37.0    1610612747     104.0        0.430        0.759         0.333   \n",
       "2      39.0    1610612747     102.0        0.443        0.857         0.359   \n",
       "3      41.0    1610612748     111.0        0.458        0.955         0.424   \n",
       "4      41.0    1610612747     106.0        0.483        0.643         0.314   \n",
       "\n",
       "   AST_away  REB_away  HOME_TEAM_WINS  \n",
       "0      29.0      37.0               1  \n",
       "1      23.0      43.0               1  \n",
       "2      25.0      42.0               0  \n",
       "3      26.0      35.0               0  \n",
       "4      23.0      46.0               0  \n",
       "\n",
       "[5 rows x 21 columns]"
      ]
     },
     "execution_count": 84,
     "metadata": {},
     "output_type": "execute_result"
    }
   ],
   "source": [
    "df_ = df.loc[df['GAME_DATE_EST'] > '2020-10-01'].reset_index(drop=True)\n",
    "df_.head()"
   ]
  },
  {
   "cell_type": "code",
   "execution_count": 85,
   "metadata": {},
   "outputs": [],
   "source": [
    "# define the list of common distributions for fitting\n",
    "selected_distributions = [\n",
    "    'norm','t', 'f', 'chi', 'cosine', 'alpha', \n",
    "    'beta', 'gamma', 'dgamma', 'dweibull',\n",
    "    'maxwell', 'pareto', 'fisk']\n",
    "\n",
    "# extract all the unique teams\n",
    "unique_teams = df['HOME_TEAM_ID'].unique()\n",
    "\n",
    "# Get all the data for teams\n",
    "all_team_sim_data = {}\n",
    "\n",
    "for team_name in unique_teams:\n",
    "    \n",
    "    # find games where the team is either the host or guest\n",
    "    df_team = df_.loc[(df_['HOME_TEAM_ID'] == team_name) | (df_['VISITOR_TEAM_ID'] == team_name)]\n",
    "    df_1 = df_team.loc[df_team['HOME_TEAM_ID'] == team_name][selected_features[:5]]\n",
    "    df_0 = df_team.loc[df_team['VISITOR_TEAM_ID'] == team_name][selected_features[5:]]\n",
    "\n",
    "    # combine df_0 and df_1\n",
    "    df_0.columns = df_1.columns\n",
    "    df_s = pd.concat([df_1, df_0], axis = 0)\n",
    "    \n",
    "    # convert the pandas.DataFrame to numpy array\n",
    "    all_team_sim_data[team_name] = df_s.to_numpy()"
   ]
  },
  {
   "cell_type": "code",
   "execution_count": 86,
   "metadata": {},
   "outputs": [
    {
     "data": {
      "text/html": [
       "\n",
       "            <div style=\"float: left; border: 1px solid black; width:500px\">\n",
       "              <div id=\"0bcf0aac-8f78-4367-b0dc-d8de7ceb2366\" style=\"background-color:blue; width:0%\">&nbsp;</div>\n",
       "            </div>\n",
       "            <label id=\"65696781-a836-4f3f-94bd-faf0a38e975f\" style=\"padding-left: 10px;\" text = \"\"/>\n",
       "            "
      ],
      "text/plain": [
       "<IPython.core.display.HTML object>"
      ]
     },
     "metadata": {},
     "output_type": "display_data"
    },
    {
     "data": {
      "text/html": [
       "\n",
       "            <div style=\"float: left; border: 1px solid black; width:500px\">\n",
       "              <div id=\"bac10833-6f5f-4be7-b08b-5c626ab34b52\" style=\"background-color:blue; width:0%\">&nbsp;</div>\n",
       "            </div>\n",
       "            <label id=\"88560c34-32cc-425f-9fcc-756aa71009ba\" style=\"padding-left: 10px;\" text = \"\"/>\n",
       "            "
      ],
      "text/plain": [
       "<IPython.core.display.HTML object>"
      ]
     },
     "metadata": {},
     "output_type": "display_data"
    },
    {
     "data": {
      "text/html": [
       "\n",
       "            <div style=\"float: left; border: 1px solid black; width:500px\">\n",
       "              <div id=\"8fee6ec3-419a-45cd-91c7-e895af1f9d96\" style=\"background-color:blue; width:0%\">&nbsp;</div>\n",
       "            </div>\n",
       "            <label id=\"22c612a9-9389-497a-86ae-083256daf7c6\" style=\"padding-left: 10px;\" text = \"\"/>\n",
       "            "
      ],
      "text/plain": [
       "<IPython.core.display.HTML object>"
      ]
     },
     "metadata": {},
     "output_type": "display_data"
    },
    {
     "data": {
      "text/html": [
       "\n",
       "            <div style=\"float: left; border: 1px solid black; width:500px\">\n",
       "              <div id=\"f0c07eac-2718-40e9-8231-75fd84330bb0\" style=\"background-color:blue; width:0%\">&nbsp;</div>\n",
       "            </div>\n",
       "            <label id=\"03186c1c-c62e-46b6-acf9-1430b528b7af\" style=\"padding-left: 10px;\" text = \"\"/>\n",
       "            "
      ],
      "text/plain": [
       "<IPython.core.display.HTML object>"
      ]
     },
     "metadata": {},
     "output_type": "display_data"
    },
    {
     "data": {
      "text/html": [
       "\n",
       "            <div style=\"float: left; border: 1px solid black; width:500px\">\n",
       "              <div id=\"f53b79eb-77c9-4971-b5a8-39a6f59fdf93\" style=\"background-color:blue; width:0%\">&nbsp;</div>\n",
       "            </div>\n",
       "            <label id=\"65553d27-b125-4ebb-9dac-3078fd1c3360\" style=\"padding-left: 10px;\" text = \"\"/>\n",
       "            "
      ],
      "text/plain": [
       "<IPython.core.display.HTML object>"
      ]
     },
     "metadata": {},
     "output_type": "display_data"
    },
    {
     "data": {
      "text/html": [
       "\n",
       "            <div style=\"float: left; border: 1px solid black; width:500px\">\n",
       "              <div id=\"0c6f4352-81dc-471a-9eda-637fdb992e8c\" style=\"background-color:blue; width:0%\">&nbsp;</div>\n",
       "            </div>\n",
       "            <label id=\"491c6412-2529-40b9-8a4f-59987657c176\" style=\"padding-left: 10px;\" text = \"\"/>\n",
       "            "
      ],
      "text/plain": [
       "<IPython.core.display.HTML object>"
      ]
     },
     "metadata": {},
     "output_type": "display_data"
    },
    {
     "data": {
      "text/html": [
       "\n",
       "            <div style=\"float: left; border: 1px solid black; width:500px\">\n",
       "              <div id=\"3b2a3262-25a7-4d7e-9bab-18ed059fb8cf\" style=\"background-color:blue; width:0%\">&nbsp;</div>\n",
       "            </div>\n",
       "            <label id=\"f18ed89a-be47-4d19-9212-0552a4d10394\" style=\"padding-left: 10px;\" text = \"\"/>\n",
       "            "
      ],
      "text/plain": [
       "<IPython.core.display.HTML object>"
      ]
     },
     "metadata": {},
     "output_type": "display_data"
    },
    {
     "data": {
      "text/html": [
       "\n",
       "            <div style=\"float: left; border: 1px solid black; width:500px\">\n",
       "              <div id=\"68b75f3b-cb3c-4400-ab35-99fbf534682a\" style=\"background-color:blue; width:0%\">&nbsp;</div>\n",
       "            </div>\n",
       "            <label id=\"a67fb7d7-5c64-45f3-8e2c-50fbd33a5299\" style=\"padding-left: 10px;\" text = \"\"/>\n",
       "            "
      ],
      "text/plain": [
       "<IPython.core.display.HTML object>"
      ]
     },
     "metadata": {},
     "output_type": "display_data"
    },
    {
     "data": {
      "text/html": [
       "\n",
       "            <div style=\"float: left; border: 1px solid black; width:500px\">\n",
       "              <div id=\"8da5fdda-c6b2-41a5-b198-a094090d3397\" style=\"background-color:blue; width:0%\">&nbsp;</div>\n",
       "            </div>\n",
       "            <label id=\"46e02151-c285-4d3f-9a6c-63a1e6e13c4a\" style=\"padding-left: 10px;\" text = \"\"/>\n",
       "            "
      ],
      "text/plain": [
       "<IPython.core.display.HTML object>"
      ]
     },
     "metadata": {},
     "output_type": "display_data"
    },
    {
     "data": {
      "text/html": [
       "\n",
       "            <div style=\"float: left; border: 1px solid black; width:500px\">\n",
       "              <div id=\"8c5d85cb-8ffc-4d55-bd5a-2941d89da3a8\" style=\"background-color:blue; width:0%\">&nbsp;</div>\n",
       "            </div>\n",
       "            <label id=\"a263f05f-b664-48e8-8a46-413888f4b0d3\" style=\"padding-left: 10px;\" text = \"\"/>\n",
       "            "
      ],
      "text/plain": [
       "<IPython.core.display.HTML object>"
      ]
     },
     "metadata": {},
     "output_type": "display_data"
    },
    {
     "data": {
      "text/html": [
       "\n",
       "            <div style=\"float: left; border: 1px solid black; width:500px\">\n",
       "              <div id=\"ce758c5a-f93a-4e26-be77-9daadcc930d0\" style=\"background-color:blue; width:0%\">&nbsp;</div>\n",
       "            </div>\n",
       "            <label id=\"333adeb1-4489-49cd-973f-fdbd22fca505\" style=\"padding-left: 10px;\" text = \"\"/>\n",
       "            "
      ],
      "text/plain": [
       "<IPython.core.display.HTML object>"
      ]
     },
     "metadata": {},
     "output_type": "display_data"
    },
    {
     "data": {
      "text/html": [
       "\n",
       "            <div style=\"float: left; border: 1px solid black; width:500px\">\n",
       "              <div id=\"4bd7ccce-b5f9-4492-b193-a074f896162a\" style=\"background-color:blue; width:0%\">&nbsp;</div>\n",
       "            </div>\n",
       "            <label id=\"fbad09bd-1157-480d-8e10-e3e9e0f56cd4\" style=\"padding-left: 10px;\" text = \"\"/>\n",
       "            "
      ],
      "text/plain": [
       "<IPython.core.display.HTML object>"
      ]
     },
     "metadata": {},
     "output_type": "display_data"
    },
    {
     "data": {
      "text/html": [
       "\n",
       "            <div style=\"float: left; border: 1px solid black; width:500px\">\n",
       "              <div id=\"bb3bef41-62d6-406c-81dc-371024cfdffd\" style=\"background-color:blue; width:0%\">&nbsp;</div>\n",
       "            </div>\n",
       "            <label id=\"1eb2ff72-789e-4eaa-8f93-60f7e517a223\" style=\"padding-left: 10px;\" text = \"\"/>\n",
       "            "
      ],
      "text/plain": [
       "<IPython.core.display.HTML object>"
      ]
     },
     "metadata": {},
     "output_type": "display_data"
    },
    {
     "data": {
      "text/html": [
       "\n",
       "            <div style=\"float: left; border: 1px solid black; width:500px\">\n",
       "              <div id=\"0d75cf38-0a2a-4a50-928c-3518fc2e6aad\" style=\"background-color:blue; width:0%\">&nbsp;</div>\n",
       "            </div>\n",
       "            <label id=\"4c5cf605-f652-4b24-9a89-2c55d26f2bb0\" style=\"padding-left: 10px;\" text = \"\"/>\n",
       "            "
      ],
      "text/plain": [
       "<IPython.core.display.HTML object>"
      ]
     },
     "metadata": {},
     "output_type": "display_data"
    },
    {
     "data": {
      "text/html": [
       "\n",
       "            <div style=\"float: left; border: 1px solid black; width:500px\">\n",
       "              <div id=\"49fa14ea-4ecd-4818-a721-9f72d00054c2\" style=\"background-color:blue; width:0%\">&nbsp;</div>\n",
       "            </div>\n",
       "            <label id=\"a3f3c93f-5b4c-45dc-844f-23de73f6f695\" style=\"padding-left: 10px;\" text = \"\"/>\n",
       "            "
      ],
      "text/plain": [
       "<IPython.core.display.HTML object>"
      ]
     },
     "metadata": {},
     "output_type": "display_data"
    },
    {
     "data": {
      "text/html": [
       "\n",
       "            <div style=\"float: left; border: 1px solid black; width:500px\">\n",
       "              <div id=\"cc860493-6b70-4bfc-bd3f-280606c187d1\" style=\"background-color:blue; width:0%\">&nbsp;</div>\n",
       "            </div>\n",
       "            <label id=\"623e22a2-d2f7-4a4d-90bf-aefefb05dc05\" style=\"padding-left: 10px;\" text = \"\"/>\n",
       "            "
      ],
      "text/plain": [
       "<IPython.core.display.HTML object>"
      ]
     },
     "metadata": {},
     "output_type": "display_data"
    },
    {
     "data": {
      "text/html": [
       "\n",
       "            <div style=\"float: left; border: 1px solid black; width:500px\">\n",
       "              <div id=\"79a6bbd4-95f0-4f5b-b085-aed0ad2b8700\" style=\"background-color:blue; width:0%\">&nbsp;</div>\n",
       "            </div>\n",
       "            <label id=\"314baa0b-1f91-47e8-ab59-3067a58ceefc\" style=\"padding-left: 10px;\" text = \"\"/>\n",
       "            "
      ],
      "text/plain": [
       "<IPython.core.display.HTML object>"
      ]
     },
     "metadata": {},
     "output_type": "display_data"
    },
    {
     "data": {
      "text/html": [
       "\n",
       "            <div style=\"float: left; border: 1px solid black; width:500px\">\n",
       "              <div id=\"7eccf87a-8a5a-46c3-9e5d-7d0c42c32269\" style=\"background-color:blue; width:0%\">&nbsp;</div>\n",
       "            </div>\n",
       "            <label id=\"b2804a5c-7744-4bc9-a6b2-4642bcebe8da\" style=\"padding-left: 10px;\" text = \"\"/>\n",
       "            "
      ],
      "text/plain": [
       "<IPython.core.display.HTML object>"
      ]
     },
     "metadata": {},
     "output_type": "display_data"
    },
    {
     "data": {
      "text/html": [
       "\n",
       "            <div style=\"float: left; border: 1px solid black; width:500px\">\n",
       "              <div id=\"34660d98-118b-4d59-9615-b61160b668dd\" style=\"background-color:blue; width:0%\">&nbsp;</div>\n",
       "            </div>\n",
       "            <label id=\"e8ca2e1a-28e7-4994-a37b-a317bf4408da\" style=\"padding-left: 10px;\" text = \"\"/>\n",
       "            "
      ],
      "text/plain": [
       "<IPython.core.display.HTML object>"
      ]
     },
     "metadata": {},
     "output_type": "display_data"
    },
    {
     "data": {
      "text/html": [
       "\n",
       "            <div style=\"float: left; border: 1px solid black; width:500px\">\n",
       "              <div id=\"43314cb1-88dc-4991-a945-033479692130\" style=\"background-color:blue; width:0%\">&nbsp;</div>\n",
       "            </div>\n",
       "            <label id=\"5150fb34-4429-4f67-92b9-d8e691aea83b\" style=\"padding-left: 10px;\" text = \"\"/>\n",
       "            "
      ],
      "text/plain": [
       "<IPython.core.display.HTML object>"
      ]
     },
     "metadata": {},
     "output_type": "display_data"
    },
    {
     "data": {
      "text/html": [
       "\n",
       "            <div style=\"float: left; border: 1px solid black; width:500px\">\n",
       "              <div id=\"a0fdecaa-5fe4-463e-b9f0-e778553cb4dd\" style=\"background-color:blue; width:0%\">&nbsp;</div>\n",
       "            </div>\n",
       "            <label id=\"157e393c-24aa-4302-8b6a-c646d489b166\" style=\"padding-left: 10px;\" text = \"\"/>\n",
       "            "
      ],
      "text/plain": [
       "<IPython.core.display.HTML object>"
      ]
     },
     "metadata": {},
     "output_type": "display_data"
    },
    {
     "data": {
      "text/html": [
       "\n",
       "            <div style=\"float: left; border: 1px solid black; width:500px\">\n",
       "              <div id=\"f1439eb6-6688-454a-93c4-aefcb61e0a95\" style=\"background-color:blue; width:0%\">&nbsp;</div>\n",
       "            </div>\n",
       "            <label id=\"e3add951-2571-4887-a377-5ab88f9d6874\" style=\"padding-left: 10px;\" text = \"\"/>\n",
       "            "
      ],
      "text/plain": [
       "<IPython.core.display.HTML object>"
      ]
     },
     "metadata": {},
     "output_type": "display_data"
    },
    {
     "data": {
      "text/html": [
       "\n",
       "            <div style=\"float: left; border: 1px solid black; width:500px\">\n",
       "              <div id=\"479d4f8d-3c82-4ee8-a208-045068e38840\" style=\"background-color:blue; width:0%\">&nbsp;</div>\n",
       "            </div>\n",
       "            <label id=\"48853652-28a8-409c-b9d7-5b60dafbd2c8\" style=\"padding-left: 10px;\" text = \"\"/>\n",
       "            "
      ],
      "text/plain": [
       "<IPython.core.display.HTML object>"
      ]
     },
     "metadata": {},
     "output_type": "display_data"
    },
    {
     "data": {
      "text/html": [
       "\n",
       "            <div style=\"float: left; border: 1px solid black; width:500px\">\n",
       "              <div id=\"d80d02bc-be29-45a4-af01-610ec4181b4d\" style=\"background-color:blue; width:0%\">&nbsp;</div>\n",
       "            </div>\n",
       "            <label id=\"f86c5b1e-7fb5-495e-a17d-936cd33e257b\" style=\"padding-left: 10px;\" text = \"\"/>\n",
       "            "
      ],
      "text/plain": [
       "<IPython.core.display.HTML object>"
      ]
     },
     "metadata": {},
     "output_type": "display_data"
    },
    {
     "data": {
      "text/html": [
       "\n",
       "            <div style=\"float: left; border: 1px solid black; width:500px\">\n",
       "              <div id=\"dfd92601-a8cc-4109-abee-c8f343fa4d71\" style=\"background-color:blue; width:0%\">&nbsp;</div>\n",
       "            </div>\n",
       "            <label id=\"109cf406-47af-4a3f-8d9e-d15bc1ed0e4e\" style=\"padding-left: 10px;\" text = \"\"/>\n",
       "            "
      ],
      "text/plain": [
       "<IPython.core.display.HTML object>"
      ]
     },
     "metadata": {},
     "output_type": "display_data"
    },
    {
     "data": {
      "text/html": [
       "\n",
       "            <div style=\"float: left; border: 1px solid black; width:500px\">\n",
       "              <div id=\"4c910887-3309-432a-a6f8-1bc0c6b68c19\" style=\"background-color:blue; width:0%\">&nbsp;</div>\n",
       "            </div>\n",
       "            <label id=\"0299c79b-5d70-4b23-a2c8-1541b6318235\" style=\"padding-left: 10px;\" text = \"\"/>\n",
       "            "
      ],
      "text/plain": [
       "<IPython.core.display.HTML object>"
      ]
     },
     "metadata": {},
     "output_type": "display_data"
    },
    {
     "data": {
      "text/html": [
       "\n",
       "            <div style=\"float: left; border: 1px solid black; width:500px\">\n",
       "              <div id=\"93855099-25c2-45b0-95db-2ab16b8bd3c6\" style=\"background-color:blue; width:0%\">&nbsp;</div>\n",
       "            </div>\n",
       "            <label id=\"57c5e285-343f-469e-9f87-4f8ba5c3bbd3\" style=\"padding-left: 10px;\" text = \"\"/>\n",
       "            "
      ],
      "text/plain": [
       "<IPython.core.display.HTML object>"
      ]
     },
     "metadata": {},
     "output_type": "display_data"
    },
    {
     "data": {
      "text/html": [
       "\n",
       "            <div style=\"float: left; border: 1px solid black; width:500px\">\n",
       "              <div id=\"e1434029-34a2-42cb-a528-66ab7fab17f8\" style=\"background-color:blue; width:0%\">&nbsp;</div>\n",
       "            </div>\n",
       "            <label id=\"2ace8da8-6524-451b-ae0b-88ee7944d981\" style=\"padding-left: 10px;\" text = \"\"/>\n",
       "            "
      ],
      "text/plain": [
       "<IPython.core.display.HTML object>"
      ]
     },
     "metadata": {},
     "output_type": "display_data"
    },
    {
     "data": {
      "text/html": [
       "\n",
       "            <div style=\"float: left; border: 1px solid black; width:500px\">\n",
       "              <div id=\"fa5fc9fb-427a-44fd-9d7a-366979b37b21\" style=\"background-color:blue; width:0%\">&nbsp;</div>\n",
       "            </div>\n",
       "            <label id=\"62d6fc87-c5b0-46d5-837e-000ffc162495\" style=\"padding-left: 10px;\" text = \"\"/>\n",
       "            "
      ],
      "text/plain": [
       "<IPython.core.display.HTML object>"
      ]
     },
     "metadata": {},
     "output_type": "display_data"
    },
    {
     "data": {
      "text/html": [
       "\n",
       "            <div style=\"float: left; border: 1px solid black; width:500px\">\n",
       "              <div id=\"c604c839-1ffc-4f93-91a9-91e3ce070b24\" style=\"background-color:blue; width:0%\">&nbsp;</div>\n",
       "            </div>\n",
       "            <label id=\"1e7da9ed-3cd2-4a74-be3b-b1ef37879d6f\" style=\"padding-left: 10px;\" text = \"\"/>\n",
       "            "
      ],
      "text/plain": [
       "<IPython.core.display.HTML object>"
      ]
     },
     "metadata": {},
     "output_type": "display_data"
    },
    {
     "data": {
      "text/html": [
       "\n",
       "            <div style=\"float: left; border: 1px solid black; width:500px\">\n",
       "              <div id=\"32cac014-4bfd-4799-af8a-482e9db9de5e\" style=\"background-color:blue; width:0%\">&nbsp;</div>\n",
       "            </div>\n",
       "            <label id=\"999dabac-e137-46c8-9eab-2eb7114b0838\" style=\"padding-left: 10px;\" text = \"\"/>\n",
       "            "
      ],
      "text/plain": [
       "<IPython.core.display.HTML object>"
      ]
     },
     "metadata": {},
     "output_type": "display_data"
    },
    {
     "data": {
      "text/html": [
       "\n",
       "            <div style=\"float: left; border: 1px solid black; width:500px\">\n",
       "              <div id=\"69d77d58-fad6-4698-a260-d4f3456871b3\" style=\"background-color:blue; width:0%\">&nbsp;</div>\n",
       "            </div>\n",
       "            <label id=\"48404a33-290f-4b00-8345-0c01b9054e6c\" style=\"padding-left: 10px;\" text = \"\"/>\n",
       "            "
      ],
      "text/plain": [
       "<IPython.core.display.HTML object>"
      ]
     },
     "metadata": {},
     "output_type": "display_data"
    },
    {
     "data": {
      "text/html": [
       "\n",
       "            <div style=\"float: left; border: 1px solid black; width:500px\">\n",
       "              <div id=\"ebafba7c-a609-431e-abcb-c10a53980169\" style=\"background-color:blue; width:0%\">&nbsp;</div>\n",
       "            </div>\n",
       "            <label id=\"fa88e825-69dd-47ef-b9fb-d4ba276b4758\" style=\"padding-left: 10px;\" text = \"\"/>\n",
       "            "
      ],
      "text/plain": [
       "<IPython.core.display.HTML object>"
      ]
     },
     "metadata": {},
     "output_type": "display_data"
    },
    {
     "data": {
      "text/html": [
       "\n",
       "            <div style=\"float: left; border: 1px solid black; width:500px\">\n",
       "              <div id=\"e6f26c64-672d-4ed4-a164-3eb1c2e0fbde\" style=\"background-color:blue; width:0%\">&nbsp;</div>\n",
       "            </div>\n",
       "            <label id=\"1bdd2abe-74ee-4ee5-a471-3d85701c9272\" style=\"padding-left: 10px;\" text = \"\"/>\n",
       "            "
      ],
      "text/plain": [
       "<IPython.core.display.HTML object>"
      ]
     },
     "metadata": {},
     "output_type": "display_data"
    },
    {
     "data": {
      "text/html": [
       "\n",
       "            <div style=\"float: left; border: 1px solid black; width:500px\">\n",
       "              <div id=\"55e73220-5b5f-492d-9ad5-a4bff48eb65c\" style=\"background-color:blue; width:0%\">&nbsp;</div>\n",
       "            </div>\n",
       "            <label id=\"e61acf2f-250e-4b62-9fe4-fede7e27b112\" style=\"padding-left: 10px;\" text = \"\"/>\n",
       "            "
      ],
      "text/plain": [
       "<IPython.core.display.HTML object>"
      ]
     },
     "metadata": {},
     "output_type": "display_data"
    },
    {
     "data": {
      "text/html": [
       "\n",
       "            <div style=\"float: left; border: 1px solid black; width:500px\">\n",
       "              <div id=\"a3692d41-bc00-4c7a-93c4-4072a2d0eed9\" style=\"background-color:blue; width:0%\">&nbsp;</div>\n",
       "            </div>\n",
       "            <label id=\"77b0a0c8-fdbb-40cc-a2ef-c981bade4ef0\" style=\"padding-left: 10px;\" text = \"\"/>\n",
       "            "
      ],
      "text/plain": [
       "<IPython.core.display.HTML object>"
      ]
     },
     "metadata": {},
     "output_type": "display_data"
    },
    {
     "data": {
      "text/html": [
       "\n",
       "            <div style=\"float: left; border: 1px solid black; width:500px\">\n",
       "              <div id=\"40b24825-cd23-4083-b1e0-ae9421d4f98e\" style=\"background-color:blue; width:0%\">&nbsp;</div>\n",
       "            </div>\n",
       "            <label id=\"ad65cdc0-c21b-4ebb-9f53-2e0d50c256ef\" style=\"padding-left: 10px;\" text = \"\"/>\n",
       "            "
      ],
      "text/plain": [
       "<IPython.core.display.HTML object>"
      ]
     },
     "metadata": {},
     "output_type": "display_data"
    },
    {
     "data": {
      "text/html": [
       "\n",
       "            <div style=\"float: left; border: 1px solid black; width:500px\">\n",
       "              <div id=\"8b09a32e-7462-4a9c-9a2b-b98c9ad60cad\" style=\"background-color:blue; width:0%\">&nbsp;</div>\n",
       "            </div>\n",
       "            <label id=\"34a8d848-f0dd-49f4-960e-1ed42c15ccb3\" style=\"padding-left: 10px;\" text = \"\"/>\n",
       "            "
      ],
      "text/plain": [
       "<IPython.core.display.HTML object>"
      ]
     },
     "metadata": {},
     "output_type": "display_data"
    },
    {
     "data": {
      "text/html": [
       "\n",
       "            <div style=\"float: left; border: 1px solid black; width:500px\">\n",
       "              <div id=\"85005822-7898-418a-88c6-77c59586616c\" style=\"background-color:blue; width:0%\">&nbsp;</div>\n",
       "            </div>\n",
       "            <label id=\"cf35a3eb-0bfb-483b-adbf-afe2bf816f86\" style=\"padding-left: 10px;\" text = \"\"/>\n",
       "            "
      ],
      "text/plain": [
       "<IPython.core.display.HTML object>"
      ]
     },
     "metadata": {},
     "output_type": "display_data"
    },
    {
     "data": {
      "text/html": [
       "\n",
       "            <div style=\"float: left; border: 1px solid black; width:500px\">\n",
       "              <div id=\"d588dbd1-08ed-48c2-9f54-b649795bb4f3\" style=\"background-color:blue; width:0%\">&nbsp;</div>\n",
       "            </div>\n",
       "            <label id=\"b3bcb159-9ec4-40bf-a636-64bd186b9e0d\" style=\"padding-left: 10px;\" text = \"\"/>\n",
       "            "
      ],
      "text/plain": [
       "<IPython.core.display.HTML object>"
      ]
     },
     "metadata": {},
     "output_type": "display_data"
    },
    {
     "data": {
      "text/html": [
       "\n",
       "            <div style=\"float: left; border: 1px solid black; width:500px\">\n",
       "              <div id=\"7e1852f9-7c65-4c81-858d-31b79bcdc70c\" style=\"background-color:blue; width:0%\">&nbsp;</div>\n",
       "            </div>\n",
       "            <label id=\"a49af771-4f4c-4c21-ac6b-0fe901381d76\" style=\"padding-left: 10px;\" text = \"\"/>\n",
       "            "
      ],
      "text/plain": [
       "<IPython.core.display.HTML object>"
      ]
     },
     "metadata": {},
     "output_type": "display_data"
    },
    {
     "data": {
      "text/html": [
       "\n",
       "            <div style=\"float: left; border: 1px solid black; width:500px\">\n",
       "              <div id=\"cf6f73e2-1aa8-4de1-ae84-5c042238ab2f\" style=\"background-color:blue; width:0%\">&nbsp;</div>\n",
       "            </div>\n",
       "            <label id=\"cdd9b723-1542-4f1e-9a8f-0dcaca4ef67c\" style=\"padding-left: 10px;\" text = \"\"/>\n",
       "            "
      ],
      "text/plain": [
       "<IPython.core.display.HTML object>"
      ]
     },
     "metadata": {},
     "output_type": "display_data"
    },
    {
     "data": {
      "text/html": [
       "\n",
       "            <div style=\"float: left; border: 1px solid black; width:500px\">\n",
       "              <div id=\"2a2c9041-270b-4198-b3ba-bccf5a9329c0\" style=\"background-color:blue; width:0%\">&nbsp;</div>\n",
       "            </div>\n",
       "            <label id=\"a3540c62-8934-4558-ad0f-9edc51bf0ab9\" style=\"padding-left: 10px;\" text = \"\"/>\n",
       "            "
      ],
      "text/plain": [
       "<IPython.core.display.HTML object>"
      ]
     },
     "metadata": {},
     "output_type": "display_data"
    },
    {
     "data": {
      "text/html": [
       "\n",
       "            <div style=\"float: left; border: 1px solid black; width:500px\">\n",
       "              <div id=\"f8ea81f1-c8f3-4363-91a1-caf5acb6bd60\" style=\"background-color:blue; width:0%\">&nbsp;</div>\n",
       "            </div>\n",
       "            <label id=\"5cc921b1-5660-4409-af49-a1bf8932cccb\" style=\"padding-left: 10px;\" text = \"\"/>\n",
       "            "
      ],
      "text/plain": [
       "<IPython.core.display.HTML object>"
      ]
     },
     "metadata": {},
     "output_type": "display_data"
    },
    {
     "data": {
      "text/html": [
       "\n",
       "            <div style=\"float: left; border: 1px solid black; width:500px\">\n",
       "              <div id=\"ebeeb36a-f164-4cca-935a-3de768405cc8\" style=\"background-color:blue; width:0%\">&nbsp;</div>\n",
       "            </div>\n",
       "            <label id=\"d52dadff-0885-4fb3-9884-b9bf1d9374d7\" style=\"padding-left: 10px;\" text = \"\"/>\n",
       "            "
      ],
      "text/plain": [
       "<IPython.core.display.HTML object>"
      ]
     },
     "metadata": {},
     "output_type": "display_data"
    },
    {
     "data": {
      "text/html": [
       "\n",
       "            <div style=\"float: left; border: 1px solid black; width:500px\">\n",
       "              <div id=\"e6b4e391-efb0-479d-b9f3-5f23259be10b\" style=\"background-color:blue; width:0%\">&nbsp;</div>\n",
       "            </div>\n",
       "            <label id=\"09432401-dfb9-4890-af7f-8620999c0c75\" style=\"padding-left: 10px;\" text = \"\"/>\n",
       "            "
      ],
      "text/plain": [
       "<IPython.core.display.HTML object>"
      ]
     },
     "metadata": {},
     "output_type": "display_data"
    },
    {
     "data": {
      "text/html": [
       "\n",
       "            <div style=\"float: left; border: 1px solid black; width:500px\">\n",
       "              <div id=\"124a8d0d-7fd9-4b46-b75f-7a3f00fbedfd\" style=\"background-color:blue; width:0%\">&nbsp;</div>\n",
       "            </div>\n",
       "            <label id=\"e49b7827-5e14-40c9-9dd9-5e936955c844\" style=\"padding-left: 10px;\" text = \"\"/>\n",
       "            "
      ],
      "text/plain": [
       "<IPython.core.display.HTML object>"
      ]
     },
     "metadata": {},
     "output_type": "display_data"
    },
    {
     "data": {
      "text/html": [
       "\n",
       "            <div style=\"float: left; border: 1px solid black; width:500px\">\n",
       "              <div id=\"277223b5-6fb0-48db-bf03-4b9e87dfeba2\" style=\"background-color:blue; width:0%\">&nbsp;</div>\n",
       "            </div>\n",
       "            <label id=\"4d6bbc83-e390-4af3-b85f-0e3c84a73dc3\" style=\"padding-left: 10px;\" text = \"\"/>\n",
       "            "
      ],
      "text/plain": [
       "<IPython.core.display.HTML object>"
      ]
     },
     "metadata": {},
     "output_type": "display_data"
    },
    {
     "data": {
      "text/html": [
       "\n",
       "            <div style=\"float: left; border: 1px solid black; width:500px\">\n",
       "              <div id=\"cc92dc11-f051-4bd6-b0f8-1f41015ff246\" style=\"background-color:blue; width:0%\">&nbsp;</div>\n",
       "            </div>\n",
       "            <label id=\"fae0ab69-64c1-4f56-b4e0-d1dc58c7de73\" style=\"padding-left: 10px;\" text = \"\"/>\n",
       "            "
      ],
      "text/plain": [
       "<IPython.core.display.HTML object>"
      ]
     },
     "metadata": {},
     "output_type": "display_data"
    },
    {
     "data": {
      "text/html": [
       "\n",
       "            <div style=\"float: left; border: 1px solid black; width:500px\">\n",
       "              <div id=\"62290ad9-d91c-4d71-9ee0-6006ceb44114\" style=\"background-color:blue; width:0%\">&nbsp;</div>\n",
       "            </div>\n",
       "            <label id=\"92298b99-da04-4175-b0e4-262aa3396df8\" style=\"padding-left: 10px;\" text = \"\"/>\n",
       "            "
      ],
      "text/plain": [
       "<IPython.core.display.HTML object>"
      ]
     },
     "metadata": {},
     "output_type": "display_data"
    },
    {
     "data": {
      "text/html": [
       "\n",
       "            <div style=\"float: left; border: 1px solid black; width:500px\">\n",
       "              <div id=\"8a1bf85a-0dd2-4390-9431-48fa889a9c4b\" style=\"background-color:blue; width:0%\">&nbsp;</div>\n",
       "            </div>\n",
       "            <label id=\"6dd359cd-3804-4381-8b9c-bb40dec17efd\" style=\"padding-left: 10px;\" text = \"\"/>\n",
       "            "
      ],
      "text/plain": [
       "<IPython.core.display.HTML object>"
      ]
     },
     "metadata": {},
     "output_type": "display_data"
    },
    {
     "data": {
      "text/html": [
       "\n",
       "            <div style=\"float: left; border: 1px solid black; width:500px\">\n",
       "              <div id=\"b955792e-1d17-498b-a52e-98a1ba6a3425\" style=\"background-color:blue; width:0%\">&nbsp;</div>\n",
       "            </div>\n",
       "            <label id=\"0f1e5705-be27-44b4-8a8a-af2d44662118\" style=\"padding-left: 10px;\" text = \"\"/>\n",
       "            "
      ],
      "text/plain": [
       "<IPython.core.display.HTML object>"
      ]
     },
     "metadata": {},
     "output_type": "display_data"
    },
    {
     "data": {
      "text/html": [
       "\n",
       "            <div style=\"float: left; border: 1px solid black; width:500px\">\n",
       "              <div id=\"1605374a-96f3-46cd-807b-29be100f80f3\" style=\"background-color:blue; width:0%\">&nbsp;</div>\n",
       "            </div>\n",
       "            <label id=\"5b12348a-2eb6-43b7-8857-dd2a61bd2057\" style=\"padding-left: 10px;\" text = \"\"/>\n",
       "            "
      ],
      "text/plain": [
       "<IPython.core.display.HTML object>"
      ]
     },
     "metadata": {},
     "output_type": "display_data"
    },
    {
     "data": {
      "text/html": [
       "\n",
       "            <div style=\"float: left; border: 1px solid black; width:500px\">\n",
       "              <div id=\"d1faf512-67ba-4997-91c2-935115285ae2\" style=\"background-color:blue; width:0%\">&nbsp;</div>\n",
       "            </div>\n",
       "            <label id=\"2708cd3a-d972-4d9c-a139-014120a6db47\" style=\"padding-left: 10px;\" text = \"\"/>\n",
       "            "
      ],
      "text/plain": [
       "<IPython.core.display.HTML object>"
      ]
     },
     "metadata": {},
     "output_type": "display_data"
    },
    {
     "data": {
      "text/html": [
       "\n",
       "            <div style=\"float: left; border: 1px solid black; width:500px\">\n",
       "              <div id=\"1411c87b-8444-47db-a2b6-75b5dacbda89\" style=\"background-color:blue; width:0%\">&nbsp;</div>\n",
       "            </div>\n",
       "            <label id=\"d4953f74-f1dd-4632-b07b-7ee21fb5f346\" style=\"padding-left: 10px;\" text = \"\"/>\n",
       "            "
      ],
      "text/plain": [
       "<IPython.core.display.HTML object>"
      ]
     },
     "metadata": {},
     "output_type": "display_data"
    },
    {
     "data": {
      "text/html": [
       "\n",
       "            <div style=\"float: left; border: 1px solid black; width:500px\">\n",
       "              <div id=\"453019a3-3011-408e-84da-1de4233725f9\" style=\"background-color:blue; width:0%\">&nbsp;</div>\n",
       "            </div>\n",
       "            <label id=\"b717f687-d7b6-438c-b2e0-349b6eead761\" style=\"padding-left: 10px;\" text = \"\"/>\n",
       "            "
      ],
      "text/plain": [
       "<IPython.core.display.HTML object>"
      ]
     },
     "metadata": {},
     "output_type": "display_data"
    },
    {
     "data": {
      "text/html": [
       "\n",
       "            <div style=\"float: left; border: 1px solid black; width:500px\">\n",
       "              <div id=\"b9ab1b69-5877-4035-97d5-d317c0cb2b32\" style=\"background-color:blue; width:0%\">&nbsp;</div>\n",
       "            </div>\n",
       "            <label id=\"2d493871-8d5b-4d3d-b72b-d5b84d7c7fa8\" style=\"padding-left: 10px;\" text = \"\"/>\n",
       "            "
      ],
      "text/plain": [
       "<IPython.core.display.HTML object>"
      ]
     },
     "metadata": {},
     "output_type": "display_data"
    },
    {
     "data": {
      "text/html": [
       "\n",
       "            <div style=\"float: left; border: 1px solid black; width:500px\">\n",
       "              <div id=\"c50809b2-0689-48bc-8ae2-d42d29220c86\" style=\"background-color:blue; width:0%\">&nbsp;</div>\n",
       "            </div>\n",
       "            <label id=\"50c9c3ef-7e85-4385-b33e-c7845f3f361b\" style=\"padding-left: 10px;\" text = \"\"/>\n",
       "            "
      ],
      "text/plain": [
       "<IPython.core.display.HTML object>"
      ]
     },
     "metadata": {},
     "output_type": "display_data"
    },
    {
     "data": {
      "text/html": [
       "\n",
       "            <div style=\"float: left; border: 1px solid black; width:500px\">\n",
       "              <div id=\"7e2a8ecc-3231-432e-b511-6fbfa245ac93\" style=\"background-color:blue; width:0%\">&nbsp;</div>\n",
       "            </div>\n",
       "            <label id=\"02703006-d3f2-4a35-85ca-17676a7577b6\" style=\"padding-left: 10px;\" text = \"\"/>\n",
       "            "
      ],
      "text/plain": [
       "<IPython.core.display.HTML object>"
      ]
     },
     "metadata": {},
     "output_type": "display_data"
    },
    {
     "data": {
      "text/html": [
       "\n",
       "            <div style=\"float: left; border: 1px solid black; width:500px\">\n",
       "              <div id=\"cc68671b-3deb-43d7-b946-23825b7495c4\" style=\"background-color:blue; width:0%\">&nbsp;</div>\n",
       "            </div>\n",
       "            <label id=\"fb570368-00a5-40b8-aab4-51c860d1d351\" style=\"padding-left: 10px;\" text = \"\"/>\n",
       "            "
      ],
      "text/plain": [
       "<IPython.core.display.HTML object>"
      ]
     },
     "metadata": {},
     "output_type": "display_data"
    },
    {
     "data": {
      "text/html": [
       "\n",
       "            <div style=\"float: left; border: 1px solid black; width:500px\">\n",
       "              <div id=\"1fdf08c3-eb93-4745-870f-e4a4bcd52f9a\" style=\"background-color:blue; width:0%\">&nbsp;</div>\n",
       "            </div>\n",
       "            <label id=\"a0f1b7af-3e7e-408a-acc4-fc885680f889\" style=\"padding-left: 10px;\" text = \"\"/>\n",
       "            "
      ],
      "text/plain": [
       "<IPython.core.display.HTML object>"
      ]
     },
     "metadata": {},
     "output_type": "display_data"
    },
    {
     "data": {
      "text/html": [
       "\n",
       "            <div style=\"float: left; border: 1px solid black; width:500px\">\n",
       "              <div id=\"817fbe83-d579-4c1c-9a90-a71d899eab51\" style=\"background-color:blue; width:0%\">&nbsp;</div>\n",
       "            </div>\n",
       "            <label id=\"be678fe8-bb87-4523-b57d-5170a78a7c4b\" style=\"padding-left: 10px;\" text = \"\"/>\n",
       "            "
      ],
      "text/plain": [
       "<IPython.core.display.HTML object>"
      ]
     },
     "metadata": {},
     "output_type": "display_data"
    },
    {
     "data": {
      "text/html": [
       "\n",
       "            <div style=\"float: left; border: 1px solid black; width:500px\">\n",
       "              <div id=\"7fd9e1e7-bb2b-41d0-872d-a630f44ea8c8\" style=\"background-color:blue; width:0%\">&nbsp;</div>\n",
       "            </div>\n",
       "            <label id=\"5d07fac0-f61f-42d5-b6bb-41d2691c8063\" style=\"padding-left: 10px;\" text = \"\"/>\n",
       "            "
      ],
      "text/plain": [
       "<IPython.core.display.HTML object>"
      ]
     },
     "metadata": {},
     "output_type": "display_data"
    },
    {
     "data": {
      "text/html": [
       "\n",
       "            <div style=\"float: left; border: 1px solid black; width:500px\">\n",
       "              <div id=\"a34ab860-0c3c-4fed-9827-35a9da67607b\" style=\"background-color:blue; width:0%\">&nbsp;</div>\n",
       "            </div>\n",
       "            <label id=\"c1e30640-5626-40fb-857a-c9d19fa311f6\" style=\"padding-left: 10px;\" text = \"\"/>\n",
       "            "
      ],
      "text/plain": [
       "<IPython.core.display.HTML object>"
      ]
     },
     "metadata": {},
     "output_type": "display_data"
    },
    {
     "data": {
      "text/html": [
       "\n",
       "            <div style=\"float: left; border: 1px solid black; width:500px\">\n",
       "              <div id=\"84f886c0-844f-43fe-8bd8-caa2bfe8e57a\" style=\"background-color:blue; width:0%\">&nbsp;</div>\n",
       "            </div>\n",
       "            <label id=\"e1cc6566-bebf-4417-872a-d103f1d76264\" style=\"padding-left: 10px;\" text = \"\"/>\n",
       "            "
      ],
      "text/plain": [
       "<IPython.core.display.HTML object>"
      ]
     },
     "metadata": {},
     "output_type": "display_data"
    },
    {
     "data": {
      "text/html": [
       "\n",
       "            <div style=\"float: left; border: 1px solid black; width:500px\">\n",
       "              <div id=\"cfff475f-6272-45b6-99fa-36923a2df486\" style=\"background-color:blue; width:0%\">&nbsp;</div>\n",
       "            </div>\n",
       "            <label id=\"7b2b82c8-ca66-4674-b561-cc2fec907da7\" style=\"padding-left: 10px;\" text = \"\"/>\n",
       "            "
      ],
      "text/plain": [
       "<IPython.core.display.HTML object>"
      ]
     },
     "metadata": {},
     "output_type": "display_data"
    },
    {
     "data": {
      "text/html": [
       "\n",
       "            <div style=\"float: left; border: 1px solid black; width:500px\">\n",
       "              <div id=\"2f4bc6af-31c8-4a64-8785-f8ee80538bfe\" style=\"background-color:blue; width:0%\">&nbsp;</div>\n",
       "            </div>\n",
       "            <label id=\"cba39dc7-ca92-4900-ab8a-633dfedae8a5\" style=\"padding-left: 10px;\" text = \"\"/>\n",
       "            "
      ],
      "text/plain": [
       "<IPython.core.display.HTML object>"
      ]
     },
     "metadata": {},
     "output_type": "display_data"
    },
    {
     "data": {
      "text/html": [
       "\n",
       "            <div style=\"float: left; border: 1px solid black; width:500px\">\n",
       "              <div id=\"70990d0b-37ef-46de-8666-88dff78bfca4\" style=\"background-color:blue; width:0%\">&nbsp;</div>\n",
       "            </div>\n",
       "            <label id=\"3843263f-2ab9-4453-b789-8573717c6c86\" style=\"padding-left: 10px;\" text = \"\"/>\n",
       "            "
      ],
      "text/plain": [
       "<IPython.core.display.HTML object>"
      ]
     },
     "metadata": {},
     "output_type": "display_data"
    },
    {
     "data": {
      "text/html": [
       "\n",
       "            <div style=\"float: left; border: 1px solid black; width:500px\">\n",
       "              <div id=\"79d1f487-5f54-4cc1-a911-141bc43c06be\" style=\"background-color:blue; width:0%\">&nbsp;</div>\n",
       "            </div>\n",
       "            <label id=\"0e9d0a31-2e25-4ba8-b958-97249fb565b9\" style=\"padding-left: 10px;\" text = \"\"/>\n",
       "            "
      ],
      "text/plain": [
       "<IPython.core.display.HTML object>"
      ]
     },
     "metadata": {},
     "output_type": "display_data"
    },
    {
     "data": {
      "text/html": [
       "\n",
       "            <div style=\"float: left; border: 1px solid black; width:500px\">\n",
       "              <div id=\"0d590503-cfc0-4d30-97c7-9e233c3b4e4e\" style=\"background-color:blue; width:0%\">&nbsp;</div>\n",
       "            </div>\n",
       "            <label id=\"7eed0c73-02de-437d-ac50-3f934c6f217d\" style=\"padding-left: 10px;\" text = \"\"/>\n",
       "            "
      ],
      "text/plain": [
       "<IPython.core.display.HTML object>"
      ]
     },
     "metadata": {},
     "output_type": "display_data"
    },
    {
     "data": {
      "text/html": [
       "\n",
       "            <div style=\"float: left; border: 1px solid black; width:500px\">\n",
       "              <div id=\"5c2cdd62-68eb-4fbb-8a7f-6c4347760f8e\" style=\"background-color:blue; width:0%\">&nbsp;</div>\n",
       "            </div>\n",
       "            <label id=\"67de03c7-b088-4792-b309-49925b17423d\" style=\"padding-left: 10px;\" text = \"\"/>\n",
       "            "
      ],
      "text/plain": [
       "<IPython.core.display.HTML object>"
      ]
     },
     "metadata": {},
     "output_type": "display_data"
    },
    {
     "data": {
      "text/html": [
       "\n",
       "            <div style=\"float: left; border: 1px solid black; width:500px\">\n",
       "              <div id=\"2b4bee11-113b-432f-b0f2-1d44945a7c9b\" style=\"background-color:blue; width:0%\">&nbsp;</div>\n",
       "            </div>\n",
       "            <label id=\"296d3f37-b818-4b77-b905-a06c420cd4f0\" style=\"padding-left: 10px;\" text = \"\"/>\n",
       "            "
      ],
      "text/plain": [
       "<IPython.core.display.HTML object>"
      ]
     },
     "metadata": {},
     "output_type": "display_data"
    },
    {
     "data": {
      "text/html": [
       "\n",
       "            <div style=\"float: left; border: 1px solid black; width:500px\">\n",
       "              <div id=\"eee76bb8-d62c-4cf5-82e2-769f58cc585d\" style=\"background-color:blue; width:0%\">&nbsp;</div>\n",
       "            </div>\n",
       "            <label id=\"d949fe74-3beb-4b4d-9857-174b994156f6\" style=\"padding-left: 10px;\" text = \"\"/>\n",
       "            "
      ],
      "text/plain": [
       "<IPython.core.display.HTML object>"
      ]
     },
     "metadata": {},
     "output_type": "display_data"
    },
    {
     "data": {
      "text/html": [
       "\n",
       "            <div style=\"float: left; border: 1px solid black; width:500px\">\n",
       "              <div id=\"643a7221-4d63-4717-a429-f87db0df8d94\" style=\"background-color:blue; width:0%\">&nbsp;</div>\n",
       "            </div>\n",
       "            <label id=\"3f72a82b-5aeb-45e9-b1cd-deb0c5b23d16\" style=\"padding-left: 10px;\" text = \"\"/>\n",
       "            "
      ],
      "text/plain": [
       "<IPython.core.display.HTML object>"
      ]
     },
     "metadata": {},
     "output_type": "display_data"
    },
    {
     "data": {
      "text/html": [
       "\n",
       "            <div style=\"float: left; border: 1px solid black; width:500px\">\n",
       "              <div id=\"7ed74b39-3c02-41b7-9591-816913f7a954\" style=\"background-color:blue; width:0%\">&nbsp;</div>\n",
       "            </div>\n",
       "            <label id=\"736d50dd-4fc0-4677-a6fd-be4275a458a0\" style=\"padding-left: 10px;\" text = \"\"/>\n",
       "            "
      ],
      "text/plain": [
       "<IPython.core.display.HTML object>"
      ]
     },
     "metadata": {},
     "output_type": "display_data"
    },
    {
     "data": {
      "text/html": [
       "\n",
       "            <div style=\"float: left; border: 1px solid black; width:500px\">\n",
       "              <div id=\"45043c71-6ca2-4c33-877e-84ae3f3a6b3d\" style=\"background-color:blue; width:0%\">&nbsp;</div>\n",
       "            </div>\n",
       "            <label id=\"2b6ebc3c-3326-4b96-95f5-8898d4a36d2b\" style=\"padding-left: 10px;\" text = \"\"/>\n",
       "            "
      ],
      "text/plain": [
       "<IPython.core.display.HTML object>"
      ]
     },
     "metadata": {},
     "output_type": "display_data"
    },
    {
     "data": {
      "text/html": [
       "\n",
       "            <div style=\"float: left; border: 1px solid black; width:500px\">\n",
       "              <div id=\"409fbc78-c79e-4904-9dfe-af9c82c79894\" style=\"background-color:blue; width:0%\">&nbsp;</div>\n",
       "            </div>\n",
       "            <label id=\"80996e8d-8d63-418e-811d-d3ac525678c5\" style=\"padding-left: 10px;\" text = \"\"/>\n",
       "            "
      ],
      "text/plain": [
       "<IPython.core.display.HTML object>"
      ]
     },
     "metadata": {},
     "output_type": "display_data"
    },
    {
     "data": {
      "text/html": [
       "\n",
       "            <div style=\"float: left; border: 1px solid black; width:500px\">\n",
       "              <div id=\"f146f0a9-e9c0-4b7a-bb0c-4d16bf9116a8\" style=\"background-color:blue; width:0%\">&nbsp;</div>\n",
       "            </div>\n",
       "            <label id=\"7c6251f5-6820-4d03-9375-fc301cdfdd4f\" style=\"padding-left: 10px;\" text = \"\"/>\n",
       "            "
      ],
      "text/plain": [
       "<IPython.core.display.HTML object>"
      ]
     },
     "metadata": {},
     "output_type": "display_data"
    },
    {
     "data": {
      "text/html": [
       "\n",
       "            <div style=\"float: left; border: 1px solid black; width:500px\">\n",
       "              <div id=\"6a9e72a0-b27e-45bc-a8bd-0b96d34dfdf4\" style=\"background-color:blue; width:0%\">&nbsp;</div>\n",
       "            </div>\n",
       "            <label id=\"b70a64e4-37a6-4a09-88d0-4d04f56950ec\" style=\"padding-left: 10px;\" text = \"\"/>\n",
       "            "
      ],
      "text/plain": [
       "<IPython.core.display.HTML object>"
      ]
     },
     "metadata": {},
     "output_type": "display_data"
    },
    {
     "data": {
      "text/html": [
       "\n",
       "            <div style=\"float: left; border: 1px solid black; width:500px\">\n",
       "              <div id=\"5ea4d303-2df5-41b6-bbd9-3507df5e19ff\" style=\"background-color:blue; width:0%\">&nbsp;</div>\n",
       "            </div>\n",
       "            <label id=\"34212531-5cda-4159-bc2d-9d74c4f420a8\" style=\"padding-left: 10px;\" text = \"\"/>\n",
       "            "
      ],
      "text/plain": [
       "<IPython.core.display.HTML object>"
      ]
     },
     "metadata": {},
     "output_type": "display_data"
    },
    {
     "data": {
      "text/html": [
       "\n",
       "            <div style=\"float: left; border: 1px solid black; width:500px\">\n",
       "              <div id=\"43df4868-0d48-4401-bf22-3a647781e344\" style=\"background-color:blue; width:0%\">&nbsp;</div>\n",
       "            </div>\n",
       "            <label id=\"2a061d08-00e8-45f4-a020-c6a042b57e81\" style=\"padding-left: 10px;\" text = \"\"/>\n",
       "            "
      ],
      "text/plain": [
       "<IPython.core.display.HTML object>"
      ]
     },
     "metadata": {},
     "output_type": "display_data"
    },
    {
     "data": {
      "text/html": [
       "\n",
       "            <div style=\"float: left; border: 1px solid black; width:500px\">\n",
       "              <div id=\"7a9df3c7-ee46-4a3f-a6d1-518f47d44908\" style=\"background-color:blue; width:0%\">&nbsp;</div>\n",
       "            </div>\n",
       "            <label id=\"5c4e9b3d-a1f5-419e-a671-dcd939fa0f92\" style=\"padding-left: 10px;\" text = \"\"/>\n",
       "            "
      ],
      "text/plain": [
       "<IPython.core.display.HTML object>"
      ]
     },
     "metadata": {},
     "output_type": "display_data"
    },
    {
     "data": {
      "text/html": [
       "\n",
       "            <div style=\"float: left; border: 1px solid black; width:500px\">\n",
       "              <div id=\"dd83e2ec-07d3-4fe8-a101-ca473148cddf\" style=\"background-color:blue; width:0%\">&nbsp;</div>\n",
       "            </div>\n",
       "            <label id=\"d2e1f299-03dd-4ffd-b15a-cd221c834db5\" style=\"padding-left: 10px;\" text = \"\"/>\n",
       "            "
      ],
      "text/plain": [
       "<IPython.core.display.HTML object>"
      ]
     },
     "metadata": {},
     "output_type": "display_data"
    },
    {
     "data": {
      "text/html": [
       "\n",
       "            <div style=\"float: left; border: 1px solid black; width:500px\">\n",
       "              <div id=\"41ead2ab-ca6d-45f5-bc0a-60bccaa429ff\" style=\"background-color:blue; width:0%\">&nbsp;</div>\n",
       "            </div>\n",
       "            <label id=\"54ee01ec-ea09-44fe-9017-8c7b8b731182\" style=\"padding-left: 10px;\" text = \"\"/>\n",
       "            "
      ],
      "text/plain": [
       "<IPython.core.display.HTML object>"
      ]
     },
     "metadata": {},
     "output_type": "display_data"
    },
    {
     "data": {
      "text/html": [
       "\n",
       "            <div style=\"float: left; border: 1px solid black; width:500px\">\n",
       "              <div id=\"818b22ab-1037-41dc-832c-3e25e80dddfc\" style=\"background-color:blue; width:0%\">&nbsp;</div>\n",
       "            </div>\n",
       "            <label id=\"f399b0f7-1053-4ea3-9c1d-447a7f4bc84e\" style=\"padding-left: 10px;\" text = \"\"/>\n",
       "            "
      ],
      "text/plain": [
       "<IPython.core.display.HTML object>"
      ]
     },
     "metadata": {},
     "output_type": "display_data"
    },
    {
     "data": {
      "text/html": [
       "\n",
       "            <div style=\"float: left; border: 1px solid black; width:500px\">\n",
       "              <div id=\"53768fe3-0d47-434f-8db7-d4e47b9f0a0f\" style=\"background-color:blue; width:0%\">&nbsp;</div>\n",
       "            </div>\n",
       "            <label id=\"f9e8f788-a6a4-4e63-bc55-cc6b2bf3bffd\" style=\"padding-left: 10px;\" text = \"\"/>\n",
       "            "
      ],
      "text/plain": [
       "<IPython.core.display.HTML object>"
      ]
     },
     "metadata": {},
     "output_type": "display_data"
    },
    {
     "data": {
      "text/html": [
       "\n",
       "            <div style=\"float: left; border: 1px solid black; width:500px\">\n",
       "              <div id=\"9482f79a-eced-47e3-8aaf-d9fbee949833\" style=\"background-color:blue; width:0%\">&nbsp;</div>\n",
       "            </div>\n",
       "            <label id=\"d53ec40c-1675-4a32-8610-080d3aa67440\" style=\"padding-left: 10px;\" text = \"\"/>\n",
       "            "
      ],
      "text/plain": [
       "<IPython.core.display.HTML object>"
      ]
     },
     "metadata": {},
     "output_type": "display_data"
    },
    {
     "data": {
      "text/html": [
       "\n",
       "            <div style=\"float: left; border: 1px solid black; width:500px\">\n",
       "              <div id=\"295be8c7-26d8-4b07-bfd9-de851da0efcb\" style=\"background-color:blue; width:0%\">&nbsp;</div>\n",
       "            </div>\n",
       "            <label id=\"99932cc9-c023-4969-b946-dbf9d178a88e\" style=\"padding-left: 10px;\" text = \"\"/>\n",
       "            "
      ],
      "text/plain": [
       "<IPython.core.display.HTML object>"
      ]
     },
     "metadata": {},
     "output_type": "display_data"
    },
    {
     "data": {
      "text/html": [
       "\n",
       "            <div style=\"float: left; border: 1px solid black; width:500px\">\n",
       "              <div id=\"68f26e8d-9530-4576-951a-798557033082\" style=\"background-color:blue; width:0%\">&nbsp;</div>\n",
       "            </div>\n",
       "            <label id=\"47439eba-741a-46e9-ab4f-ba6543beba5e\" style=\"padding-left: 10px;\" text = \"\"/>\n",
       "            "
      ],
      "text/plain": [
       "<IPython.core.display.HTML object>"
      ]
     },
     "metadata": {},
     "output_type": "display_data"
    },
    {
     "data": {
      "text/html": [
       "\n",
       "            <div style=\"float: left; border: 1px solid black; width:500px\">\n",
       "              <div id=\"e603664c-faad-4e78-b459-7219b7e86fa5\" style=\"background-color:blue; width:0%\">&nbsp;</div>\n",
       "            </div>\n",
       "            <label id=\"9c7bee64-e067-4bcc-b51d-75e2d309ea4b\" style=\"padding-left: 10px;\" text = \"\"/>\n",
       "            "
      ],
      "text/plain": [
       "<IPython.core.display.HTML object>"
      ]
     },
     "metadata": {},
     "output_type": "display_data"
    },
    {
     "data": {
      "text/html": [
       "\n",
       "            <div style=\"float: left; border: 1px solid black; width:500px\">\n",
       "              <div id=\"99437daa-5f13-4271-8176-88c80b560494\" style=\"background-color:blue; width:0%\">&nbsp;</div>\n",
       "            </div>\n",
       "            <label id=\"d42a1a91-bc2d-4a25-bbf6-75761faae069\" style=\"padding-left: 10px;\" text = \"\"/>\n",
       "            "
      ],
      "text/plain": [
       "<IPython.core.display.HTML object>"
      ]
     },
     "metadata": {},
     "output_type": "display_data"
    },
    {
     "data": {
      "text/html": [
       "\n",
       "            <div style=\"float: left; border: 1px solid black; width:500px\">\n",
       "              <div id=\"ee0c6e73-7e69-4b59-9d16-add801e6ab62\" style=\"background-color:blue; width:0%\">&nbsp;</div>\n",
       "            </div>\n",
       "            <label id=\"98718cf5-d225-4fec-a98b-b06756eeca40\" style=\"padding-left: 10px;\" text = \"\"/>\n",
       "            "
      ],
      "text/plain": [
       "<IPython.core.display.HTML object>"
      ]
     },
     "metadata": {},
     "output_type": "display_data"
    },
    {
     "data": {
      "text/html": [
       "\n",
       "            <div style=\"float: left; border: 1px solid black; width:500px\">\n",
       "              <div id=\"4c81191a-57af-4ff3-b4d6-00be696a8c44\" style=\"background-color:blue; width:0%\">&nbsp;</div>\n",
       "            </div>\n",
       "            <label id=\"02fec8c4-6c40-4030-b10c-001eafb832d9\" style=\"padding-left: 10px;\" text = \"\"/>\n",
       "            "
      ],
      "text/plain": [
       "<IPython.core.display.HTML object>"
      ]
     },
     "metadata": {},
     "output_type": "display_data"
    },
    {
     "data": {
      "text/html": [
       "\n",
       "            <div style=\"float: left; border: 1px solid black; width:500px\">\n",
       "              <div id=\"30a8a1ad-efea-404f-9eaf-cce376023bee\" style=\"background-color:blue; width:0%\">&nbsp;</div>\n",
       "            </div>\n",
       "            <label id=\"d00a67c2-0300-4d5f-833f-745c6435b815\" style=\"padding-left: 10px;\" text = \"\"/>\n",
       "            "
      ],
      "text/plain": [
       "<IPython.core.display.HTML object>"
      ]
     },
     "metadata": {},
     "output_type": "display_data"
    },
    {
     "data": {
      "text/html": [
       "\n",
       "            <div style=\"float: left; border: 1px solid black; width:500px\">\n",
       "              <div id=\"597431e2-d001-4528-8c6f-de294d1b3dca\" style=\"background-color:blue; width:0%\">&nbsp;</div>\n",
       "            </div>\n",
       "            <label id=\"a35a6f05-527e-4976-a72f-f86c79fa8d22\" style=\"padding-left: 10px;\" text = \"\"/>\n",
       "            "
      ],
      "text/plain": [
       "<IPython.core.display.HTML object>"
      ]
     },
     "metadata": {},
     "output_type": "display_data"
    },
    {
     "data": {
      "text/html": [
       "\n",
       "            <div style=\"float: left; border: 1px solid black; width:500px\">\n",
       "              <div id=\"dc13715c-626e-477e-a932-948d5de67b8d\" style=\"background-color:blue; width:0%\">&nbsp;</div>\n",
       "            </div>\n",
       "            <label id=\"a9187dbf-8899-4187-b243-eff07cd56182\" style=\"padding-left: 10px;\" text = \"\"/>\n",
       "            "
      ],
      "text/plain": [
       "<IPython.core.display.HTML object>"
      ]
     },
     "metadata": {},
     "output_type": "display_data"
    },
    {
     "data": {
      "text/html": [
       "\n",
       "            <div style=\"float: left; border: 1px solid black; width:500px\">\n",
       "              <div id=\"608cbd8c-28da-44e3-bd70-060a34615c1e\" style=\"background-color:blue; width:0%\">&nbsp;</div>\n",
       "            </div>\n",
       "            <label id=\"8cfb8271-a995-4b79-940b-44e23ef66e1b\" style=\"padding-left: 10px;\" text = \"\"/>\n",
       "            "
      ],
      "text/plain": [
       "<IPython.core.display.HTML object>"
      ]
     },
     "metadata": {},
     "output_type": "display_data"
    },
    {
     "data": {
      "text/html": [
       "\n",
       "            <div style=\"float: left; border: 1px solid black; width:500px\">\n",
       "              <div id=\"5a37724f-1e32-4ce6-bdae-8a4a3d3ee350\" style=\"background-color:blue; width:0%\">&nbsp;</div>\n",
       "            </div>\n",
       "            <label id=\"58190c72-63e9-4fbd-b2b3-c1261aff4a6a\" style=\"padding-left: 10px;\" text = \"\"/>\n",
       "            "
      ],
      "text/plain": [
       "<IPython.core.display.HTML object>"
      ]
     },
     "metadata": {},
     "output_type": "display_data"
    },
    {
     "data": {
      "text/html": [
       "\n",
       "            <div style=\"float: left; border: 1px solid black; width:500px\">\n",
       "              <div id=\"1623fd71-09b3-49ff-b5b8-2790de0b059c\" style=\"background-color:blue; width:0%\">&nbsp;</div>\n",
       "            </div>\n",
       "            <label id=\"7ed86f78-9a90-47b0-9921-fa1783e7e632\" style=\"padding-left: 10px;\" text = \"\"/>\n",
       "            "
      ],
      "text/plain": [
       "<IPython.core.display.HTML object>"
      ]
     },
     "metadata": {},
     "output_type": "display_data"
    },
    {
     "data": {
      "text/html": [
       "\n",
       "            <div style=\"float: left; border: 1px solid black; width:500px\">\n",
       "              <div id=\"c953ba34-76ee-4a18-807d-08297bd2a20e\" style=\"background-color:blue; width:0%\">&nbsp;</div>\n",
       "            </div>\n",
       "            <label id=\"f77ddb3a-05f6-460a-9e69-ef19585516b5\" style=\"padding-left: 10px;\" text = \"\"/>\n",
       "            "
      ],
      "text/plain": [
       "<IPython.core.display.HTML object>"
      ]
     },
     "metadata": {},
     "output_type": "display_data"
    },
    {
     "data": {
      "text/html": [
       "\n",
       "            <div style=\"float: left; border: 1px solid black; width:500px\">\n",
       "              <div id=\"0d3339ee-fd2d-4de7-82bc-c7a37efec359\" style=\"background-color:blue; width:0%\">&nbsp;</div>\n",
       "            </div>\n",
       "            <label id=\"189c4b02-8cbe-4dd6-88cc-d506a9c50f02\" style=\"padding-left: 10px;\" text = \"\"/>\n",
       "            "
      ],
      "text/plain": [
       "<IPython.core.display.HTML object>"
      ]
     },
     "metadata": {},
     "output_type": "display_data"
    },
    {
     "data": {
      "text/html": [
       "\n",
       "            <div style=\"float: left; border: 1px solid black; width:500px\">\n",
       "              <div id=\"cd4e1bcd-f397-4a35-9aca-95d63ba55d48\" style=\"background-color:blue; width:0%\">&nbsp;</div>\n",
       "            </div>\n",
       "            <label id=\"37175cdb-0863-4803-a0b8-02a995d32735\" style=\"padding-left: 10px;\" text = \"\"/>\n",
       "            "
      ],
      "text/plain": [
       "<IPython.core.display.HTML object>"
      ]
     },
     "metadata": {},
     "output_type": "display_data"
    },
    {
     "data": {
      "text/html": [
       "\n",
       "            <div style=\"float: left; border: 1px solid black; width:500px\">\n",
       "              <div id=\"52c2f7dc-a377-43bb-a051-7509bb868fd6\" style=\"background-color:blue; width:0%\">&nbsp;</div>\n",
       "            </div>\n",
       "            <label id=\"950e8ca1-a265-411a-8e19-c3ff52f42b0c\" style=\"padding-left: 10px;\" text = \"\"/>\n",
       "            "
      ],
      "text/plain": [
       "<IPython.core.display.HTML object>"
      ]
     },
     "metadata": {},
     "output_type": "display_data"
    },
    {
     "data": {
      "text/html": [
       "\n",
       "            <div style=\"float: left; border: 1px solid black; width:500px\">\n",
       "              <div id=\"807f00c9-1682-4f1a-bc09-53b0af1f7803\" style=\"background-color:blue; width:0%\">&nbsp;</div>\n",
       "            </div>\n",
       "            <label id=\"8b68a572-b975-4015-9e45-3efa3b70b74f\" style=\"padding-left: 10px;\" text = \"\"/>\n",
       "            "
      ],
      "text/plain": [
       "<IPython.core.display.HTML object>"
      ]
     },
     "metadata": {},
     "output_type": "display_data"
    },
    {
     "data": {
      "text/html": [
       "\n",
       "            <div style=\"float: left; border: 1px solid black; width:500px\">\n",
       "              <div id=\"baa50859-27f1-4676-bc79-245dd9ca0a2d\" style=\"background-color:blue; width:0%\">&nbsp;</div>\n",
       "            </div>\n",
       "            <label id=\"11e1453b-5303-4b88-82f4-a09692df783d\" style=\"padding-left: 10px;\" text = \"\"/>\n",
       "            "
      ],
      "text/plain": [
       "<IPython.core.display.HTML object>"
      ]
     },
     "metadata": {},
     "output_type": "display_data"
    },
    {
     "data": {
      "text/html": [
       "\n",
       "            <div style=\"float: left; border: 1px solid black; width:500px\">\n",
       "              <div id=\"bd98cfa6-dd53-4af4-9e5a-040006670d75\" style=\"background-color:blue; width:0%\">&nbsp;</div>\n",
       "            </div>\n",
       "            <label id=\"3faccd8a-1676-474f-9bc6-9e2ec395ba55\" style=\"padding-left: 10px;\" text = \"\"/>\n",
       "            "
      ],
      "text/plain": [
       "<IPython.core.display.HTML object>"
      ]
     },
     "metadata": {},
     "output_type": "display_data"
    },
    {
     "data": {
      "text/html": [
       "\n",
       "            <div style=\"float: left; border: 1px solid black; width:500px\">\n",
       "              <div id=\"54cffd59-6bc4-4a00-8096-023960ec6615\" style=\"background-color:blue; width:0%\">&nbsp;</div>\n",
       "            </div>\n",
       "            <label id=\"8a93aa50-f825-48c5-99cd-593acd0bc79c\" style=\"padding-left: 10px;\" text = \"\"/>\n",
       "            "
      ],
      "text/plain": [
       "<IPython.core.display.HTML object>"
      ]
     },
     "metadata": {},
     "output_type": "display_data"
    },
    {
     "data": {
      "text/html": [
       "\n",
       "            <div style=\"float: left; border: 1px solid black; width:500px\">\n",
       "              <div id=\"8a8a8879-976d-4f95-b221-1a19d7c26666\" style=\"background-color:blue; width:0%\">&nbsp;</div>\n",
       "            </div>\n",
       "            <label id=\"9a9f2627-fe96-49da-8698-fb4272d505a2\" style=\"padding-left: 10px;\" text = \"\"/>\n",
       "            "
      ],
      "text/plain": [
       "<IPython.core.display.HTML object>"
      ]
     },
     "metadata": {},
     "output_type": "display_data"
    },
    {
     "data": {
      "text/html": [
       "\n",
       "            <div style=\"float: left; border: 1px solid black; width:500px\">\n",
       "              <div id=\"8c5a6211-8fcf-4657-b3fb-c51f890de23b\" style=\"background-color:blue; width:0%\">&nbsp;</div>\n",
       "            </div>\n",
       "            <label id=\"83058aed-bed3-472a-886e-87d954026c99\" style=\"padding-left: 10px;\" text = \"\"/>\n",
       "            "
      ],
      "text/plain": [
       "<IPython.core.display.HTML object>"
      ]
     },
     "metadata": {},
     "output_type": "display_data"
    },
    {
     "data": {
      "text/html": [
       "\n",
       "            <div style=\"float: left; border: 1px solid black; width:500px\">\n",
       "              <div id=\"e66412a0-34ea-46b9-ad63-0dd07985c3ba\" style=\"background-color:blue; width:0%\">&nbsp;</div>\n",
       "            </div>\n",
       "            <label id=\"7fbd20b5-1c0b-49ac-9cdd-eba26aca7f52\" style=\"padding-left: 10px;\" text = \"\"/>\n",
       "            "
      ],
      "text/plain": [
       "<IPython.core.display.HTML object>"
      ]
     },
     "metadata": {},
     "output_type": "display_data"
    },
    {
     "data": {
      "text/html": [
       "\n",
       "            <div style=\"float: left; border: 1px solid black; width:500px\">\n",
       "              <div id=\"8c9fd8de-6ad4-48e0-955f-849066d0515d\" style=\"background-color:blue; width:0%\">&nbsp;</div>\n",
       "            </div>\n",
       "            <label id=\"0643b0bd-5649-415d-841f-473fa47a311a\" style=\"padding-left: 10px;\" text = \"\"/>\n",
       "            "
      ],
      "text/plain": [
       "<IPython.core.display.HTML object>"
      ]
     },
     "metadata": {},
     "output_type": "display_data"
    },
    {
     "data": {
      "text/html": [
       "\n",
       "            <div style=\"float: left; border: 1px solid black; width:500px\">\n",
       "              <div id=\"97ef1960-bec9-4528-be35-f87b3199ed33\" style=\"background-color:blue; width:0%\">&nbsp;</div>\n",
       "            </div>\n",
       "            <label id=\"52b9aa1e-0a1a-4795-b248-44409be305da\" style=\"padding-left: 10px;\" text = \"\"/>\n",
       "            "
      ],
      "text/plain": [
       "<IPython.core.display.HTML object>"
      ]
     },
     "metadata": {},
     "output_type": "display_data"
    },
    {
     "data": {
      "text/html": [
       "\n",
       "            <div style=\"float: left; border: 1px solid black; width:500px\">\n",
       "              <div id=\"709ad3ed-8a79-4f5d-983c-7d96bcc46915\" style=\"background-color:blue; width:0%\">&nbsp;</div>\n",
       "            </div>\n",
       "            <label id=\"c561b41f-ca6c-4fa1-9962-b6144d50eff1\" style=\"padding-left: 10px;\" text = \"\"/>\n",
       "            "
      ],
      "text/plain": [
       "<IPython.core.display.HTML object>"
      ]
     },
     "metadata": {},
     "output_type": "display_data"
    },
    {
     "data": {
      "text/html": [
       "\n",
       "            <div style=\"float: left; border: 1px solid black; width:500px\">\n",
       "              <div id=\"fae215ea-b68e-44c7-95e2-c6ffff24be3c\" style=\"background-color:blue; width:0%\">&nbsp;</div>\n",
       "            </div>\n",
       "            <label id=\"9fee5919-1492-4a32-9b9a-9c03efc93e2b\" style=\"padding-left: 10px;\" text = \"\"/>\n",
       "            "
      ],
      "text/plain": [
       "<IPython.core.display.HTML object>"
      ]
     },
     "metadata": {},
     "output_type": "display_data"
    },
    {
     "data": {
      "text/html": [
       "\n",
       "            <div style=\"float: left; border: 1px solid black; width:500px\">\n",
       "              <div id=\"46d4d759-8496-4d94-9346-da71cf4d564f\" style=\"background-color:blue; width:0%\">&nbsp;</div>\n",
       "            </div>\n",
       "            <label id=\"767911c0-039a-43b7-896b-62f7061610a6\" style=\"padding-left: 10px;\" text = \"\"/>\n",
       "            "
      ],
      "text/plain": [
       "<IPython.core.display.HTML object>"
      ]
     },
     "metadata": {},
     "output_type": "display_data"
    },
    {
     "data": {
      "text/html": [
       "\n",
       "            <div style=\"float: left; border: 1px solid black; width:500px\">\n",
       "              <div id=\"3eaabc71-c3fd-442e-aee9-807570d9cc15\" style=\"background-color:blue; width:0%\">&nbsp;</div>\n",
       "            </div>\n",
       "            <label id=\"4900561f-0cc8-4de7-83d0-26e176e897f3\" style=\"padding-left: 10px;\" text = \"\"/>\n",
       "            "
      ],
      "text/plain": [
       "<IPython.core.display.HTML object>"
      ]
     },
     "metadata": {},
     "output_type": "display_data"
    },
    {
     "data": {
      "text/html": [
       "\n",
       "            <div style=\"float: left; border: 1px solid black; width:500px\">\n",
       "              <div id=\"99bdf574-9b26-431f-aec7-9bad9310c895\" style=\"background-color:blue; width:0%\">&nbsp;</div>\n",
       "            </div>\n",
       "            <label id=\"31685061-7fe5-44ed-8667-ef169bfce8ef\" style=\"padding-left: 10px;\" text = \"\"/>\n",
       "            "
      ],
      "text/plain": [
       "<IPython.core.display.HTML object>"
      ]
     },
     "metadata": {},
     "output_type": "display_data"
    },
    {
     "data": {
      "text/html": [
       "\n",
       "            <div style=\"float: left; border: 1px solid black; width:500px\">\n",
       "              <div id=\"54664312-690c-4dfc-a8ba-e3f578511e3c\" style=\"background-color:blue; width:0%\">&nbsp;</div>\n",
       "            </div>\n",
       "            <label id=\"d6c42277-0e06-4d29-a642-5bae47eee387\" style=\"padding-left: 10px;\" text = \"\"/>\n",
       "            "
      ],
      "text/plain": [
       "<IPython.core.display.HTML object>"
      ]
     },
     "metadata": {},
     "output_type": "display_data"
    },
    {
     "data": {
      "text/html": [
       "\n",
       "            <div style=\"float: left; border: 1px solid black; width:500px\">\n",
       "              <div id=\"23c78300-ddbd-4f66-87ec-9600789efa8b\" style=\"background-color:blue; width:0%\">&nbsp;</div>\n",
       "            </div>\n",
       "            <label id=\"08eadf93-d33d-4c55-aef5-d741be33e107\" style=\"padding-left: 10px;\" text = \"\"/>\n",
       "            "
      ],
      "text/plain": [
       "<IPython.core.display.HTML object>"
      ]
     },
     "metadata": {},
     "output_type": "display_data"
    },
    {
     "data": {
      "text/html": [
       "\n",
       "            <div style=\"float: left; border: 1px solid black; width:500px\">\n",
       "              <div id=\"543729e5-ba86-4c2c-b4ec-4b9ead5ca994\" style=\"background-color:blue; width:0%\">&nbsp;</div>\n",
       "            </div>\n",
       "            <label id=\"16e1c7b0-bd0c-4183-944a-23c114f50df3\" style=\"padding-left: 10px;\" text = \"\"/>\n",
       "            "
      ],
      "text/plain": [
       "<IPython.core.display.HTML object>"
      ]
     },
     "metadata": {},
     "output_type": "display_data"
    },
    {
     "data": {
      "text/html": [
       "\n",
       "            <div style=\"float: left; border: 1px solid black; width:500px\">\n",
       "              <div id=\"44e6052d-d40f-45b6-9a18-ba032bb7a7a8\" style=\"background-color:blue; width:0%\">&nbsp;</div>\n",
       "            </div>\n",
       "            <label id=\"876ccf95-1382-4ac5-8a0c-db1dca9744a9\" style=\"padding-left: 10px;\" text = \"\"/>\n",
       "            "
      ],
      "text/plain": [
       "<IPython.core.display.HTML object>"
      ]
     },
     "metadata": {},
     "output_type": "display_data"
    },
    {
     "data": {
      "text/html": [
       "\n",
       "            <div style=\"float: left; border: 1px solid black; width:500px\">\n",
       "              <div id=\"649d10d6-67a0-4233-aec5-af7d6d6aa9b8\" style=\"background-color:blue; width:0%\">&nbsp;</div>\n",
       "            </div>\n",
       "            <label id=\"7345af56-96c2-4416-b49e-bb5441997926\" style=\"padding-left: 10px;\" text = \"\"/>\n",
       "            "
      ],
      "text/plain": [
       "<IPython.core.display.HTML object>"
      ]
     },
     "metadata": {},
     "output_type": "display_data"
    },
    {
     "data": {
      "text/html": [
       "\n",
       "            <div style=\"float: left; border: 1px solid black; width:500px\">\n",
       "              <div id=\"9d332aab-9742-434d-847c-83fb22baceaf\" style=\"background-color:blue; width:0%\">&nbsp;</div>\n",
       "            </div>\n",
       "            <label id=\"6892dedc-4db2-43fc-aaa8-716e89983139\" style=\"padding-left: 10px;\" text = \"\"/>\n",
       "            "
      ],
      "text/plain": [
       "<IPython.core.display.HTML object>"
      ]
     },
     "metadata": {},
     "output_type": "display_data"
    },
    {
     "data": {
      "text/html": [
       "\n",
       "            <div style=\"float: left; border: 1px solid black; width:500px\">\n",
       "              <div id=\"48558296-b164-461d-8519-3ab66acd0cb0\" style=\"background-color:blue; width:0%\">&nbsp;</div>\n",
       "            </div>\n",
       "            <label id=\"eaedb629-3648-48b4-ac43-409d617ee2b7\" style=\"padding-left: 10px;\" text = \"\"/>\n",
       "            "
      ],
      "text/plain": [
       "<IPython.core.display.HTML object>"
      ]
     },
     "metadata": {},
     "output_type": "display_data"
    },
    {
     "data": {
      "text/html": [
       "\n",
       "            <div style=\"float: left; border: 1px solid black; width:500px\">\n",
       "              <div id=\"ca1a3fd7-fb1e-41ec-8b93-cca422ff13f5\" style=\"background-color:blue; width:0%\">&nbsp;</div>\n",
       "            </div>\n",
       "            <label id=\"9d16a571-e23c-4ffd-9644-8703d7f75384\" style=\"padding-left: 10px;\" text = \"\"/>\n",
       "            "
      ],
      "text/plain": [
       "<IPython.core.display.HTML object>"
      ]
     },
     "metadata": {},
     "output_type": "display_data"
    },
    {
     "data": {
      "text/html": [
       "\n",
       "            <div style=\"float: left; border: 1px solid black; width:500px\">\n",
       "              <div id=\"a6c1bf7b-eef3-47cd-ac9f-537f8e39795d\" style=\"background-color:blue; width:0%\">&nbsp;</div>\n",
       "            </div>\n",
       "            <label id=\"dc444b58-226d-43a6-8c69-65305f760ab6\" style=\"padding-left: 10px;\" text = \"\"/>\n",
       "            "
      ],
      "text/plain": [
       "<IPython.core.display.HTML object>"
      ]
     },
     "metadata": {},
     "output_type": "display_data"
    },
    {
     "data": {
      "text/html": [
       "\n",
       "            <div style=\"float: left; border: 1px solid black; width:500px\">\n",
       "              <div id=\"acef6063-dd85-4daf-ade8-6e5e69392e08\" style=\"background-color:blue; width:0%\">&nbsp;</div>\n",
       "            </div>\n",
       "            <label id=\"a76ca5d1-9dfd-488e-a07e-fd0a5be3123e\" style=\"padding-left: 10px;\" text = \"\"/>\n",
       "            "
      ],
      "text/plain": [
       "<IPython.core.display.HTML object>"
      ]
     },
     "metadata": {},
     "output_type": "display_data"
    },
    {
     "data": {
      "text/html": [
       "\n",
       "            <div style=\"float: left; border: 1px solid black; width:500px\">\n",
       "              <div id=\"d023efe8-6884-4691-bc3f-6686041ea90c\" style=\"background-color:blue; width:0%\">&nbsp;</div>\n",
       "            </div>\n",
       "            <label id=\"79bc2123-b27e-461d-adde-4eff821e10b3\" style=\"padding-left: 10px;\" text = \"\"/>\n",
       "            "
      ],
      "text/plain": [
       "<IPython.core.display.HTML object>"
      ]
     },
     "metadata": {},
     "output_type": "display_data"
    },
    {
     "data": {
      "text/html": [
       "\n",
       "            <div style=\"float: left; border: 1px solid black; width:500px\">\n",
       "              <div id=\"4bdbbf21-5831-432e-b5ca-f5b32fad0132\" style=\"background-color:blue; width:0%\">&nbsp;</div>\n",
       "            </div>\n",
       "            <label id=\"15b19669-94f3-47b1-ae54-e6642dadd9f4\" style=\"padding-left: 10px;\" text = \"\"/>\n",
       "            "
      ],
      "text/plain": [
       "<IPython.core.display.HTML object>"
      ]
     },
     "metadata": {},
     "output_type": "display_data"
    },
    {
     "data": {
      "text/html": [
       "\n",
       "            <div style=\"float: left; border: 1px solid black; width:500px\">\n",
       "              <div id=\"a20ed7d1-9c6e-4901-b874-2cb3f36f2c2a\" style=\"background-color:blue; width:0%\">&nbsp;</div>\n",
       "            </div>\n",
       "            <label id=\"3c48ec94-a63c-47db-865a-4d240df1860e\" style=\"padding-left: 10px;\" text = \"\"/>\n",
       "            "
      ],
      "text/plain": [
       "<IPython.core.display.HTML object>"
      ]
     },
     "metadata": {},
     "output_type": "display_data"
    },
    {
     "data": {
      "text/html": [
       "\n",
       "            <div style=\"float: left; border: 1px solid black; width:500px\">\n",
       "              <div id=\"b9bccb5f-df4e-4b5a-9cd2-4f1fcdd7e8f2\" style=\"background-color:blue; width:0%\">&nbsp;</div>\n",
       "            </div>\n",
       "            <label id=\"715b740a-a254-46c7-b097-4da3414d5c22\" style=\"padding-left: 10px;\" text = \"\"/>\n",
       "            "
      ],
      "text/plain": [
       "<IPython.core.display.HTML object>"
      ]
     },
     "metadata": {},
     "output_type": "display_data"
    },
    {
     "data": {
      "text/html": [
       "\n",
       "            <div style=\"float: left; border: 1px solid black; width:500px\">\n",
       "              <div id=\"13596b4a-dbe9-4f9a-8326-474c3a48fc66\" style=\"background-color:blue; width:0%\">&nbsp;</div>\n",
       "            </div>\n",
       "            <label id=\"e9eb80d9-d7da-4768-90d3-8613afb6e667\" style=\"padding-left: 10px;\" text = \"\"/>\n",
       "            "
      ],
      "text/plain": [
       "<IPython.core.display.HTML object>"
      ]
     },
     "metadata": {},
     "output_type": "display_data"
    },
    {
     "data": {
      "text/html": [
       "\n",
       "            <div style=\"float: left; border: 1px solid black; width:500px\">\n",
       "              <div id=\"24925880-8cd9-4a3f-a7db-956927fa3747\" style=\"background-color:blue; width:0%\">&nbsp;</div>\n",
       "            </div>\n",
       "            <label id=\"9e103769-a3d3-424c-b34c-f020b757e8d1\" style=\"padding-left: 10px;\" text = \"\"/>\n",
       "            "
      ],
      "text/plain": [
       "<IPython.core.display.HTML object>"
      ]
     },
     "metadata": {},
     "output_type": "display_data"
    },
    {
     "data": {
      "text/html": [
       "\n",
       "            <div style=\"float: left; border: 1px solid black; width:500px\">\n",
       "              <div id=\"d2604aca-749b-4c80-a8eb-3b44f159cdc7\" style=\"background-color:blue; width:0%\">&nbsp;</div>\n",
       "            </div>\n",
       "            <label id=\"64ac5ac4-e00f-4614-be33-9bcefc156b71\" style=\"padding-left: 10px;\" text = \"\"/>\n",
       "            "
      ],
      "text/plain": [
       "<IPython.core.display.HTML object>"
      ]
     },
     "metadata": {},
     "output_type": "display_data"
    },
    {
     "data": {
      "text/html": [
       "\n",
       "            <div style=\"float: left; border: 1px solid black; width:500px\">\n",
       "              <div id=\"5164eb70-6290-4497-b0e6-5fe239c294cd\" style=\"background-color:blue; width:0%\">&nbsp;</div>\n",
       "            </div>\n",
       "            <label id=\"b65a2832-c922-42f4-9717-1b297be03957\" style=\"padding-left: 10px;\" text = \"\"/>\n",
       "            "
      ],
      "text/plain": [
       "<IPython.core.display.HTML object>"
      ]
     },
     "metadata": {},
     "output_type": "display_data"
    },
    {
     "data": {
      "text/html": [
       "\n",
       "            <div style=\"float: left; border: 1px solid black; width:500px\">\n",
       "              <div id=\"97a7f192-7e5e-468b-9754-82843b76d442\" style=\"background-color:blue; width:0%\">&nbsp;</div>\n",
       "            </div>\n",
       "            <label id=\"f1b07b25-addd-4439-9ba9-388df682c6fe\" style=\"padding-left: 10px;\" text = \"\"/>\n",
       "            "
      ],
      "text/plain": [
       "<IPython.core.display.HTML object>"
      ]
     },
     "metadata": {},
     "output_type": "display_data"
    },
    {
     "data": {
      "text/html": [
       "\n",
       "            <div style=\"float: left; border: 1px solid black; width:500px\">\n",
       "              <div id=\"7ab35edd-6d36-4d69-8b16-2d59f6c4346c\" style=\"background-color:blue; width:0%\">&nbsp;</div>\n",
       "            </div>\n",
       "            <label id=\"330a7b85-dca6-4bde-8d74-06b5b0808739\" style=\"padding-left: 10px;\" text = \"\"/>\n",
       "            "
      ],
      "text/plain": [
       "<IPython.core.display.HTML object>"
      ]
     },
     "metadata": {},
     "output_type": "display_data"
    },
    {
     "data": {
      "text/html": [
       "\n",
       "            <div style=\"float: left; border: 1px solid black; width:500px\">\n",
       "              <div id=\"2588d3fc-58cc-488e-bb2d-d7f4d2e81bab\" style=\"background-color:blue; width:0%\">&nbsp;</div>\n",
       "            </div>\n",
       "            <label id=\"b2b0dbb5-24b2-482a-b185-f5142f5f0498\" style=\"padding-left: 10px;\" text = \"\"/>\n",
       "            "
      ],
      "text/plain": [
       "<IPython.core.display.HTML object>"
      ]
     },
     "metadata": {},
     "output_type": "display_data"
    },
    {
     "data": {
      "text/html": [
       "\n",
       "            <div style=\"float: left; border: 1px solid black; width:500px\">\n",
       "              <div id=\"06d453c1-b685-4037-ba96-b1db986633ac\" style=\"background-color:blue; width:0%\">&nbsp;</div>\n",
       "            </div>\n",
       "            <label id=\"78aac4cd-8e50-4f38-869a-8924956c6de4\" style=\"padding-left: 10px;\" text = \"\"/>\n",
       "            "
      ],
      "text/plain": [
       "<IPython.core.display.HTML object>"
      ]
     },
     "metadata": {},
     "output_type": "display_data"
    },
    {
     "data": {
      "text/html": [
       "\n",
       "            <div style=\"float: left; border: 1px solid black; width:500px\">\n",
       "              <div id=\"66babdbe-da6c-4856-9d56-75ada9e19e8c\" style=\"background-color:blue; width:0%\">&nbsp;</div>\n",
       "            </div>\n",
       "            <label id=\"1247e2d1-e4f4-4fdc-b775-10d9ea0932e5\" style=\"padding-left: 10px;\" text = \"\"/>\n",
       "            "
      ],
      "text/plain": [
       "<IPython.core.display.HTML object>"
      ]
     },
     "metadata": {},
     "output_type": "display_data"
    },
    {
     "data": {
      "text/html": [
       "\n",
       "            <div style=\"float: left; border: 1px solid black; width:500px\">\n",
       "              <div id=\"8a288900-3e7a-4794-9100-22762cd12eb6\" style=\"background-color:blue; width:0%\">&nbsp;</div>\n",
       "            </div>\n",
       "            <label id=\"7edc921a-5917-4f9a-a9c8-2621cc78c454\" style=\"padding-left: 10px;\" text = \"\"/>\n",
       "            "
      ],
      "text/plain": [
       "<IPython.core.display.HTML object>"
      ]
     },
     "metadata": {},
     "output_type": "display_data"
    },
    {
     "data": {
      "text/html": [
       "\n",
       "            <div style=\"float: left; border: 1px solid black; width:500px\">\n",
       "              <div id=\"6bfb7781-bcff-42e1-a11c-bb7094d85812\" style=\"background-color:blue; width:0%\">&nbsp;</div>\n",
       "            </div>\n",
       "            <label id=\"b28db339-dd19-472e-a2b3-64fcbcbcc8b5\" style=\"padding-left: 10px;\" text = \"\"/>\n",
       "            "
      ],
      "text/plain": [
       "<IPython.core.display.HTML object>"
      ]
     },
     "metadata": {},
     "output_type": "display_data"
    },
    {
     "data": {
      "text/html": [
       "\n",
       "            <div style=\"float: left; border: 1px solid black; width:500px\">\n",
       "              <div id=\"9af1b8ec-7d1f-4468-b200-28d06bd051ee\" style=\"background-color:blue; width:0%\">&nbsp;</div>\n",
       "            </div>\n",
       "            <label id=\"17263f34-ecd5-42cb-9a14-d7e9fd802bbe\" style=\"padding-left: 10px;\" text = \"\"/>\n",
       "            "
      ],
      "text/plain": [
       "<IPython.core.display.HTML object>"
      ]
     },
     "metadata": {},
     "output_type": "display_data"
    },
    {
     "data": {
      "text/html": [
       "\n",
       "            <div style=\"float: left; border: 1px solid black; width:500px\">\n",
       "              <div id=\"0b5d47a5-3213-4e92-8f2f-102906a7360b\" style=\"background-color:blue; width:0%\">&nbsp;</div>\n",
       "            </div>\n",
       "            <label id=\"e7f703d7-cbbf-4a35-959b-0f2b84e602de\" style=\"padding-left: 10px;\" text = \"\"/>\n",
       "            "
      ],
      "text/plain": [
       "<IPython.core.display.HTML object>"
      ]
     },
     "metadata": {},
     "output_type": "display_data"
    },
    {
     "data": {
      "text/html": [
       "\n",
       "            <div style=\"float: left; border: 1px solid black; width:500px\">\n",
       "              <div id=\"14f74fab-b03d-47d8-b23e-067877b7b3ad\" style=\"background-color:blue; width:0%\">&nbsp;</div>\n",
       "            </div>\n",
       "            <label id=\"e425dbaa-fca9-4f30-9377-8dfca13a3e13\" style=\"padding-left: 10px;\" text = \"\"/>\n",
       "            "
      ],
      "text/plain": [
       "<IPython.core.display.HTML object>"
      ]
     },
     "metadata": {},
     "output_type": "display_data"
    },
    {
     "data": {
      "text/html": [
       "\n",
       "            <div style=\"float: left; border: 1px solid black; width:500px\">\n",
       "              <div id=\"4c2494e8-526f-4ad9-88d2-93f5aec9d171\" style=\"background-color:blue; width:0%\">&nbsp;</div>\n",
       "            </div>\n",
       "            <label id=\"3cca0486-49e9-4d2c-995c-bab5a081d366\" style=\"padding-left: 10px;\" text = \"\"/>\n",
       "            "
      ],
      "text/plain": [
       "<IPython.core.display.HTML object>"
      ]
     },
     "metadata": {},
     "output_type": "display_data"
    },
    {
     "data": {
      "text/html": [
       "\n",
       "            <div style=\"float: left; border: 1px solid black; width:500px\">\n",
       "              <div id=\"a65453b4-9828-4bc1-b5e9-182a7ef6d8b3\" style=\"background-color:blue; width:0%\">&nbsp;</div>\n",
       "            </div>\n",
       "            <label id=\"c09d7009-2fdf-44e5-ada1-c2b3052bcc79\" style=\"padding-left: 10px;\" text = \"\"/>\n",
       "            "
      ],
      "text/plain": [
       "<IPython.core.display.HTML object>"
      ]
     },
     "metadata": {},
     "output_type": "display_data"
    },
    {
     "data": {
      "text/html": [
       "\n",
       "            <div style=\"float: left; border: 1px solid black; width:500px\">\n",
       "              <div id=\"a72d1cab-abb1-4ce2-96b0-a7e1902a5865\" style=\"background-color:blue; width:0%\">&nbsp;</div>\n",
       "            </div>\n",
       "            <label id=\"e4e546fd-7df9-4bee-95e9-a0395a23cf05\" style=\"padding-left: 10px;\" text = \"\"/>\n",
       "            "
      ],
      "text/plain": [
       "<IPython.core.display.HTML object>"
      ]
     },
     "metadata": {},
     "output_type": "display_data"
    },
    {
     "data": {
      "text/html": [
       "\n",
       "            <div style=\"float: left; border: 1px solid black; width:500px\">\n",
       "              <div id=\"cd37ec9d-68c0-4f3c-8c14-6253efaf8568\" style=\"background-color:blue; width:0%\">&nbsp;</div>\n",
       "            </div>\n",
       "            <label id=\"4324163c-e282-435c-bce6-1230725ec4e7\" style=\"padding-left: 10px;\" text = \"\"/>\n",
       "            "
      ],
      "text/plain": [
       "<IPython.core.display.HTML object>"
      ]
     },
     "metadata": {},
     "output_type": "display_data"
    },
    {
     "data": {
      "text/html": [
       "\n",
       "            <div style=\"float: left; border: 1px solid black; width:500px\">\n",
       "              <div id=\"ce1e7e2a-8f36-43a0-911d-f3da2f265ceb\" style=\"background-color:blue; width:0%\">&nbsp;</div>\n",
       "            </div>\n",
       "            <label id=\"68291a1c-a30c-4938-8003-b0200971b0c6\" style=\"padding-left: 10px;\" text = \"\"/>\n",
       "            "
      ],
      "text/plain": [
       "<IPython.core.display.HTML object>"
      ]
     },
     "metadata": {},
     "output_type": "display_data"
    },
    {
     "name": "stdout",
     "output_type": "stream",
     "text": [
      "Features for all teams have been fitted!\n"
     ]
    }
   ],
   "source": [
    "megadata = {} # store the data that our Generator will rely on\n",
    "\n",
    "for team_name in unique_teams:\n",
    "    \n",
    "    feature_dis_paras = []\n",
    "    data = all_team_sim_data[team_name]\n",
    "    \n",
    "    # 5 features for each team\n",
    "    for i in range(5): \n",
    "        f = Fitter(data[:, i])\n",
    "        f.distributions = selected_distributions\n",
    "        f.fit()\n",
    "        best_paras = f.get_best(method='sumsquare_error')\n",
    "        feature_dis_paras.append(best_paras)\n",
    "        \n",
    "    megadata[team_name] = feature_dis_paras\n",
    "    \n",
    "print('Features for all teams have been fitted!')"
   ]
  },
  {
   "cell_type": "markdown",
   "metadata": {},
   "source": [
    "## 7 Simulation"
   ]
  },
  {
   "cell_type": "code",
   "execution_count": 87,
   "metadata": {},
   "outputs": [],
   "source": [
    "DATA = megadata.copy() # data that Generator must rely on\n",
    "\n",
    "GEN = {\n",
    " 'alpha': stats.alpha.rvs,\n",
    " 'beta': stats.beta.rvs,\n",
    " 'chi': stats.chi.rvs,\n",
    " 'cosine': stats.cosine.rvs,\n",
    " 'dgamma': stats.dgamma.rvs,\n",
    " 'dweibull':stats.dweibull.rvs,\n",
    " 'f':stats.f.rvs,\n",
    " 'fisk':stats.fisk.rvs,\n",
    " 'gamma': stats.gamma.rvs,\n",
    " 'maxwell':stats.maxwell.rvs,\n",
    " 'norm':stats.norm.rvs,\n",
    " 'pareto':stats.pareto.rvs,\n",
    " 't':stats.t.rvs,\n",
    "}\n",
    "\n",
    "# feature scaler + fine-turned SVM \n",
    "DIS = make_pipeline(scaler, Dis)"
   ]
  },
  {
   "cell_type": "code",
   "execution_count": 88,
   "metadata": {},
   "outputs": [],
   "source": [
    "class Game:\n",
    "    \n",
    "    '''\n",
    "    \n",
    "    A game between two teams:\n",
    "    \n",
    "    - feature values sampled from Generator\n",
    "    - win/loss predicted by Discriminator\n",
    "    \n",
    "    '''\n",
    "    \n",
    "    def __init__ (self, random_state = None):\n",
    "        \n",
    "        self.random_state = random_state # keep this to None for making simulations \n",
    "    \n",
    "    def predict(self, team1, team2, num_games = 1):\n",
    "        \n",
    "        ''' predict the win or loss of  n game(s) played by two tems'''\n",
    "        \n",
    "        assert num_games >= 1, \"at least one game must be played\"\n",
    "        # output numpy array\n",
    "        team_1_feature_data = DATA[team1]\n",
    "        team_2_feature_data = DATA[team2]\n",
    "        features = []\n",
    "        for feature_paras_1 in team_1_feature_data:\n",
    "            sample_1 = self.sampling(feature_paras_1, size = num_games) # gives a list if num_games> 1\n",
    "            features.append(sample_1) \n",
    "            \n",
    "        for feature_paras_2 in team_2_feature_data:\n",
    "            sample_2 = self.sampling(feature_paras_2, size = num_games) # gives a list if num_games> 1\n",
    "            features.append(sample_2)\n",
    "            \n",
    "        features = np.array(features).T \n",
    "        win_loss = DIS.predict(features)\n",
    "        \n",
    "        return list(win_loss) # a list of win/loss from num_games\n",
    "    \n",
    "    \n",
    "    def sampling(self, dic, size = 1, random_state = None):\n",
    "        \n",
    "        '''generate feature values used for making win/loss prediction'''\n",
    "                        \n",
    "        dis_name = list(dic.keys())[0] # get the type\n",
    "        paras = list(dic.values())[0] # get the paras\n",
    "    \n",
    "        # get sample\n",
    "        sample = GEN[dis_name](*paras, size = size,  random_state =  random_state)\n",
    "            \n",
    "        return sample "
   ]
  },
  {
   "cell_type": "code",
   "execution_count": 89,
   "metadata": {},
   "outputs": [],
   "source": [
    "class FinalTournament(Game):\n",
    "    \n",
    "    ''' Best-of-7 elimination, 16 teams, 4 rounds in total to win championship '''\n",
    "    \n",
    "    def __init__(self, n_games_per_group = 7, winning_threshold = 4, random_state = None):\n",
    "\n",
    "        self.n_games_per_group  = n_games_per_group\n",
    "        self.winning_threshold = winning_threshold\n",
    "        self.team_list = None\n",
    "        self.rounds = {} # keep track the number of times a team wins at each round \n",
    "        super().__init__(random_state)\n",
    "        \n",
    "    \n",
    "    def simulate(self, group_list, n_simulation = 1, probs = True):\n",
    "        \n",
    "        ''' simulate the entire playoff n times and also record the accumulated wins'''\n",
    "             \n",
    "        # update the list of teams\n",
    "        self.rounds = {}\n",
    "        self.team_list = [i[0] for i in group_list] + [i[1] for i in group_list]\n",
    "        \n",
    "        for i in range(n_simulation):\n",
    "            cham = self.one_time_simu(group_list)\n",
    "        if probs:\n",
    "            self.rounds_probs =  self._compute_probs()\n",
    "            \n",
    "    \n",
    "    def one_time_simu(self, group_list, verbose = False, probs = False):\n",
    "        \n",
    "        ''' simulate the entire playoff once and also record the accumulated wins'''\n",
    "        \n",
    "        # update the list of teams if haven't done so\n",
    "        if self.team_list == None: \n",
    "            self.team_list = [i[0] for i in group_list] + [i[1] for i in group_list]\n",
    "        round_number, done = 0, 0\n",
    "        while not done: \n",
    "            all_group_winners, group_list = self.play_round(group_list)\n",
    "            # retrive round stats\n",
    "            try:\n",
    "                updated_round_stats = self.rounds[round_number]\n",
    "            except KeyError:\n",
    "                updated_round_stats = {}\n",
    "                for team in self.team_list:\n",
    "                    updated_round_stats[team] = 0\n",
    "            # if a team wins, record + 1 \n",
    "            for winner in all_group_winners:\n",
    "                try: \n",
    "                    updated_round_stats[winner] += 1\n",
    "                except KeyError:\n",
    "                    pass     \n",
    "            self.rounds[round_number] = updated_round_stats\n",
    "            if verbose:\n",
    "                print('{} round played'.format(round_number))\n",
    "            if probs:\n",
    "                self.rounds_probs = self._compute_probs()\n",
    "            if type(group_list) != list: # if it becomes the final\n",
    "                done = 1\n",
    "            round_number += 1\n",
    "            \n",
    "        return group_list\n",
    "\n",
    "        \n",
    "    def play_round(self, group_list):\n",
    "        \n",
    "        '''play a round of games based of a list of paired teams'''\n",
    "        \n",
    "        all_group_winners = [] \n",
    "        # play each group and get the group winner\n",
    "        for group in group_list:\n",
    "            winner = self.play_n_games(group[0], group[1])\n",
    "            all_group_winners.append(winner)\n",
    "        \n",
    "        if len(all_group_winners) > 1:\n",
    "            new_group_list = []         \n",
    "            for index in range(0, len(all_group_winners), 2):\n",
    "                # first winner, second winner\n",
    "                new_group = [all_group_winners[index], all_group_winners[index + 1]]\n",
    "                new_group_list.append(new_group)\n",
    "                \n",
    "            return all_group_winners, new_group_list\n",
    "        else:  \n",
    "            return all_group_winners, winner\n",
    "        \n",
    "        \n",
    "    def play_n_games(self, team1, team2):\n",
    "        \n",
    "        '''simulate data, and then use our classifier to predict win/loss'''\n",
    "        \n",
    "        result = Game().predict(team1, team2, self.n_games_per_group)\n",
    "        if sum(result[:4]) == self.winning_threshold or sum(result) >= self.winning_threshold:\n",
    "            winner = team1 # home team wins\n",
    "        else:\n",
    "            winner = team2 # visitor team wins\n",
    "            \n",
    "        return winner\n",
    "    \n",
    "    \n",
    "    def _compute_probs(self):\n",
    "        \n",
    "        '''prob = wins for a team / sum of wins for all teams at a particular round'''\n",
    "        \n",
    "        rounds_probs = copy.deepcopy(self.rounds)\n",
    "        for round_number, round_stats in rounds_probs.items():\n",
    "            m = np.sum(list(round_stats.values()))\n",
    "            for k, v in rounds_probs[round_number].items():\n",
    "                rounds_probs[round_number][k] = v / m\n",
    "                \n",
    "        return rounds_probs"
   ]
  },
  {
   "cell_type": "code",
   "execution_count": 90,
   "metadata": {},
   "outputs": [],
   "source": [
    "# the below roster is based on 2020-2021 NBA playoffs\n",
    "# https://en.wikipedia.org/wiki/2020%E2%80%9321_NBA_season\n",
    "\n",
    "group_list = [\n",
    "     # Eastern Conference\n",
    "     ('76ers', 'Wizards'),          # group A \n",
    "     ('Knicks', 'Hawks'),           # group B\n",
    "    \n",
    "     ('Bucks', 'Heat'),             # group C\n",
    "     ('Nets', 'Celtics'),           # group D\n",
    "    \n",
    "     # Western Conference\n",
    "     ('Jazz', 'Grizzlies'),         # group E\n",
    "     ('Clippers', 'Mavericks'),     # group F\n",
    "    \n",
    "     ('Nuggets', 'Trail Blazers'),  # group G\n",
    "     ('Suns', 'Lakers')]            # group H"
   ]
  },
  {
   "cell_type": "code",
   "execution_count": 91,
   "metadata": {},
   "outputs": [],
   "source": [
    "# initiate a playoff\n",
    "playoff = FinalTournament()\n",
    "# simulate the playoff 5,000 times\n",
    "playoff.simulate(group_list, n_simulation = 5000)"
   ]
  },
  {
   "cell_type": "code",
   "execution_count": 92,
   "metadata": {},
   "outputs": [
    {
     "data": {
      "text/html": [
       "<div>\n",
       "<style scoped>\n",
       "    .dataframe tbody tr th:only-of-type {\n",
       "        vertical-align: middle;\n",
       "    }\n",
       "\n",
       "    .dataframe tbody tr th {\n",
       "        vertical-align: top;\n",
       "    }\n",
       "\n",
       "    .dataframe thead th {\n",
       "        text-align: right;\n",
       "    }\n",
       "</style>\n",
       "<table border=\"1\" class=\"dataframe\">\n",
       "  <thead>\n",
       "    <tr style=\"text-align: right;\">\n",
       "      <th></th>\n",
       "      <th>0</th>\n",
       "      <th>1</th>\n",
       "      <th>2</th>\n",
       "      <th>3</th>\n",
       "    </tr>\n",
       "  </thead>\n",
       "  <tbody>\n",
       "    <tr>\n",
       "      <th>76ers</th>\n",
       "      <td>0.078125</td>\n",
       "      <td>0.10700</td>\n",
       "      <td>0.0976</td>\n",
       "      <td>0.1030</td>\n",
       "    </tr>\n",
       "    <tr>\n",
       "      <th>Knicks</th>\n",
       "      <td>0.054300</td>\n",
       "      <td>0.02460</td>\n",
       "      <td>0.0137</td>\n",
       "      <td>0.0076</td>\n",
       "    </tr>\n",
       "    <tr>\n",
       "      <th>Bucks</th>\n",
       "      <td>0.099875</td>\n",
       "      <td>0.09435</td>\n",
       "      <td>0.0949</td>\n",
       "      <td>0.1040</td>\n",
       "    </tr>\n",
       "    <tr>\n",
       "      <th>Nets</th>\n",
       "      <td>0.111825</td>\n",
       "      <td>0.13580</td>\n",
       "      <td>0.1808</td>\n",
       "      <td>0.2530</td>\n",
       "    </tr>\n",
       "    <tr>\n",
       "      <th>Jazz</th>\n",
       "      <td>0.087000</td>\n",
       "      <td>0.10075</td>\n",
       "      <td>0.0873</td>\n",
       "      <td>0.0568</td>\n",
       "    </tr>\n",
       "    <tr>\n",
       "      <th>Clippers</th>\n",
       "      <td>0.102825</td>\n",
       "      <td>0.10290</td>\n",
       "      <td>0.1116</td>\n",
       "      <td>0.0944</td>\n",
       "    </tr>\n",
       "    <tr>\n",
       "      <th>Nuggets</th>\n",
       "      <td>0.115875</td>\n",
       "      <td>0.15185</td>\n",
       "      <td>0.1706</td>\n",
       "      <td>0.1726</td>\n",
       "    </tr>\n",
       "    <tr>\n",
       "      <th>Suns</th>\n",
       "      <td>0.116300</td>\n",
       "      <td>0.09140</td>\n",
       "      <td>0.0956</td>\n",
       "      <td>0.0902</td>\n",
       "    </tr>\n",
       "    <tr>\n",
       "      <th>Wizards</th>\n",
       "      <td>0.046875</td>\n",
       "      <td>0.06025</td>\n",
       "      <td>0.0521</td>\n",
       "      <td>0.0482</td>\n",
       "    </tr>\n",
       "    <tr>\n",
       "      <th>Hawks</th>\n",
       "      <td>0.070700</td>\n",
       "      <td>0.05815</td>\n",
       "      <td>0.0493</td>\n",
       "      <td>0.0464</td>\n",
       "    </tr>\n",
       "    <tr>\n",
       "      <th>Heat</th>\n",
       "      <td>0.025125</td>\n",
       "      <td>0.01345</td>\n",
       "      <td>0.0078</td>\n",
       "      <td>0.0064</td>\n",
       "    </tr>\n",
       "    <tr>\n",
       "      <th>Celtics</th>\n",
       "      <td>0.013175</td>\n",
       "      <td>0.00640</td>\n",
       "      <td>0.0038</td>\n",
       "      <td>0.0022</td>\n",
       "    </tr>\n",
       "    <tr>\n",
       "      <th>Grizzlies</th>\n",
       "      <td>0.038000</td>\n",
       "      <td>0.03560</td>\n",
       "      <td>0.0261</td>\n",
       "      <td>0.0130</td>\n",
       "    </tr>\n",
       "    <tr>\n",
       "      <th>Mavericks</th>\n",
       "      <td>0.022175</td>\n",
       "      <td>0.01075</td>\n",
       "      <td>0.0071</td>\n",
       "      <td>0.0022</td>\n",
       "    </tr>\n",
       "    <tr>\n",
       "      <th>Trail Blazers</th>\n",
       "      <td>0.009125</td>\n",
       "      <td>0.00520</td>\n",
       "      <td>0.0015</td>\n",
       "      <td>0.0000</td>\n",
       "    </tr>\n",
       "    <tr>\n",
       "      <th>Lakers</th>\n",
       "      <td>0.008700</td>\n",
       "      <td>0.00155</td>\n",
       "      <td>0.0002</td>\n",
       "      <td>0.0000</td>\n",
       "    </tr>\n",
       "  </tbody>\n",
       "</table>\n",
       "</div>"
      ],
      "text/plain": [
       "                      0        1       2       3\n",
       "76ers          0.078125  0.10700  0.0976  0.1030\n",
       "Knicks         0.054300  0.02460  0.0137  0.0076\n",
       "Bucks          0.099875  0.09435  0.0949  0.1040\n",
       "Nets           0.111825  0.13580  0.1808  0.2530\n",
       "Jazz           0.087000  0.10075  0.0873  0.0568\n",
       "Clippers       0.102825  0.10290  0.1116  0.0944\n",
       "Nuggets        0.115875  0.15185  0.1706  0.1726\n",
       "Suns           0.116300  0.09140  0.0956  0.0902\n",
       "Wizards        0.046875  0.06025  0.0521  0.0482\n",
       "Hawks          0.070700  0.05815  0.0493  0.0464\n",
       "Heat           0.025125  0.01345  0.0078  0.0064\n",
       "Celtics        0.013175  0.00640  0.0038  0.0022\n",
       "Grizzlies      0.038000  0.03560  0.0261  0.0130\n",
       "Mavericks      0.022175  0.01075  0.0071  0.0022\n",
       "Trail Blazers  0.009125  0.00520  0.0015  0.0000\n",
       "Lakers         0.008700  0.00155  0.0002  0.0000"
      ]
     },
     "execution_count": 92,
     "metadata": {},
     "output_type": "execute_result"
    }
   ],
   "source": [
    "# see the winning probabilities from 5,000 playoffs\n",
    "round_df = pd.DataFrame(playoff.rounds_probs)\n",
    "round_df"
   ]
  },
  {
   "cell_type": "markdown",
   "metadata": {},
   "source": [
    "## 8 Visualization"
   ]
  },
  {
   "cell_type": "code",
   "execution_count": 93,
   "metadata": {},
   "outputs": [],
   "source": [
    "def plotting(rounds_data):\n",
    "    \n",
    "    rounds_stats = list(rounds_data.values())\n",
    "    team_names = list(rounds_stats[0].keys())\n",
    "    \n",
    "    # x is number of rounds used for labels, y is a 2-D array of (n_teams, n_rounds) used for data\n",
    "    x = list(rounds_data.keys())\n",
    "    y = np.array([list(r.values()) for r in rounds_stats]).T \n",
    "    \n",
    "    # we need at least 16 different colors, one for each team\n",
    "    c_1 =  sns.color_palette('tab10', n_colors = 10)\n",
    "    c_2 =  sns.color_palette(\"pastel\", n_colors = 10)\n",
    "    color_map = c_1 + c_2 \n",
    "    \n",
    "    fig = plt.figure()\n",
    "    plt.stackplot(x, y, labels = team_names, colors = color_map) \n",
    "    plt.legend(bbox_to_anchor=(1.1, 1.1), loc = 'upper left', fontsize=13)\n",
    "    plt.xticks(x, fontsize=14)\n",
    "    plt.yticks(fontsize=14)\n",
    "    plt.xlabel('Round Number', fontsize = 15)\n",
    "    plt.title('Winning probabilities by all Teams & Rounds', pad = 20, fontsize = 24)\n",
    "    plt.tight_layout()\n",
    "    plt.show()\n",
    "    \n",
    "    return fig"
   ]
  },
  {
   "cell_type": "code",
   "execution_count": 94,
   "metadata": {},
   "outputs": [
    {
     "data": {
      "image/png": "[encoded data removed]",
      "text/plain": [
       "<Figure size 800x400 with 1 Axes>"
      ]
     },
     "metadata": {},
     "output_type": "display_data"
    }
   ],
   "source": [
    "# check that a team's wins should get less and less in later rounds\n",
    "fig = plotting(playoff.rounds)"
   ]
  },
  {
   "cell_type": "code",
   "execution_count": 95,
   "metadata": {},
   "outputs": [
    {
     "data": {
      "image/png": "[encoded data removed]",
      "text/plain": [
       "<Figure size 800x400 with 1 Axes>"
      ]
     },
     "metadata": {},
     "output_type": "display_data"
    }
   ],
   "source": [
    "# plot the results: probabilities of winning for all teams at each round\n",
    "fig = plotting(playoff.rounds_probs)"
   ]
  },
  {
   "cell_type": "code",
   "execution_count": 96,
   "metadata": {},
   "outputs": [
    {
     "name": "stdout",
     "output_type": "stream",
     "text": [
      "Over all rounds winning probabilities:\n",
      "Nets        0.170356\n",
      "Nuggets     0.152731\n",
      "Clippers    0.102931\n",
      "Suns        0.098375\n",
      "Bucks       0.098281\n",
      "Name: 4, dtype: float64\n",
      "The final round winning probabilities:\n",
      "Nets        0.2530\n",
      "Nuggets     0.1726\n",
      "Bucks       0.1040\n",
      "76ers       0.1030\n",
      "Clippers    0.0944\n",
      "Name: 3, dtype: float64\n"
     ]
    }
   ],
   "source": [
    "# over all rounds winning probabilities\n",
    "overall_rounds_df = round_df\n",
    "overall_rounds_df[4] = (round_df[0] + round_df[1] + round_df[2] + round_df[3])/4\n",
    "overall_rounds_res = overall_rounds_df.sort_values(by=4,ascending=False)\n",
    "print('Over all rounds winning probabilities:')\n",
    "print(overall_rounds_res[4].head(5))\n",
    "\n",
    "# the final round winning probabilities\n",
    "final_round_res = round_df.sort_values(by=3,ascending=False)\n",
    "print('The final round winning probabilities:')\n",
    "print(final_round_res[3].head(5))"
   ]
  },
  {
   "cell_type": "markdown",
   "metadata": {},
   "source": [
    "## 9 Result\n",
    "\n",
    "| type | winner |  \n",
    "| :-: | :-:|\n",
    "| 模型预测结果 | Nets > Nuggets > Bucks |  \n",
    "| 实际结果 | Bucks |"
   ]
  }
 ],
 "metadata": {
  "kernelspec": {
   "display_name": "Python 3.7.9 ('PYenv')",
   "language": "python",
   "name": "python3"
  },
  "language_info": {
   "codemirror_mode": {
    "name": "ipython",
    "version": 3
   },
   "file_extension": ".py",
   "mimetype": "text/x-python",
   "name": "python",
   "nbconvert_exporter": "python",
   "pygments_lexer": "ipython3",
   "version": "3.7.9"
  },
  "orig_nbformat": 4,
  "vscode": {
   "interpreter": {
    "hash": "284f23ca95f1c91dddf7ca4e850839d061806cc55f3144a2338c62c5a7ad7bbf"
   }
  }
 },
 "nbformat": 4,
 "nbformat_minor": 2
}
